{
 "cells": [
  {
   "cell_type": "markdown",
   "id": "8981790c-c276-40e6-b280-bfc1203ba992",
   "metadata": {},
   "source": [
    "## GHCN Example\n",
    "GHCN is a collection of weather station data collected from the year 1763 to present.\n",
    "This notebook illustrates how to read ghcn data using h5pyd and query for sp\n",
    "See: https://www.ncei.noaa.gov/products/land-based-station/global-historical-climatology-network-daily,\n",
    "for a description of the format."
   ]
  },
  {
   "cell_type": "code",
   "execution_count": 1,
   "id": "92243680-dac5-4c3f-a569-fdad60a904f7",
   "metadata": {},
   "outputs": [],
   "source": [
    "import h5pyd\n",
    "import pandas as pd"
   ]
  },
  {
   "cell_type": "code",
   "execution_count": 3,
   "id": "b89a52b6-d7db-427e-bede-63aef41a3151",
   "metadata": {},
   "outputs": [
    {
     "name": "stdout",
     "output_type": "stream",
     "text": [
      "ghcn                                                folder   2021-11-09 04:58:44 /shared/ghcn/\n",
      "ghcn                                   90.0G        domain   2022-11-25 15:38:14 /shared/ghcn/ghcn.h5\n",
      "ghcn                                                folder   2021-11-12 18:56:19 /shared/ghcn/year\n",
      "3 items\n",
      "90.0G bytes\n"
     ]
    }
   ],
   "source": [
    "! hsls -H -v --bucket hdflab2 /shared/ghcn/"
   ]
  },
  {
   "cell_type": "code",
   "execution_count": 5,
   "id": "b804dd23-0336-40ec-97bd-92ec3967e90c",
   "metadata": {},
   "outputs": [],
   "source": [
    "# set use_cache to false as the domain will be updated periodically\n",
    "f = h5pyd.File(\"/shared/ghcn/ghcn.h5\", bucket=\"hdflab2\", use_cache=False)"
   ]
  },
  {
   "cell_type": "code",
   "execution_count": 6,
   "id": "0da64905-6b78-4208-bc59-6d7c8d778434",
   "metadata": {},
   "outputs": [
    {
     "data": {
      "text/plain": [
       "['data', 'stations']"
      ]
     },
     "execution_count": 6,
     "metadata": {},
     "output_type": "execute_result"
    }
   ],
   "source": [
    "list(f)"
   ]
  },
  {
   "cell_type": "code",
   "execution_count": 7,
   "id": "35c76377-9e92-40ea-b9b7-92d976eb00ca",
   "metadata": {},
   "outputs": [
    {
     "data": {
      "text/plain": [
       "<HDF5 dataset \"data\": shape (3018181465,), type \"|V32\">"
      ]
     },
     "execution_count": 7,
     "metadata": {},
     "output_type": "execute_result"
    }
   ],
   "source": [
    "# get the main dataset\n",
    "dset = f['data']\n",
    "dset"
   ]
  },
  {
   "cell_type": "code",
   "execution_count": 21,
   "id": "ab607d43",
   "metadata": {},
   "outputs": [
    {
     "data": {
      "text/plain": [
       "3018181465"
      ]
     },
     "execution_count": 21,
     "metadata": {},
     "output_type": "execute_result"
    }
   ],
   "source": [
    "dset.nrows"
   ]
  },
  {
   "cell_type": "code",
   "execution_count": 22,
   "id": "bbd82439",
   "metadata": {},
   "outputs": [
    {
     "data": {
      "text/plain": [
       "h5pyd._hl.table.Table"
      ]
     },
     "execution_count": 22,
     "metadata": {},
     "output_type": "execute_result"
    }
   ],
   "source": [
    "type(dset)"
   ]
  },
  {
   "cell_type": "code",
   "execution_count": 24,
   "id": "32f9e640",
   "metadata": {},
   "outputs": [
    {
     "data": {
      "text/plain": [
       "True"
      ]
     },
     "execution_count": 24,
     "metadata": {},
     "output_type": "execute_result"
    }
   ],
   "source": [
    "isinstance(dset, h5pyd.Dataset)"
   ]
  },
  {
   "cell_type": "code",
   "execution_count": 26,
   "id": "a244264e",
   "metadata": {},
   "outputs": [
    {
     "data": {
      "text/plain": [
       "True"
      ]
     },
     "execution_count": 26,
     "metadata": {},
     "output_type": "execute_result"
    }
   ],
   "source": [
    "isinstance(dset, h5pyd.Table)"
   ]
  },
  {
   "cell_type": "code",
   "execution_count": 8,
   "id": "16d7bb3a-c362-4097-b750-d9f6e7752aaa",
   "metadata": {},
   "outputs": [
    {
     "data": {
      "text/plain": [
       "dtype([('station_id', 'S11'), ('ymd', 'S8'), ('element', 'S4'), ('data_value', '<i2'), ('m_flag', 'S1'), ('q_flag', 'S1'), ('s_flag', 'S1'), ('obs_time', 'S4')])"
      ]
     },
     "execution_count": 8,
     "metadata": {},
     "output_type": "execute_result"
    }
   ],
   "source": [
    "# dataset has a compound type to represent the different reporting fields\n",
    "# for each observation\n",
    "dset.dtype"
   ]
  },
  {
   "cell_type": "code",
   "execution_count": 9,
   "id": "a0e6b325-9758-4ae2-856b-d223253b81cc",
   "metadata": {},
   "outputs": [
    {
     "data": {
      "text/plain": [
       "32"
      ]
     },
     "execution_count": 9,
     "metadata": {},
     "output_type": "execute_result"
    }
   ],
   "source": [
    "dset.dtype.itemsize"
   ]
  },
  {
   "cell_type": "code",
   "execution_count": 10,
   "id": "0a994f2c-2c6c-4350-b38b-fde038e31947",
   "metadata": {},
   "outputs": [
    {
     "data": {
      "text/plain": [
       "(91268,)"
      ]
     },
     "execution_count": 10,
     "metadata": {},
     "output_type": "execute_result"
    }
   ],
   "source": [
    "dset.chunks"
   ]
  },
  {
   "cell_type": "code",
   "execution_count": 12,
   "id": "77666301-e311-4c95-b340-b43d12814420",
   "metadata": {},
   "outputs": [
    {
     "data": {
      "text/plain": [
       "33069"
      ]
     },
     "execution_count": 12,
     "metadata": {},
     "output_type": "execute_result"
    }
   ],
   "source": [
    "dset.shape[0] // dset.chunks[0]"
   ]
  },
  {
   "cell_type": "code",
   "execution_count": 13,
   "id": "c1114f44-7f95-4f32-9b06-2ab5027bec73",
   "metadata": {},
   "outputs": [
    {
     "data": {
      "text/html": [
       "<div>\n",
       "<style scoped>\n",
       "    .dataframe tbody tr th:only-of-type {\n",
       "        vertical-align: middle;\n",
       "    }\n",
       "\n",
       "    .dataframe tbody tr th {\n",
       "        vertical-align: top;\n",
       "    }\n",
       "\n",
       "    .dataframe thead th {\n",
       "        text-align: right;\n",
       "    }\n",
       "</style>\n",
       "<table border=\"1\" class=\"dataframe\">\n",
       "  <thead>\n",
       "    <tr style=\"text-align: right;\">\n",
       "      <th></th>\n",
       "      <th>station_id</th>\n",
       "      <th>ymd</th>\n",
       "      <th>element</th>\n",
       "      <th>data_value</th>\n",
       "      <th>m_flag</th>\n",
       "      <th>q_flag</th>\n",
       "      <th>s_flag</th>\n",
       "      <th>obs_time</th>\n",
       "    </tr>\n",
       "  </thead>\n",
       "  <tbody>\n",
       "    <tr>\n",
       "      <th>0</th>\n",
       "      <td>b'ITE00100554'</td>\n",
       "      <td>b'17630101'</td>\n",
       "      <td>b'TMAX'</td>\n",
       "      <td>-36</td>\n",
       "      <td>b''</td>\n",
       "      <td>b''</td>\n",
       "      <td>b'E'</td>\n",
       "      <td>b''</td>\n",
       "    </tr>\n",
       "    <tr>\n",
       "      <th>1</th>\n",
       "      <td>b'ITE00100554'</td>\n",
       "      <td>b'17630101'</td>\n",
       "      <td>b'TMIN'</td>\n",
       "      <td>-50</td>\n",
       "      <td>b''</td>\n",
       "      <td>b''</td>\n",
       "      <td>b'E'</td>\n",
       "      <td>b''</td>\n",
       "    </tr>\n",
       "    <tr>\n",
       "      <th>2</th>\n",
       "      <td>b'ITE00100554'</td>\n",
       "      <td>b'17630102'</td>\n",
       "      <td>b'TMAX'</td>\n",
       "      <td>-26</td>\n",
       "      <td>b''</td>\n",
       "      <td>b''</td>\n",
       "      <td>b'E'</td>\n",
       "      <td>b''</td>\n",
       "    </tr>\n",
       "    <tr>\n",
       "      <th>3</th>\n",
       "      <td>b'ITE00100554'</td>\n",
       "      <td>b'17630102'</td>\n",
       "      <td>b'TMIN'</td>\n",
       "      <td>-40</td>\n",
       "      <td>b''</td>\n",
       "      <td>b''</td>\n",
       "      <td>b'E'</td>\n",
       "      <td>b''</td>\n",
       "    </tr>\n",
       "    <tr>\n",
       "      <th>4</th>\n",
       "      <td>b'ITE00100554'</td>\n",
       "      <td>b'17630103'</td>\n",
       "      <td>b'TMAX'</td>\n",
       "      <td>-9</td>\n",
       "      <td>b''</td>\n",
       "      <td>b''</td>\n",
       "      <td>b'E'</td>\n",
       "      <td>b''</td>\n",
       "    </tr>\n",
       "    <tr>\n",
       "      <th>5</th>\n",
       "      <td>b'ITE00100554'</td>\n",
       "      <td>b'17630103'</td>\n",
       "      <td>b'TMIN'</td>\n",
       "      <td>-29</td>\n",
       "      <td>b''</td>\n",
       "      <td>b''</td>\n",
       "      <td>b'E'</td>\n",
       "      <td>b''</td>\n",
       "    </tr>\n",
       "    <tr>\n",
       "      <th>6</th>\n",
       "      <td>b'ITE00100554'</td>\n",
       "      <td>b'17630104'</td>\n",
       "      <td>b'TMAX'</td>\n",
       "      <td>-4</td>\n",
       "      <td>b''</td>\n",
       "      <td>b''</td>\n",
       "      <td>b'E'</td>\n",
       "      <td>b''</td>\n",
       "    </tr>\n",
       "    <tr>\n",
       "      <th>7</th>\n",
       "      <td>b'ITE00100554'</td>\n",
       "      <td>b'17630104'</td>\n",
       "      <td>b'TMIN'</td>\n",
       "      <td>-24</td>\n",
       "      <td>b''</td>\n",
       "      <td>b''</td>\n",
       "      <td>b'E'</td>\n",
       "      <td>b''</td>\n",
       "    </tr>\n",
       "    <tr>\n",
       "      <th>8</th>\n",
       "      <td>b'ITE00100554'</td>\n",
       "      <td>b'17630105'</td>\n",
       "      <td>b'TMAX'</td>\n",
       "      <td>21</td>\n",
       "      <td>b''</td>\n",
       "      <td>b''</td>\n",
       "      <td>b'E'</td>\n",
       "      <td>b''</td>\n",
       "    </tr>\n",
       "    <tr>\n",
       "      <th>9</th>\n",
       "      <td>b'ITE00100554'</td>\n",
       "      <td>b'17630105'</td>\n",
       "      <td>b'TMIN'</td>\n",
       "      <td>1</td>\n",
       "      <td>b''</td>\n",
       "      <td>b''</td>\n",
       "      <td>b'E'</td>\n",
       "      <td>b''</td>\n",
       "    </tr>\n",
       "    <tr>\n",
       "      <th>10</th>\n",
       "      <td>b'ITE00100554'</td>\n",
       "      <td>b'17630106'</td>\n",
       "      <td>b'TMAX'</td>\n",
       "      <td>13</td>\n",
       "      <td>b''</td>\n",
       "      <td>b''</td>\n",
       "      <td>b'E'</td>\n",
       "      <td>b''</td>\n",
       "    </tr>\n",
       "    <tr>\n",
       "      <th>11</th>\n",
       "      <td>b'ITE00100554'</td>\n",
       "      <td>b'17630106'</td>\n",
       "      <td>b'TMIN'</td>\n",
       "      <td>-7</td>\n",
       "      <td>b''</td>\n",
       "      <td>b''</td>\n",
       "      <td>b'E'</td>\n",
       "      <td>b''</td>\n",
       "    </tr>\n",
       "  </tbody>\n",
       "</table>\n",
       "</div>"
      ],
      "text/plain": [
       "        station_id          ymd  element  data_value m_flag q_flag s_flag  \\\n",
       "0   b'ITE00100554'  b'17630101'  b'TMAX'         -36    b''    b''   b'E'   \n",
       "1   b'ITE00100554'  b'17630101'  b'TMIN'         -50    b''    b''   b'E'   \n",
       "2   b'ITE00100554'  b'17630102'  b'TMAX'         -26    b''    b''   b'E'   \n",
       "3   b'ITE00100554'  b'17630102'  b'TMIN'         -40    b''    b''   b'E'   \n",
       "4   b'ITE00100554'  b'17630103'  b'TMAX'          -9    b''    b''   b'E'   \n",
       "5   b'ITE00100554'  b'17630103'  b'TMIN'         -29    b''    b''   b'E'   \n",
       "6   b'ITE00100554'  b'17630104'  b'TMAX'          -4    b''    b''   b'E'   \n",
       "7   b'ITE00100554'  b'17630104'  b'TMIN'         -24    b''    b''   b'E'   \n",
       "8   b'ITE00100554'  b'17630105'  b'TMAX'          21    b''    b''   b'E'   \n",
       "9   b'ITE00100554'  b'17630105'  b'TMIN'           1    b''    b''   b'E'   \n",
       "10  b'ITE00100554'  b'17630106'  b'TMAX'          13    b''    b''   b'E'   \n",
       "11  b'ITE00100554'  b'17630106'  b'TMIN'          -7    b''    b''   b'E'   \n",
       "\n",
       "   obs_time  \n",
       "0       b''  \n",
       "1       b''  \n",
       "2       b''  \n",
       "3       b''  \n",
       "4       b''  \n",
       "5       b''  \n",
       "6       b''  \n",
       "7       b''  \n",
       "8       b''  \n",
       "9       b''  \n",
       "10      b''  \n",
       "11      b''  "
      ]
     },
     "execution_count": 13,
     "metadata": {},
     "output_type": "execute_result"
    }
   ],
   "source": [
    "# read the first few rows to a Pandas dataframe\n",
    "df = pd.DataFrame(dset[:12])\n",
    "df"
   ]
  },
  {
   "cell_type": "code",
   "execution_count": 15,
   "id": "bb4a710e",
   "metadata": {},
   "outputs": [
    {
     "data": {
      "text/plain": [
       "0     b'17630101'\n",
       "1     b'17630101'\n",
       "2     b'17630102'\n",
       "3     b'17630102'\n",
       "4     b'17630103'\n",
       "5     b'17630103'\n",
       "6     b'17630104'\n",
       "7     b'17630104'\n",
       "8     b'17630105'\n",
       "9     b'17630105'\n",
       "10    b'17630106'\n",
       "11    b'17630106'\n",
       "Name: ymd, dtype: object"
      ]
     },
     "execution_count": 15,
     "metadata": {},
     "output_type": "execute_result"
    }
   ],
   "source": [
    "df['ymd']"
   ]
  },
  {
   "cell_type": "code",
   "execution_count": 16,
   "id": "c8590e5c-de7c-4dcb-b0e4-730e68d67e8b",
   "metadata": {},
   "outputs": [
    {
     "data": {
      "text/html": [
       "<div>\n",
       "<style scoped>\n",
       "    .dataframe tbody tr th:only-of-type {\n",
       "        vertical-align: middle;\n",
       "    }\n",
       "\n",
       "    .dataframe tbody tr th {\n",
       "        vertical-align: top;\n",
       "    }\n",
       "\n",
       "    .dataframe thead th {\n",
       "        text-align: right;\n",
       "    }\n",
       "</style>\n",
       "<table border=\"1\" class=\"dataframe\">\n",
       "  <thead>\n",
       "    <tr style=\"text-align: right;\">\n",
       "      <th></th>\n",
       "      <th>station_id</th>\n",
       "      <th>ymd</th>\n",
       "      <th>element</th>\n",
       "      <th>data_value</th>\n",
       "      <th>m_flag</th>\n",
       "      <th>q_flag</th>\n",
       "      <th>s_flag</th>\n",
       "      <th>obs_time</th>\n",
       "    </tr>\n",
       "  </thead>\n",
       "  <tbody>\n",
       "    <tr>\n",
       "      <th>0</th>\n",
       "      <td>b'USR0000WGOL'</td>\n",
       "      <td>b'20220821'</td>\n",
       "      <td>b'TMAX'</td>\n",
       "      <td>289</td>\n",
       "      <td>b'H'</td>\n",
       "      <td>b''</td>\n",
       "      <td>b'U'</td>\n",
       "      <td>b''</td>\n",
       "    </tr>\n",
       "    <tr>\n",
       "      <th>1</th>\n",
       "      <td>b'USR0000WGOL'</td>\n",
       "      <td>b'20220821'</td>\n",
       "      <td>b'TMIN'</td>\n",
       "      <td>189</td>\n",
       "      <td>b'H'</td>\n",
       "      <td>b''</td>\n",
       "      <td>b'U'</td>\n",
       "      <td>b''</td>\n",
       "    </tr>\n",
       "    <tr>\n",
       "      <th>2</th>\n",
       "      <td>b'USR0000WGOL'</td>\n",
       "      <td>b'20220821'</td>\n",
       "      <td>b'TAVG'</td>\n",
       "      <td>236</td>\n",
       "      <td>b''</td>\n",
       "      <td>b''</td>\n",
       "      <td>b'U'</td>\n",
       "      <td>b''</td>\n",
       "    </tr>\n",
       "    <tr>\n",
       "      <th>3</th>\n",
       "      <td>b'USR0000WGRE'</td>\n",
       "      <td>b'20220821'</td>\n",
       "      <td>b'TMAX'</td>\n",
       "      <td>283</td>\n",
       "      <td>b'H'</td>\n",
       "      <td>b''</td>\n",
       "      <td>b'U'</td>\n",
       "      <td>b''</td>\n",
       "    </tr>\n",
       "    <tr>\n",
       "      <th>4</th>\n",
       "      <td>b'USR0000WGRE'</td>\n",
       "      <td>b'20220821'</td>\n",
       "      <td>b'TMIN'</td>\n",
       "      <td>156</td>\n",
       "      <td>b'H'</td>\n",
       "      <td>b''</td>\n",
       "      <td>b'U'</td>\n",
       "      <td>b''</td>\n",
       "    </tr>\n",
       "    <tr>\n",
       "      <th>5</th>\n",
       "      <td>b'USR0000WGRE'</td>\n",
       "      <td>b'20220821'</td>\n",
       "      <td>b'TAVG'</td>\n",
       "      <td>211</td>\n",
       "      <td>b''</td>\n",
       "      <td>b''</td>\n",
       "      <td>b'U'</td>\n",
       "      <td>b''</td>\n",
       "    </tr>\n",
       "    <tr>\n",
       "      <th>6</th>\n",
       "      <td>b'USR0000WGRN'</td>\n",
       "      <td>b'20220821'</td>\n",
       "      <td>b'TMAX'</td>\n",
       "      <td>289</td>\n",
       "      <td>b'H'</td>\n",
       "      <td>b''</td>\n",
       "      <td>b'U'</td>\n",
       "      <td>b''</td>\n",
       "    </tr>\n",
       "    <tr>\n",
       "      <th>7</th>\n",
       "      <td>b'USR0000WGRN'</td>\n",
       "      <td>b'20220821'</td>\n",
       "      <td>b'TMIN'</td>\n",
       "      <td>144</td>\n",
       "      <td>b'H'</td>\n",
       "      <td>b''</td>\n",
       "      <td>b'U'</td>\n",
       "      <td>b''</td>\n",
       "    </tr>\n",
       "    <tr>\n",
       "      <th>8</th>\n",
       "      <td>b'USR0000WGRN'</td>\n",
       "      <td>b'20220821'</td>\n",
       "      <td>b'TAVG'</td>\n",
       "      <td>212</td>\n",
       "      <td>b''</td>\n",
       "      <td>b''</td>\n",
       "      <td>b'U'</td>\n",
       "      <td>b''</td>\n",
       "    </tr>\n",
       "    <tr>\n",
       "      <th>9</th>\n",
       "      <td>b'USR0000WHAG'</td>\n",
       "      <td>b'20220821'</td>\n",
       "      <td>b'TMAX'</td>\n",
       "      <td>267</td>\n",
       "      <td>b'H'</td>\n",
       "      <td>b''</td>\n",
       "      <td>b'U'</td>\n",
       "      <td>b''</td>\n",
       "    </tr>\n",
       "    <tr>\n",
       "      <th>10</th>\n",
       "      <td>b'USR0000WHAG'</td>\n",
       "      <td>b'20220821'</td>\n",
       "      <td>b'TMIN'</td>\n",
       "      <td>117</td>\n",
       "      <td>b'H'</td>\n",
       "      <td>b''</td>\n",
       "      <td>b'U'</td>\n",
       "      <td>b''</td>\n",
       "    </tr>\n",
       "    <tr>\n",
       "      <th>11</th>\n",
       "      <td>b'USR0000WHAG'</td>\n",
       "      <td>b'20220821'</td>\n",
       "      <td>b'TAVG'</td>\n",
       "      <td>190</td>\n",
       "      <td>b''</td>\n",
       "      <td>b''</td>\n",
       "      <td>b'U'</td>\n",
       "      <td>b''</td>\n",
       "    </tr>\n",
       "  </tbody>\n",
       "</table>\n",
       "</div>"
      ],
      "text/plain": [
       "        station_id          ymd  element  data_value m_flag q_flag s_flag  \\\n",
       "0   b'USR0000WGOL'  b'20220821'  b'TMAX'         289   b'H'    b''   b'U'   \n",
       "1   b'USR0000WGOL'  b'20220821'  b'TMIN'         189   b'H'    b''   b'U'   \n",
       "2   b'USR0000WGOL'  b'20220821'  b'TAVG'         236    b''    b''   b'U'   \n",
       "3   b'USR0000WGRE'  b'20220821'  b'TMAX'         283   b'H'    b''   b'U'   \n",
       "4   b'USR0000WGRE'  b'20220821'  b'TMIN'         156   b'H'    b''   b'U'   \n",
       "5   b'USR0000WGRE'  b'20220821'  b'TAVG'         211    b''    b''   b'U'   \n",
       "6   b'USR0000WGRN'  b'20220821'  b'TMAX'         289   b'H'    b''   b'U'   \n",
       "7   b'USR0000WGRN'  b'20220821'  b'TMIN'         144   b'H'    b''   b'U'   \n",
       "8   b'USR0000WGRN'  b'20220821'  b'TAVG'         212    b''    b''   b'U'   \n",
       "9   b'USR0000WHAG'  b'20220821'  b'TMAX'         267   b'H'    b''   b'U'   \n",
       "10  b'USR0000WHAG'  b'20220821'  b'TMIN'         117   b'H'    b''   b'U'   \n",
       "11  b'USR0000WHAG'  b'20220821'  b'TAVG'         190    b''    b''   b'U'   \n",
       "\n",
       "   obs_time  \n",
       "0       b''  \n",
       "1       b''  \n",
       "2       b''  \n",
       "3       b''  \n",
       "4       b''  \n",
       "5       b''  \n",
       "6       b''  \n",
       "7       b''  \n",
       "8       b''  \n",
       "9       b''  \n",
       "10      b''  \n",
       "11      b''  "
      ]
     },
     "execution_count": 16,
     "metadata": {},
     "output_type": "execute_result"
    }
   ],
   "source": [
    "# show the last twelve rows as a Pandas dataframe\n",
    "df = pd.DataFrame(dset[-12:])\n",
    "df"
   ]
  },
  {
   "cell_type": "code",
   "execution_count": 17,
   "id": "26513002-9586-4425-a37a-0e0290692c40",
   "metadata": {},
   "outputs": [
    {
     "data": {
      "text/plain": [
       "<HDF5 dataset \"stations\": shape (124248,), type \"|V66\">"
      ]
     },
     "execution_count": 17,
     "metadata": {},
     "output_type": "execute_result"
    }
   ],
   "source": [
    "# this is a smaller dataset that has one row for each reporting station\n",
    "stations = f[\"stations\"]\n",
    "stations"
   ]
  },
  {
   "cell_type": "code",
   "execution_count": 18,
   "id": "f2b4670a-085e-435c-b76f-8c2ca0dabb52",
   "metadata": {},
   "outputs": [
    {
     "data": {
      "text/html": [
       "<div>\n",
       "<style scoped>\n",
       "    .dataframe tbody tr th:only-of-type {\n",
       "        vertical-align: middle;\n",
       "    }\n",
       "\n",
       "    .dataframe tbody tr th {\n",
       "        vertical-align: top;\n",
       "    }\n",
       "\n",
       "    .dataframe thead th {\n",
       "        text-align: right;\n",
       "    }\n",
       "</style>\n",
       "<table border=\"1\" class=\"dataframe\">\n",
       "  <thead>\n",
       "    <tr style=\"text-align: right;\">\n",
       "      <th></th>\n",
       "      <th>station_id</th>\n",
       "      <th>lat</th>\n",
       "      <th>lon</th>\n",
       "      <th>elev</th>\n",
       "      <th>state</th>\n",
       "      <th>name</th>\n",
       "      <th>gsn_flag</th>\n",
       "      <th>hcn_flag</th>\n",
       "      <th>wmo_id</th>\n",
       "    </tr>\n",
       "  </thead>\n",
       "  <tbody>\n",
       "    <tr>\n",
       "      <th>0</th>\n",
       "      <td>b'ZI000067867'</td>\n",
       "      <td>-19.450001</td>\n",
       "      <td>29.850000</td>\n",
       "      <td>1429.0</td>\n",
       "      <td>b''</td>\n",
       "      <td>b'GWERU'</td>\n",
       "      <td>b''</td>\n",
       "      <td>b''</td>\n",
       "      <td>b'67867'</td>\n",
       "    </tr>\n",
       "    <tr>\n",
       "      <th>1</th>\n",
       "      <td>b'ZI000067889'</td>\n",
       "      <td>-18.283001</td>\n",
       "      <td>32.750000</td>\n",
       "      <td>1880.0</td>\n",
       "      <td>b''</td>\n",
       "      <td>b'WYANGA'</td>\n",
       "      <td>b''</td>\n",
       "      <td>b''</td>\n",
       "      <td>b'67889'</td>\n",
       "    </tr>\n",
       "    <tr>\n",
       "      <th>2</th>\n",
       "      <td>b'ZI000067964'</td>\n",
       "      <td>-20.150000</td>\n",
       "      <td>28.617001</td>\n",
       "      <td>1344.0</td>\n",
       "      <td>b''</td>\n",
       "      <td>b'BULAWAYO (GOETZ OBS'</td>\n",
       "      <td>b'GSN'</td>\n",
       "      <td>b''</td>\n",
       "      <td>b'67964'</td>\n",
       "    </tr>\n",
       "    <tr>\n",
       "      <th>3</th>\n",
       "      <td>b'ZI000067965'</td>\n",
       "      <td>-20.017000</td>\n",
       "      <td>28.617001</td>\n",
       "      <td>1326.0</td>\n",
       "      <td>b''</td>\n",
       "      <td>b'BULAWAYO AIRPORT'</td>\n",
       "      <td>b''</td>\n",
       "      <td>b''</td>\n",
       "      <td>b'67965'</td>\n",
       "    </tr>\n",
       "    <tr>\n",
       "      <th>4</th>\n",
       "      <td>b'ZI000067969'</td>\n",
       "      <td>-21.049999</td>\n",
       "      <td>29.367001</td>\n",
       "      <td>861.0</td>\n",
       "      <td>b''</td>\n",
       "      <td>b'WEST NICHOLSON'</td>\n",
       "      <td>b''</td>\n",
       "      <td>b''</td>\n",
       "      <td>b'67969'</td>\n",
       "    </tr>\n",
       "    <tr>\n",
       "      <th>5</th>\n",
       "      <td>b'ZI000067975'</td>\n",
       "      <td>-20.066999</td>\n",
       "      <td>30.867001</td>\n",
       "      <td>1095.0</td>\n",
       "      <td>b''</td>\n",
       "      <td>b'MASVINGO'</td>\n",
       "      <td>b''</td>\n",
       "      <td>b''</td>\n",
       "      <td>b'67975'</td>\n",
       "    </tr>\n",
       "    <tr>\n",
       "      <th>6</th>\n",
       "      <td>b'ZI000067977'</td>\n",
       "      <td>-21.017000</td>\n",
       "      <td>31.583000</td>\n",
       "      <td>430.0</td>\n",
       "      <td>b''</td>\n",
       "      <td>b'BUFFALO RANGE'</td>\n",
       "      <td>b''</td>\n",
       "      <td>b''</td>\n",
       "      <td>b'67977'</td>\n",
       "    </tr>\n",
       "    <tr>\n",
       "      <th>7</th>\n",
       "      <td>b'ZI000067983'</td>\n",
       "      <td>-20.200001</td>\n",
       "      <td>32.616001</td>\n",
       "      <td>1132.0</td>\n",
       "      <td>b''</td>\n",
       "      <td>b'CHIPINGE'</td>\n",
       "      <td>b'GSN'</td>\n",
       "      <td>b''</td>\n",
       "      <td>b'67983'</td>\n",
       "    </tr>\n",
       "    <tr>\n",
       "      <th>8</th>\n",
       "      <td>b'ZI000067991'</td>\n",
       "      <td>-22.216999</td>\n",
       "      <td>30.000000</td>\n",
       "      <td>457.0</td>\n",
       "      <td>b''</td>\n",
       "      <td>b'BEITBRIDGE'</td>\n",
       "      <td>b''</td>\n",
       "      <td>b''</td>\n",
       "      <td>b'67991'</td>\n",
       "    </tr>\n",
       "    <tr>\n",
       "      <th>9</th>\n",
       "      <td>b''</td>\n",
       "      <td>0.000000</td>\n",
       "      <td>0.000000</td>\n",
       "      <td>0.0</td>\n",
       "      <td>b''</td>\n",
       "      <td>b''</td>\n",
       "      <td>b''</td>\n",
       "      <td>b''</td>\n",
       "      <td>b''</td>\n",
       "    </tr>\n",
       "    <tr>\n",
       "      <th>10</th>\n",
       "      <td>b'ZI000067991'</td>\n",
       "      <td>-22.216999</td>\n",
       "      <td>30.000000</td>\n",
       "      <td>457.0</td>\n",
       "      <td>b''</td>\n",
       "      <td>b'BEITBRIDGE'</td>\n",
       "      <td>b''</td>\n",
       "      <td>b''</td>\n",
       "      <td>b'67991'</td>\n",
       "    </tr>\n",
       "    <tr>\n",
       "      <th>11</th>\n",
       "      <td>b''</td>\n",
       "      <td>0.000000</td>\n",
       "      <td>0.000000</td>\n",
       "      <td>0.0</td>\n",
       "      <td>b''</td>\n",
       "      <td>b''</td>\n",
       "      <td>b''</td>\n",
       "      <td>b''</td>\n",
       "      <td>b''</td>\n",
       "    </tr>\n",
       "  </tbody>\n",
       "</table>\n",
       "</div>"
      ],
      "text/plain": [
       "        station_id        lat        lon    elev state  \\\n",
       "0   b'ZI000067867' -19.450001  29.850000  1429.0   b''   \n",
       "1   b'ZI000067889' -18.283001  32.750000  1880.0   b''   \n",
       "2   b'ZI000067964' -20.150000  28.617001  1344.0   b''   \n",
       "3   b'ZI000067965' -20.017000  28.617001  1326.0   b''   \n",
       "4   b'ZI000067969' -21.049999  29.367001   861.0   b''   \n",
       "5   b'ZI000067975' -20.066999  30.867001  1095.0   b''   \n",
       "6   b'ZI000067977' -21.017000  31.583000   430.0   b''   \n",
       "7   b'ZI000067983' -20.200001  32.616001  1132.0   b''   \n",
       "8   b'ZI000067991' -22.216999  30.000000   457.0   b''   \n",
       "9              b''   0.000000   0.000000     0.0   b''   \n",
       "10  b'ZI000067991' -22.216999  30.000000   457.0   b''   \n",
       "11             b''   0.000000   0.000000     0.0   b''   \n",
       "\n",
       "                      name gsn_flag hcn_flag    wmo_id  \n",
       "0                 b'GWERU'      b''      b''  b'67867'  \n",
       "1                b'WYANGA'      b''      b''  b'67889'  \n",
       "2   b'BULAWAYO (GOETZ OBS'   b'GSN'      b''  b'67964'  \n",
       "3      b'BULAWAYO AIRPORT'      b''      b''  b'67965'  \n",
       "4        b'WEST NICHOLSON'      b''      b''  b'67969'  \n",
       "5              b'MASVINGO'      b''      b''  b'67975'  \n",
       "6         b'BUFFALO RANGE'      b''      b''  b'67977'  \n",
       "7              b'CHIPINGE'   b'GSN'      b''  b'67983'  \n",
       "8            b'BEITBRIDGE'      b''      b''  b'67991'  \n",
       "9                      b''      b''      b''       b''  \n",
       "10           b'BEITBRIDGE'      b''      b''  b'67991'  \n",
       "11                     b''      b''      b''       b''  "
      ]
     },
     "execution_count": 18,
     "metadata": {},
     "output_type": "execute_result"
    }
   ],
   "source": [
    "df = pd.DataFrame(stations[-12:])\n",
    "df"
   ]
  },
  {
   "cell_type": "code",
   "execution_count": 19,
   "id": "325a2095-75c8-41e2-b887-cecf13b160e0",
   "metadata": {},
   "outputs": [],
   "source": [
    "# let's see what the station in Darwin, Australia has reported\n",
    "station_id = 'ASN00014016'"
   ]
  },
  {
   "cell_type": "code",
   "execution_count": 27,
   "id": "b5353869-7917-431b-a314-baa384790030",
   "metadata": {},
   "outputs": [
    {
     "name": "stdout",
     "output_type": "stream",
     "text": [
      "CPU times: user 4.54 ms, sys: 0 ns, total: 4.54 ms\n",
      "Wall time: 1.31 s\n"
     ]
    }
   ],
   "source": [
    "# this will take a few minutes to query the entire dataset\n",
    "%time arr = dset.read_where(f\"station_id == b'{station_id}'\", start=0, stop=1_000_000)"
   ]
  },
  {
   "cell_type": "code",
   "execution_count": 28,
   "id": "a0839fea-7784-41a4-9260-7ab2f297bf2d",
   "metadata": {},
   "outputs": [
    {
     "data": {
      "text/plain": [
       "(578,)"
      ]
     },
     "execution_count": 28,
     "metadata": {},
     "output_type": "execute_result"
    }
   ],
   "source": [
    "arr.shape"
   ]
  },
  {
   "cell_type": "code",
   "execution_count": 29,
   "id": "94267cf2-bf85-4f85-bd91-e00febde7547",
   "metadata": {},
   "outputs": [
    {
     "data": {
      "text/html": [
       "<div>\n",
       "<style scoped>\n",
       "    .dataframe tbody tr th:only-of-type {\n",
       "        vertical-align: middle;\n",
       "    }\n",
       "\n",
       "    .dataframe tbody tr th {\n",
       "        vertical-align: top;\n",
       "    }\n",
       "\n",
       "    .dataframe thead th {\n",
       "        text-align: right;\n",
       "    }\n",
       "</style>\n",
       "<table border=\"1\" class=\"dataframe\">\n",
       "  <thead>\n",
       "    <tr style=\"text-align: right;\">\n",
       "      <th></th>\n",
       "      <th>index</th>\n",
       "      <th>station_id</th>\n",
       "      <th>ymd</th>\n",
       "      <th>element</th>\n",
       "      <th>data_value</th>\n",
       "      <th>m_flag</th>\n",
       "      <th>q_flag</th>\n",
       "      <th>s_flag</th>\n",
       "      <th>obs_time</th>\n",
       "    </tr>\n",
       "  </thead>\n",
       "  <tbody>\n",
       "    <tr>\n",
       "      <th>0</th>\n",
       "      <td>860214</td>\n",
       "      <td>b'ASN00014016'</td>\n",
       "      <td>b'18690306'</td>\n",
       "      <td>b'PRCP'</td>\n",
       "      <td>351</td>\n",
       "      <td>b''</td>\n",
       "      <td>b''</td>\n",
       "      <td>b'a'</td>\n",
       "      <td>b''</td>\n",
       "    </tr>\n",
       "    <tr>\n",
       "      <th>1</th>\n",
       "      <td>860406</td>\n",
       "      <td>b'ASN00014016'</td>\n",
       "      <td>b'18690307'</td>\n",
       "      <td>b'PRCP'</td>\n",
       "      <td>0</td>\n",
       "      <td>b''</td>\n",
       "      <td>b''</td>\n",
       "      <td>b'a'</td>\n",
       "      <td>b''</td>\n",
       "    </tr>\n",
       "    <tr>\n",
       "      <th>2</th>\n",
       "      <td>860579</td>\n",
       "      <td>b'ASN00014016'</td>\n",
       "      <td>b'18690308'</td>\n",
       "      <td>b'PRCP'</td>\n",
       "      <td>0</td>\n",
       "      <td>b''</td>\n",
       "      <td>b''</td>\n",
       "      <td>b'a'</td>\n",
       "      <td>b''</td>\n",
       "    </tr>\n",
       "    <tr>\n",
       "      <th>3</th>\n",
       "      <td>860770</td>\n",
       "      <td>b'ASN00014016'</td>\n",
       "      <td>b'18690309'</td>\n",
       "      <td>b'PRCP'</td>\n",
       "      <td>127</td>\n",
       "      <td>b''</td>\n",
       "      <td>b''</td>\n",
       "      <td>b'a'</td>\n",
       "      <td>b''</td>\n",
       "    </tr>\n",
       "    <tr>\n",
       "      <th>4</th>\n",
       "      <td>860961</td>\n",
       "      <td>b'ASN00014016'</td>\n",
       "      <td>b'18690310'</td>\n",
       "      <td>b'PRCP'</td>\n",
       "      <td>0</td>\n",
       "      <td>b''</td>\n",
       "      <td>b''</td>\n",
       "      <td>b'a'</td>\n",
       "      <td>b''</td>\n",
       "    </tr>\n",
       "    <tr>\n",
       "      <th>...</th>\n",
       "      <td>...</td>\n",
       "      <td>...</td>\n",
       "      <td>...</td>\n",
       "      <td>...</td>\n",
       "      <td>...</td>\n",
       "      <td>...</td>\n",
       "      <td>...</td>\n",
       "      <td>...</td>\n",
       "      <td>...</td>\n",
       "    </tr>\n",
       "    <tr>\n",
       "      <th>573</th>\n",
       "      <td>998934</td>\n",
       "      <td>b'ASN00014016'</td>\n",
       "      <td>b'18701231'</td>\n",
       "      <td>b'PRCP'</td>\n",
       "      <td>0</td>\n",
       "      <td>b''</td>\n",
       "      <td>b''</td>\n",
       "      <td>b'a'</td>\n",
       "      <td>b''</td>\n",
       "    </tr>\n",
       "    <tr>\n",
       "      <th>574</th>\n",
       "      <td>999175</td>\n",
       "      <td>b'ASN00014016'</td>\n",
       "      <td>b'18710101'</td>\n",
       "      <td>b'PRCP'</td>\n",
       "      <td>140</td>\n",
       "      <td>b''</td>\n",
       "      <td>b''</td>\n",
       "      <td>b'a'</td>\n",
       "      <td>b''</td>\n",
       "    </tr>\n",
       "    <tr>\n",
       "      <th>575</th>\n",
       "      <td>999421</td>\n",
       "      <td>b'ASN00014016'</td>\n",
       "      <td>b'18710102'</td>\n",
       "      <td>b'PRCP'</td>\n",
       "      <td>36</td>\n",
       "      <td>b''</td>\n",
       "      <td>b''</td>\n",
       "      <td>b'a'</td>\n",
       "      <td>b''</td>\n",
       "    </tr>\n",
       "    <tr>\n",
       "      <th>576</th>\n",
       "      <td>999688</td>\n",
       "      <td>b'ASN00014016'</td>\n",
       "      <td>b'18710103'</td>\n",
       "      <td>b'PRCP'</td>\n",
       "      <td>0</td>\n",
       "      <td>b''</td>\n",
       "      <td>b''</td>\n",
       "      <td>b'a'</td>\n",
       "      <td>b''</td>\n",
       "    </tr>\n",
       "    <tr>\n",
       "      <th>577</th>\n",
       "      <td>999953</td>\n",
       "      <td>b'ASN00014016'</td>\n",
       "      <td>b'18710104'</td>\n",
       "      <td>b'PRCP'</td>\n",
       "      <td>0</td>\n",
       "      <td>b''</td>\n",
       "      <td>b''</td>\n",
       "      <td>b'a'</td>\n",
       "      <td>b''</td>\n",
       "    </tr>\n",
       "  </tbody>\n",
       "</table>\n",
       "<p>578 rows × 9 columns</p>\n",
       "</div>"
      ],
      "text/plain": [
       "      index      station_id          ymd  element  data_value m_flag q_flag  \\\n",
       "0    860214  b'ASN00014016'  b'18690306'  b'PRCP'         351    b''    b''   \n",
       "1    860406  b'ASN00014016'  b'18690307'  b'PRCP'           0    b''    b''   \n",
       "2    860579  b'ASN00014016'  b'18690308'  b'PRCP'           0    b''    b''   \n",
       "3    860770  b'ASN00014016'  b'18690309'  b'PRCP'         127    b''    b''   \n",
       "4    860961  b'ASN00014016'  b'18690310'  b'PRCP'           0    b''    b''   \n",
       "..      ...             ...          ...      ...         ...    ...    ...   \n",
       "573  998934  b'ASN00014016'  b'18701231'  b'PRCP'           0    b''    b''   \n",
       "574  999175  b'ASN00014016'  b'18710101'  b'PRCP'         140    b''    b''   \n",
       "575  999421  b'ASN00014016'  b'18710102'  b'PRCP'          36    b''    b''   \n",
       "576  999688  b'ASN00014016'  b'18710103'  b'PRCP'           0    b''    b''   \n",
       "577  999953  b'ASN00014016'  b'18710104'  b'PRCP'           0    b''    b''   \n",
       "\n",
       "    s_flag obs_time  \n",
       "0     b'a'      b''  \n",
       "1     b'a'      b''  \n",
       "2     b'a'      b''  \n",
       "3     b'a'      b''  \n",
       "4     b'a'      b''  \n",
       "..     ...      ...  \n",
       "573   b'a'      b''  \n",
       "574   b'a'      b''  \n",
       "575   b'a'      b''  \n",
       "576   b'a'      b''  \n",
       "577   b'a'      b''  \n",
       "\n",
       "[578 rows x 9 columns]"
      ]
     },
     "execution_count": 29,
     "metadata": {},
     "output_type": "execute_result"
    }
   ],
   "source": [
    "# show data frame with all rows for this station id\n",
    "df = pd.DataFrame(arr)\n",
    "df"
   ]
  },
  {
   "cell_type": "code",
   "execution_count": null,
   "id": "b7de57cd-3c6a-41c6-a50b-9c48d013840e",
   "metadata": {},
   "outputs": [],
   "source": [
    "%%time\n",
    "# get unique station ids per year\n",
    "station_year_map = {}\n",
    "cursor = dset.create_cursor()\n",
    "count = 0\n",
    "for row in cursor:\n",
    "    station_id = row['station_id'].decode('ascii')\n",
    "    ymd = row['ymd'].decode('ascii')\n",
    "    if len(ymd) != 8:\n",
    "        # print(f\"unexpected ymd: {ymd}\")\n",
    "        count += 1\n",
    "        continue\n",
    "    year = int(ymd[:4])  # format YYYYMMDD\n",
    "    if year not in station_year_map:\n",
    "        station_year_map[year] = set()\n",
    "    station_ids = station_year_map[year]\n",
    "    station_ids.add(station_id)\n",
    "print(\"bad lines:\", count)"
   ]
  },
  {
   "cell_type": "code",
   "execution_count": null,
   "id": "248eb906-0a22-4039-a1e8-ae4fe808fb09",
   "metadata": {},
   "outputs": [],
   "source": [
    "station_year_map.keys()"
   ]
  },
  {
   "cell_type": "code",
   "execution_count": null,
   "id": "aa65c05a-db53-44af-9c53-d0f1081b976a",
   "metadata": {},
   "outputs": [],
   "source": [
    "len(station_year_map[1876])"
   ]
  },
  {
   "cell_type": "code",
   "execution_count": null,
   "id": "50c47755-a6c1-4ea8-b4c9-7ec04a9a8b9a",
   "metadata": {},
   "outputs": [],
   "source": [
    "for year in station_year_map:\n",
    "    station_ids = station_year_map[year]\n",
    "    print(f\"{year} - {len(station_ids)}\")"
   ]
  },
  {
   "cell_type": "code",
   "execution_count": null,
   "id": "d1c54722-a28a-47a5-8705-f5f825243340",
   "metadata": {},
   "outputs": [],
   "source": []
  }
 ],
 "metadata": {
  "kernelspec": {
   "display_name": "Python 3",
   "language": "python",
   "name": "python3"
  },
  "language_info": {
   "codemirror_mode": {
    "name": "ipython",
    "version": 3
   },
   "file_extension": ".py",
   "mimetype": "text/x-python",
   "name": "python",
   "nbconvert_exporter": "python",
   "pygments_lexer": "ipython3",
   "version": "3.9.12"
  }
 },
 "nbformat": 4,
 "nbformat_minor": 5
}

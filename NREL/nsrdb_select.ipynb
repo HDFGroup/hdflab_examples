{
 "cells": [
  {
   "cell_type": "code",
   "execution_count": 1,
   "metadata": {},
   "outputs": [
    {
     "name": "stdout",
     "output_type": "stream",
     "text": [
      "Collecting git+https://git@github.com/HDFGroup/h5pyd\n",
      "  Cloning https://git@github.com/HDFGroup/h5pyd to /tmp/pip-zcqy79f2-build\n",
      "Collecting numpy>=1.10.4 (from h5pyd==0.4.3)\n",
      "  Downloading https://files.pythonhosted.org/packages/19/b9/bda9781f0a74b90ebd2e046fde1196182900bd4a8e1ea503d3ffebc50e7c/numpy-1.17.0-cp36-cp36m-manylinux1_x86_64.whl (20.4MB)\n",
      "\u001b[K    100% |████████████████████████████████| 20.4MB 33kB/s \n",
      "\u001b[?25hCollecting requests (from h5pyd==0.4.3)\n",
      "  Using cached https://files.pythonhosted.org/packages/51/bd/23c926cd341ea6b7dd0b2a00aba99ae0f828be89d72b2190f27c11d4b7fb/requests-2.22.0-py2.py3-none-any.whl\n",
      "Collecting six (from h5pyd==0.4.3)\n",
      "  Using cached https://files.pythonhosted.org/packages/73/fb/00a976f728d0d1fecfe898238ce23f502a721c0ac0ecfedb80e0d88c64e9/six-1.12.0-py2.py3-none-any.whl\n",
      "Collecting pytz (from h5pyd==0.4.3)\n",
      "  Using cached https://files.pythonhosted.org/packages/3d/73/fe30c2daaaa0713420d0382b16fbb761409f532c56bdcc514bf7b6262bb6/pytz-2019.1-py2.py3-none-any.whl\n",
      "Collecting urllib3!=1.25.0,!=1.25.1,<1.26,>=1.21.1 (from requests->h5pyd==0.4.3)\n",
      "  Using cached https://files.pythonhosted.org/packages/e6/60/247f23a7121ae632d62811ba7f273d0e58972d75e58a94d329d51550a47d/urllib3-1.25.3-py2.py3-none-any.whl\n",
      "Collecting certifi>=2017.4.17 (from requests->h5pyd==0.4.3)\n",
      "  Using cached https://files.pythonhosted.org/packages/69/1b/b853c7a9d4f6a6d00749e94eb6f3a041e342a885b87340b79c1ef73e3a78/certifi-2019.6.16-py2.py3-none-any.whl\n",
      "Collecting idna<2.9,>=2.5 (from requests->h5pyd==0.4.3)\n",
      "  Using cached https://files.pythonhosted.org/packages/14/2c/cd551d81dbe15200be1cf41cd03869a46fe7226e7450af7a6545bfc474c9/idna-2.8-py2.py3-none-any.whl\n",
      "Requirement already up-to-date: chardet<3.1.0,>=3.0.2 in /opt/conda/lib/python3.6/site-packages (from requests->h5pyd==0.4.3)\n",
      "Installing collected packages: numpy, urllib3, certifi, idna, requests, six, pytz, h5pyd\n",
      "  Found existing installation: numpy 1.15.1\n",
      "    Uninstalling numpy-1.15.1:\n",
      "      Successfully uninstalled numpy-1.15.1\n",
      "  Found existing installation: urllib3 1.23\n",
      "    Uninstalling urllib3-1.23:\n",
      "      Successfully uninstalled urllib3-1.23\n",
      "  Found existing installation: certifi 2018.8.24\n",
      "\u001b[31m    DEPRECATION: Uninstalling a distutils installed project (certifi) has been deprecated and will be removed in a future version. This is due to the fact that uninstalling a distutils project will only partially uninstall the project.\u001b[0m\n",
      "    Uninstalling certifi-2018.8.24:\n",
      "      Successfully uninstalled certifi-2018.8.24\n",
      "  Found existing installation: idna 2.7\n",
      "    Uninstalling idna-2.7:\n",
      "      Successfully uninstalled idna-2.7\n",
      "  Found existing installation: requests 2.19.1\n",
      "    Uninstalling requests-2.19.1:\n",
      "      Successfully uninstalled requests-2.19.1\n",
      "  Found existing installation: six 1.11.0\n",
      "    Uninstalling six-1.11.0:\n",
      "      Successfully uninstalled six-1.11.0\n",
      "  Found existing installation: pytz 2018.5\n",
      "    Uninstalling pytz-2018.5:\n",
      "      Successfully uninstalled pytz-2018.5\n",
      "  Found existing installation: h5pyd 0.3.2\n",
      "    Uninstalling h5pyd-0.3.2:\n",
      "      Successfully uninstalled h5pyd-0.3.2\n",
      "  Running setup.py install for h5pyd ... \u001b[?25ldone\n",
      "\u001b[?25hSuccessfully installed certifi-2019.6.16 h5pyd-0.4.3 idna-2.8 numpy-1.17.0 pytz-2019.1 requests-2.22.0 six-1.12.0 urllib3-1.25.3\n",
      "\u001b[33mYou are using pip version 9.0.3, however version 19.2.1 is available.\n",
      "You should consider upgrading via the 'pip install --upgrade pip' command.\u001b[0m\n"
     ]
    }
   ],
   "source": [
    "# get the latest h5pyd package\n",
    "import sys\n",
    "!{sys.executable} -m pip install git+https://git@github.com/HDFGroup/h5pyd --upgrade"
   ]
  },
  {
   "cell_type": "code",
   "execution_count": 2,
   "metadata": {},
   "outputs": [],
   "source": [
    "import h5pyd as h5py"
   ]
  },
  {
   "cell_type": "code",
   "execution_count": 4,
   "metadata": {},
   "outputs": [
    {
     "data": {
      "text/plain": [
       "'0.4.2'"
      ]
     },
     "execution_count": 4,
     "metadata": {},
     "output_type": "execute_result"
    }
   ],
   "source": [
    "h5py.version.version  # should be 0.4.2+"
   ]
  },
  {
   "cell_type": "code",
   "execution_count": 5,
   "metadata": {},
   "outputs": [
    {
     "name": "stdout",
     "output_type": "stream",
     "text": [
      "nrel_admin                      folder   2018-04-16 14:49:33 /nrel/nsrdb/\n",
      "nrel_admin          419B        domain   2019-02-08 03:10:02 /nrel/nsrdb/nsrdb_1998.h5\n",
      "nrel_admin          418B        domain   2019-02-08 03:09:57 /nrel/nsrdb/nsrdb_1999.h5\n",
      "nrel_admin          419B        domain   2019-02-08 03:09:51 /nrel/nsrdb/nsrdb_2000.h5\n",
      "nrel_admin          419B        domain   2019-02-08 03:09:45 /nrel/nsrdb/nsrdb_2001.h5\n",
      "nrel_admin          419B        domain   2019-02-08 03:09:40 /nrel/nsrdb/nsrdb_2002.h5\n",
      "nrel_admin          419B        domain   2019-02-08 03:09:36 /nrel/nsrdb/nsrdb_2003.h5\n",
      "nrel_admin          418B        domain   2019-02-08 03:09:31 /nrel/nsrdb/nsrdb_2004.h5\n",
      "nrel_admin          418B        domain   2019-02-08 03:09:26 /nrel/nsrdb/nsrdb_2005.h5\n",
      "nrel_admin          419B        domain   2019-02-08 03:09:21 /nrel/nsrdb/nsrdb_2006.h5\n",
      "nrel_admin          419B        domain   2019-02-08 03:09:16 /nrel/nsrdb/nsrdb_2007.h5\n",
      "nrel_admin          419B        domain   2019-02-08 03:09:11 /nrel/nsrdb/nsrdb_2008.h5\n",
      "nrel_admin          419B        domain   2019-02-08 03:09:06 /nrel/nsrdb/nsrdb_2009.h5\n",
      "nrel_admin          419B        domain   2019-02-08 03:09:01 /nrel/nsrdb/nsrdb_2010.h5\n",
      "nrel_admin          419B        domain   2019-02-08 03:08:56 /nrel/nsrdb/nsrdb_2011.h5\n",
      "nrel_admin          419B        domain   2019-02-08 03:08:52 /nrel/nsrdb/nsrdb_2012.h5\n",
      "nrel_admin          417B        domain   2019-02-08 03:08:36 /nrel/nsrdb/nsrdb_2013.h5\n",
      "nrel_admin          417B        domain   2019-02-08 03:08:02 /nrel/nsrdb/nsrdb_2014.h5\n",
      "nrel_admin          419B        domain   2019-02-08 03:07:50 /nrel/nsrdb/nsrdb_2015.h5\n",
      "nrel_admin          419B        domain   2019-02-08 03:06:29 /nrel/nsrdb/nsrdb_2016.h5\n",
      "nrel_admin          419B        domain   2019-02-07 23:21:29 /nrel/nsrdb/nsrdb_2017.h5\n",
      "nrel_admin          264B        domain   2018-12-29 04:05:08 /nrel/nsrdb/nsrdb_tdy-2016.h5\n",
      "nrel_admin          262B        domain   2018-12-29 01:03:52 /nrel/nsrdb/nsrdb_tdy-2017.h5\n",
      "nrel_admin          262B        domain   2018-12-29 03:03:57 /nrel/nsrdb/nsrdb_tgy-2016.h5\n",
      "nrel_admin          264B        domain   2018-12-29 00:05:00 /nrel/nsrdb/nsrdb_tgy-2017.h5\n",
      "nrel_admin          264B        domain   2018-12-29 02:04:38 /nrel/nsrdb/nsrdb_tmy-2016.h5\n",
      "nrel_admin          262B        domain   2018-12-28 23:03:56 /nrel/nsrdb/nsrdb_tmy-2017.h5\n",
      "27 items\n"
     ]
    }
   ],
   "source": [
    "! hsls -H -v --bucket nrel-pds-hsds /nrel/nsrdb/"
   ]
  },
  {
   "cell_type": "code",
   "execution_count": 6,
   "metadata": {},
   "outputs": [],
   "source": [
    "f = h5py.File(\"/nrel/nsrdb/nsrdb_2011.h5\", 'r', bucket=\"nrel-pds-hsds\")"
   ]
  },
  {
   "cell_type": "code",
   "execution_count": 7,
   "metadata": {},
   "outputs": [
    {
     "data": {
      "text/plain": [
       "'g-27830d9e-f4bf-11e8-ae6f-0242ac120009'"
      ]
     },
     "execution_count": 7,
     "metadata": {},
     "output_type": "execute_result"
    }
   ],
   "source": [
    "f.id.id"
   ]
  },
  {
   "cell_type": "code",
   "execution_count": 8,
   "metadata": {},
   "outputs": [
    {
     "data": {
      "text/plain": [
       "['air_temperature',\n",
       " 'clearsky_dhi',\n",
       " 'clearsky_dni',\n",
       " 'clearsky_ghi',\n",
       " 'cloud_type',\n",
       " 'coordinates',\n",
       " 'dew_point',\n",
       " 'dhi',\n",
       " 'dni',\n",
       " 'fill_flag',\n",
       " 'ghi',\n",
       " 'meta',\n",
       " 'relative_humidity',\n",
       " 'solar_zenith_angle',\n",
       " 'surface_pressure',\n",
       " 'time_index',\n",
       " 'total_precipitable_water',\n",
       " 'wind_direction',\n",
       " 'wind_speed',\n",
       " 'surface_albedo',\n",
       " 'aod',\n",
       " 'ozone',\n",
       " 'cld_reff_dcomp',\n",
       " 'cld_opd_dcomp',\n",
       " 'alpha',\n",
       " 'asymmetry',\n",
       " 'ssa',\n",
       " 'cloud_press_acha']"
      ]
     },
     "execution_count": 8,
     "metadata": {},
     "output_type": "execute_result"
    }
   ],
   "source": [
    "list(f)"
   ]
  },
  {
   "cell_type": "code",
   "execution_count": 9,
   "metadata": {},
   "outputs": [
    {
     "data": {
      "text/plain": [
       "<HDF5 dataset \"total_precipitable_water\": shape (17520, 2018392), type \"<i2\">"
      ]
     },
     "execution_count": 9,
     "metadata": {},
     "output_type": "execute_result"
    }
   ],
   "source": [
    "dset = f['total_precipitable_water']\n",
    "dset"
   ]
  },
  {
   "cell_type": "code",
   "execution_count": 10,
   "metadata": {},
   "outputs": [
    {
     "data": {
      "text/plain": [
       "'d-2c7bed64-f4bf-11e8-bfaa-0242ac120008'"
      ]
     },
     "execution_count": 10,
     "metadata": {},
     "output_type": "execute_result"
    }
   ],
   "source": [
    "dset.id.id"
   ]
  },
  {
   "cell_type": "code",
   "execution_count": 12,
   "metadata": {},
   "outputs": [
    {
     "data": {
      "text/plain": [
       "(336, 2976)"
      ]
     },
     "execution_count": 12,
     "metadata": {},
     "output_type": "execute_result"
    }
   ],
   "source": [
    "dset.chunks"
   ]
  },
  {
   "cell_type": "code",
   "execution_count": 13,
   "metadata": {},
   "outputs": [
    {
     "name": "stdout",
     "output_type": "stream",
     "text": [
      "CPU times: user 8 ms, sys: 0 ns, total: 8 ms\n",
      "Wall time: 1.17 s\n"
     ]
    }
   ],
   "source": [
    "%time arr = dset[:,1159320]"
   ]
  },
  {
   "cell_type": "code",
   "execution_count": null,
   "metadata": {},
   "outputs": [],
   "source": []
  }
 ],
 "metadata": {
  "kernelspec": {
   "display_name": "Python 3",
   "language": "python",
   "name": "python3"
  },
  "language_info": {
   "codemirror_mode": {
    "name": "ipython",
    "version": 3
   },
   "file_extension": ".py",
   "mimetype": "text/x-python",
   "name": "python",
   "nbconvert_exporter": "python",
   "pygments_lexer": "ipython3",
   "version": "3.6.3"
  }
 },
 "nbformat": 4,
 "nbformat_minor": 2
}

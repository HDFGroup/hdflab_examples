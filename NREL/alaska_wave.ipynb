{
 "cells": [
  {
   "cell_type": "markdown",
   "metadata": {},
   "source": [
    "## NREL WAVE data Alaska "
   ]
  },
  {
   "cell_type": "markdown",
   "metadata": {},
   "source": [
    "This notebook demonstrates basic usage of the National Renewable Energy Laboratory (NREL) Wave data. More complete examples can be found here: https://github.com/NREL/hsds-examples. \n"
   ]
  },
  {
   "cell_type": "code",
   "execution_count": 1,
   "metadata": {},
   "outputs": [],
   "source": [
    "%matplotlib inline\n",
    "import h5pyd\n",
    "import numpy as np\n",
    "import matplotlib.pyplot as plt\n",
    "import matplotlib.image as mpimg"
   ]
  },
  {
   "cell_type": "code",
   "execution_count": 2,
   "metadata": {},
   "outputs": [
    {
     "data": {
      "text/plain": [
       "'0.8.4'"
      ]
     },
     "execution_count": 2,
     "metadata": {},
     "output_type": "execute_result"
    }
   ],
   "source": [
    "h5pyd.version.version  # should be >= 0.4.2"
   ]
  },
  {
   "cell_type": "code",
   "execution_count": 3,
   "metadata": {},
   "outputs": [
    {
     "name": "stdout",
     "output_type": "stream",
     "text": [
      "server name: NREL prod HSDS server\n",
      "server state: READY\n",
      "endpoint: https://developer.nrel.gov/api/hsds\n",
      "username: api_gateway \n",
      "password: ****\n",
      "server version: 0.7.0beta\n",
      "node count: 8\n",
      "up: 29 days, 3 hours 31 min 44 sec\n",
      "h5pyd version: 0.8.4\n"
     ]
    }
   ],
   "source": [
    "! hsinfo"
   ]
  },
  {
   "cell_type": "code",
   "execution_count": 4,
   "metadata": {},
   "outputs": [
    {
     "name": "stdout",
     "output_type": "stream",
     "text": [
      "nrel_admin                                          folder   2021-07-22 19:01:28 /nrel/US_wave/Alaska/\n",
      "nrel_admin                             30.5M        domain   2021-10-28 18:33:57 /nrel/US_wave/Alaska/Alaska_wave_1979.h5\n",
      "nrel_admin                            455.2G        domain   2021-07-30 19:09:34 /nrel/US_wave/Alaska/Alaska_wave_1980.h5\n",
      "nrel_admin                            455.2G        domain   2021-07-30 19:10:24 /nrel/US_wave/Alaska/Alaska_wave_1981.h5\n",
      "nrel_admin                            455.2G        domain   2021-07-30 19:10:24 /nrel/US_wave/Alaska/Alaska_wave_1982.h5\n",
      "nrel_admin                            455.2G        domain   2021-07-30 19:11:25 /nrel/US_wave/Alaska/Alaska_wave_1983.h5\n",
      "nrel_admin                            455.2G        domain   2022-03-30 14:26:55 /nrel/US_wave/Alaska/Alaska_wave_1984.h5\n",
      "nrel_admin                            455.2G        domain   2021-07-30 19:15:26 /nrel/US_wave/Alaska/Alaska_wave_1985.h5\n",
      "nrel_admin                            455.2G        domain   2021-07-30 19:14:36 /nrel/US_wave/Alaska/Alaska_wave_1986.h5\n",
      "nrel_admin                            455.2G        domain   2021-07-30 19:13:29 /nrel/US_wave/Alaska/Alaska_wave_1987.h5\n",
      "nrel_admin                            455.2G        domain   2021-07-30 19:13:36 /nrel/US_wave/Alaska/Alaska_wave_1988.h5\n",
      "nrel_admin                            455.2G        domain   2021-07-30 19:14:35 /nrel/US_wave/Alaska/Alaska_wave_1989.h5\n",
      "nrel_admin                            455.2G        domain   2021-07-30 19:16:33 /nrel/US_wave/Alaska/Alaska_wave_1990.h5\n",
      "nrel_admin                            455.1G        domain   2022-03-30 14:30:08 /nrel/US_wave/Alaska/Alaska_wave_1991.h5\n",
      "nrel_admin                            455.2G        domain   2021-07-30 19:13:37 /nrel/US_wave/Alaska/Alaska_wave_1992.h5\n",
      "nrel_admin                            455.2G        domain   2021-07-30 19:13:26 /nrel/US_wave/Alaska/Alaska_wave_1993.h5\n",
      "nrel_admin                            455.2G        domain   2021-07-30 19:13:29 /nrel/US_wave/Alaska/Alaska_wave_1994.h5\n",
      "nrel_admin                            455.2G        domain   2021-07-30 19:13:28 /nrel/US_wave/Alaska/Alaska_wave_1995.h5\n",
      "nrel_admin                            455.2G        domain   2021-07-30 19:18:25 /nrel/US_wave/Alaska/Alaska_wave_1996.h5\n",
      "nrel_admin                            455.2G        domain   2021-07-30 19:18:35 /nrel/US_wave/Alaska/Alaska_wave_1997.h5\n",
      "nrel_admin                            455.2G        domain   2021-07-30 19:15:27 /nrel/US_wave/Alaska/Alaska_wave_1998.h5\n",
      "nrel_admin                            455.2G        domain   2021-07-30 19:15:26 /nrel/US_wave/Alaska/Alaska_wave_1999.h5\n",
      "nrel_admin                            455.2G        domain   2021-07-30 19:15:24 /nrel/US_wave/Alaska/Alaska_wave_2000.h5\n",
      "nrel_admin                            455.2G        domain   2021-07-30 19:15:29 /nrel/US_wave/Alaska/Alaska_wave_2001.h5\n",
      "nrel_admin                            455.2G        domain   2021-07-30 19:15:21 /nrel/US_wave/Alaska/Alaska_wave_2002.h5\n",
      "nrel_admin                            455.2G        domain   2021-07-30 19:18:35 /nrel/US_wave/Alaska/Alaska_wave_2003.h5\n",
      "nrel_admin                            455.2G        domain   2021-07-30 19:17:33 /nrel/US_wave/Alaska/Alaska_wave_2004.h5\n",
      "nrel_admin                            455.2G        domain   2021-07-30 19:17:25 /nrel/US_wave/Alaska/Alaska_wave_2005.h5\n",
      "nrel_admin                            455.2G        domain   2021-07-30 19:17:34 /nrel/US_wave/Alaska/Alaska_wave_2006.h5\n",
      "nrel_admin                            455.2G        domain   2021-07-30 19:17:28 /nrel/US_wave/Alaska/Alaska_wave_2007.h5\n",
      "nrel_admin                            455.2G        domain   2021-07-30 19:19:24 /nrel/US_wave/Alaska/Alaska_wave_2008.h5\n",
      "nrel_admin                            455.2G        domain   2021-07-30 19:21:29 /nrel/US_wave/Alaska/Alaska_wave_2009.h5\n",
      "nrel_admin                            455.2G        domain   2021-07-30 19:21:33 /nrel/US_wave/Alaska/Alaska_wave_2010.h5\n",
      "33 items\n"
     ]
    }
   ],
   "source": [
    "# In the shell, use the --bucket option to list files from NREL's S3 bucket \n",
    "!  hsls --bucket nrel-pds-hsds -H -v /nrel/US_wave/Alaska/"
   ]
  },
  {
   "cell_type": "code",
   "execution_count": 5,
   "metadata": {
    "collapsed": false,
    "jupyter": {
     "outputs_hidden": false
    }
   },
   "outputs": [
    {
     "name": "stdout",
     "output_type": "stream",
     "text": [
      "CPU times: user 10.2 ms, sys: 5.19 ms, total: 15.4 ms\n",
      "Wall time: 636 ms\n"
     ]
    }
   ],
   "source": [
    "# Open the wind data \"file\". Use the bucket param to get data from NREL's S3 bucket\n",
    "%time f = h5pyd.File(\"/nrel/US_wave/Alaska/Alaska_wave_1991.h5\", 'r', bucket=\"nrel-pds-hsds\")  "
   ]
  },
  {
   "cell_type": "code",
   "execution_count": 6,
   "metadata": {
    "collapsed": false,
    "jupyter": {
     "outputs_hidden": false
    }
   },
   "outputs": [
    {
     "name": "stdout",
     "output_type": "stream",
     "text": [
      "ref_IEC62600-101: International Electrotechnical Commission, Marine energy - Wave, tidal and other water current converters - Part 101: Wave energy resource assessment and characterization, Technical Specification 62600–101, 2015.\n",
      "ref_SWAN-Manual: SWAN Team, SWAN: User Manual, Delft University of Technology, Delft, The Netherlands, Cycle III Version 41.31, 2019.\n",
      "ref_Wu-Wang-Yang-Garcia-Medina-2020: W.C. Wu, T. Wang, Z. Yang, and G. García-Medina, “Development and validation of a high-resolution regional wave hindcast model for U.S. West Coast wave resource characterization,” Renewable Energy, vol. 152, pp. 736–753, Jun. 2020.\n",
      "source: PNNL2019\n",
      "version: v1.0.0\n"
     ]
    }
   ],
   "source": [
    "# attributes can be used to provide desriptions of the content\n",
    "for k in f.attrs:\n",
    "    print(f\"{k}: {f.attrs[k]}\") "
   ]
  },
  {
   "cell_type": "code",
   "execution_count": 7,
   "metadata": {
    "collapsed": false,
    "jupyter": {
     "outputs_hidden": false
    }
   },
   "outputs": [
    {
     "data": {
      "text/plain": [
       "['coordinates',\n",
       " 'directionality_coefficient',\n",
       " 'energy_period',\n",
       " 'maximum_energy_direction',\n",
       " 'mean_absolute_period',\n",
       " 'mean_wave_direction',\n",
       " 'mean_zero-crossing_period',\n",
       " 'meta',\n",
       " 'omni-directional_wave_power',\n",
       " 'peak_period',\n",
       " 'significant_wave_height',\n",
       " 'spectral_width',\n",
       " 'time_index']"
      ]
     },
     "execution_count": 7,
     "metadata": {},
     "output_type": "execute_result"
    }
   ],
   "source": [
    "list(f)  # list the datasets in the file"
   ]
  },
  {
   "cell_type": "code",
   "execution_count": 8,
   "metadata": {},
   "outputs": [],
   "source": [
    "# get the windspeed at 80 meters\n",
    "dset = f['significant_wave_height']"
   ]
  },
  {
   "cell_type": "code",
   "execution_count": 9,
   "metadata": {
    "collapsed": false,
    "jupyter": {
     "outputs_hidden": false
    }
   },
   "outputs": [
    {
     "data": {
      "text/plain": [
       "'d-267e9824-ff880e99-0bfb-dcdf28-c3d9a0'"
      ]
     },
     "execution_count": 9,
     "metadata": {},
     "output_type": "execute_result"
    }
   ],
   "source": [
    "dset.id.id  # each object is identified with a guid"
   ]
  },
  {
   "cell_type": "code",
   "execution_count": 10,
   "metadata": {
    "collapsed": false,
    "jupyter": {
     "outputs_hidden": false
    }
   },
   "outputs": [
    {
     "data": {
      "text/plain": [
       "(2920, 3894283)"
      ]
     },
     "execution_count": 10,
     "metadata": {},
     "output_type": "execute_result"
    }
   ],
   "source": [
    "dset.shape  # shape is three-dimensional  time x lat x lon"
   ]
  },
  {
   "cell_type": "code",
   "execution_count": 11,
   "metadata": {
    "collapsed": false,
    "jupyter": {
     "outputs_hidden": false
    }
   },
   "outputs": [
    {
     "data": {
      "text/plain": [
       "dtype('float32')"
      ]
     },
     "execution_count": 11,
     "metadata": {},
     "output_type": "execute_result"
    }
   ],
   "source": [
    "dset.dtype  # type is four byte floats"
   ]
  },
  {
   "cell_type": "code",
   "execution_count": 12,
   "metadata": {
    "collapsed": false,
    "jupyter": {
     "outputs_hidden": false
    }
   },
   "outputs": [
    {
     "data": {
      "text/plain": [
       "{'class': 'H5D_CHUNKED_REF_INDIRECT',\n",
       " 'file_uri': 's3://wpto-pds-us-wave/v1.0.0/Alaska/Alaska_wave_1991.h5',\n",
       " 'dims': [448, 1116],\n",
       " 'chunk_table': 'd-267e9824-ff880e99-4c30-74ccea-aa61a7'}"
      ]
     },
     "execution_count": 12,
     "metadata": {},
     "output_type": "execute_result"
    }
   ],
   "source": [
    "# chunks describe how the dataset data is stored\n",
    "# 'H5D_CHUNKED_REF_INDIRECT' is used to reference chunks stored in an external HDF5 file\n",
    "dset.chunks  "
   ]
  },
  {
   "cell_type": "code",
   "execution_count": 13,
   "metadata": {
    "collapsed": false,
    "jupyter": {
     "outputs_hidden": false
    }
   },
   "outputs": [
    {
     "data": {
      "text/plain": [
       "45485225440"
      ]
     },
     "execution_count": 13,
     "metadata": {},
     "output_type": "execute_result"
    }
   ],
   "source": [
    "dset.shape[0] * dset.shape[1] * 4  # ~40 GB per dataset"
   ]
  },
  {
   "cell_type": "code",
   "execution_count": 14,
   "metadata": {
    "collapsed": false,
    "jupyter": {
     "outputs_hidden": false
    }
   },
   "outputs": [
    {
     "name": "stdout",
     "output_type": "stream",
     "text": [
      "CPU times: user 4.27 ms, sys: 0 ns, total: 4.27 ms\n",
      "Wall time: 2.12 s\n"
     ]
    }
   ],
   "source": [
    "# read one slice of the data\n",
    "%time tseries = dset[::,12345]"
   ]
  },
  {
   "cell_type": "code",
   "execution_count": 15,
   "metadata": {
    "collapsed": false,
    "jupyter": {
     "outputs_hidden": false
    }
   },
   "outputs": [
    {
     "data": {
      "text/plain": [
       "2920"
      ]
     },
     "execution_count": 15,
     "metadata": {},
     "output_type": "execute_result"
    }
   ],
   "source": [
    "len(tseries)    "
   ]
  },
  {
   "cell_type": "code",
   "execution_count": 16,
   "metadata": {},
   "outputs": [
    {
     "data": {
      "text/plain": [
       "(0.25215, 7.39395, 1.8990469)"
      ]
     },
     "execution_count": 16,
     "metadata": {},
     "output_type": "execute_result"
    }
   ],
   "source": [
    "tseries.min(), tseries.max(), tseries.mean()"
   ]
  },
  {
   "cell_type": "code",
   "execution_count": 17,
   "metadata": {
    "collapsed": false,
    "jupyter": {
     "outputs_hidden": false
    }
   },
   "outputs": [
    {
     "data": {
      "text/plain": [
       "[<matplotlib.lines.Line2D at 0x7fa2add6fd30>]"
      ]
     },
     "execution_count": 17,
     "metadata": {},
     "output_type": "execute_result"
    },
    {
     "data": {
      "image/png": "[encoded data removed]",
      "text/plain": [
       "<Figure size 432x288 with 1 Axes>"
      ]
     },
     "metadata": {
      "needs_background": "light"
     },
     "output_type": "display_data"
    }
   ],
   "source": [
    "x = range(len(tseries))\n",
    "plt.plot(x, tseries)"
   ]
  },
  {
   "cell_type": "code",
   "execution_count": null,
   "metadata": {},
   "outputs": [],
   "source": []
  }
 ],
 "metadata": {
  "kernelspec": {
   "display_name": "Python 3",
   "language": "python",
   "name": "python3"
  },
  "language_info": {
   "codemirror_mode": {
    "name": "ipython",
    "version": 3
   },
   "file_extension": ".py",
   "mimetype": "text/x-python",
   "name": "python",
   "nbconvert_exporter": "python",
   "pygments_lexer": "ipython3",
   "version": "3.9.2"
  }
 },
 "nbformat": 4,
 "nbformat_minor": 4
}

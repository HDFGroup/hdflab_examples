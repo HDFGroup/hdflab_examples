{
 "cells": [
  {
   "cell_type": "markdown",
   "metadata": {},
   "source": [
    "# Types"
   ]
  },
  {
   "cell_type": "markdown",
   "metadata": {},
   "source": [
    "Objectives\n",
    " * Learn more about the HDF5 type system\n",
    " * Create fixed-length string datasets\n",
    " * Create compound type datasets"
   ]
  },
  {
   "cell_type": "code",
   "execution_count": 2,
   "metadata": {
    "collapsed": true
   },
   "outputs": [],
   "source": [
    "USE_H5PY=1  # Set to 0 to use HDF Server\n",
    "if USE_H5PY:\n",
    "    import h5py\n",
    "else:\n",
    "    import h5pyd as h5py\n",
    "import numpy as np\n",
    "import os"
   ]
  },
  {
   "cell_type": "code",
   "execution_count": 3,
   "metadata": {},
   "outputs": [],
   "source": [
    "#\n",
    "# Get folder/directory for HDF files we create  \n",
    "#\n",
    "def getMyFolder():\n",
    "    DIR_NAME = \"HDFLabTutorial/\"\n",
    "    if USE_H5PY:\n",
    "        myfolder = os.getenv(\"HOME\") + \"/\" + DIR_NAME\n",
    "        if not os.path.isdir(myfolder):\n",
    "            # create a directory on the local disk if needed\n",
    "            print(\"created folder:\", myfolder)\n",
    "            os.mkdir(myfolder)\n",
    "    else:\n",
    "        dir = h5py.Folder('/home/')  # get folder object for root\n",
    "        username = os.getenv(\"JUPYTERHUB_USER\")\n",
    "        myfolder = None\n",
    "        for name in dir:\n",
    "            # we should come across the given domain\n",
    "            if username.startswith(name):\n",
    "                # check any folders where the name matches at least part of the username\n",
    "                # e.g. folder: \"/home/bob/\" for username \"bob@acme.com\"\n",
    "                path = '/home/' + name + '/'\n",
    "                f = h5py.Folder(path)\n",
    "                if f.owner == username:\n",
    "                    myfolder = path\n",
    "                f.close()\n",
    "                if myfolder:\n",
    "                    break\n",
    "\n",
    "        dir.close()\n",
    "    \n",
    "        # create a workshop subfolder if not already present\n",
    "        myfolder += DIR_NAME\n",
    "        try:\n",
    "            h5py.Folder(myfolder)\n",
    "        except IOError as ioe:\n",
    "            if ioe.errno != 404:\n",
    "                return None  # unexpected error\n",
    "            # not present - create it now\n",
    "            h5py.Folder(myfolder, mode='x')\n",
    "            print(\"created folder:\", myfolder)\n",
    "       \n",
    "    return myfolder"
   ]
  },
  {
   "cell_type": "code",
   "execution_count": 4,
   "metadata": {},
   "outputs": [
    {
     "data": {
      "text/plain": [
       "'/home/jovyan/HDFLabTutorial/'"
      ]
     },
     "execution_count": 4,
     "metadata": {},
     "output_type": "execute_result"
    }
   ],
   "source": [
    "# Get your home folder\n",
    "# will be a posix directory is H5PY is 1, or a server folder if 0\n",
    "home = getMyFolder()\n",
    "home  # this is the folder where you have permission to write to"
   ]
  },
  {
   "cell_type": "code",
   "execution_count": 5,
   "metadata": {
    "collapsed": true
   },
   "outputs": [],
   "source": [
    "# create a file on the disk, or a domain on the server (based on USE_H5PY)\n",
    "filename = home + \"07.h5\"\n",
    "f = h5py.File(filename, 'w')"
   ]
  },
  {
   "cell_type": "code",
   "execution_count": 6,
   "metadata": {
    "collapsed": true
   },
   "outputs": [],
   "source": [
    "# Datasets with fixed-width strings are efficient to index\n",
    "# Create them using the numpy Snn type (where nn is the width of the string)\n",
    "dt = np.dtype(\"S10\")\n",
    "dset = f.create_dataset(\"fixed_str\", (4,), dtype=dt)"
   ]
  },
  {
   "cell_type": "code",
   "execution_count": 7,
   "metadata": {
    "collapsed": true
   },
   "outputs": [
    {
     "data": {
      "text/plain": [
       "array([b'', b'', b'', b''], dtype='|S10')"
      ]
     },
     "execution_count": 7,
     "metadata": {},
     "output_type": "execute_result"
    }
   ],
   "source": [
    "dset[...]"
   ]
  },
  {
   "cell_type": "code",
   "execution_count": 9,
   "metadata": {
    "collapsed": true
   },
   "outputs": [],
   "source": [
    "# you can store up to 10 character long strings (exclusive of a null terminator)\n",
    "# any string that is too long will be silently truncated\n",
    "# Note use the b prefix to denote byte strings as opposed to Unicode\n",
    "dset[0] = b\"0123456789\"\n",
    "dset[1] = b\"ABCD\"\n",
    "dset[2] = b\"hi, bye\"\n",
    "dset[3] = b\"This string is too long to fit\""
   ]
  },
  {
   "cell_type": "code",
   "execution_count": 10,
   "metadata": {
    "collapsed": true
   },
   "outputs": [
    {
     "data": {
      "text/plain": [
       "array([b'0123456789', b'ABCD', b'hi, bye', b'This strin'], dtype='|S10')"
      ]
     },
     "execution_count": 10,
     "metadata": {},
     "output_type": "execute_result"
    }
   ],
   "source": [
    "dset[...]"
   ]
  },
  {
   "cell_type": "markdown",
   "metadata": {},
   "source": [
    "TODO: Example for variable length strings"
   ]
  },
  {
   "cell_type": "code",
   "execution_count": 11,
   "metadata": {
    "collapsed": true
   },
   "outputs": [],
   "source": [
    "# Rather than just primitive types (floats, ints, and strings), sometimes\n",
    "# it is nice to bundle together multiple types as with a C struct.\n",
    "# We can do that using compound types\n",
    "dt = np.dtype([(\"pressure\", np.float), (\"count\", np.int)])\n",
    "dset = f.create_dataset(\"compound\", (10,), dtype=dt)\n",
    " "
   ]
  },
  {
   "cell_type": "code",
   "execution_count": 12,
   "metadata": {
    "collapsed": true
   },
   "outputs": [
    {
     "data": {
      "text/plain": [
       "dtype([('pressure', '<f8'), ('count', '<i8')])"
      ]
     },
     "execution_count": 12,
     "metadata": {},
     "output_type": "execute_result"
    }
   ],
   "source": [
    "# The type is an array of other types (possibly compound themselves!)\n",
    "dset.dtype"
   ]
  },
  {
   "cell_type": "code",
   "execution_count": 13,
   "metadata": {
    "collapsed": true
   },
   "outputs": [],
   "source": [
    "dset[0] = (32.8, 12)"
   ]
  },
  {
   "cell_type": "code",
   "execution_count": 14,
   "metadata": {
    "collapsed": true
   },
   "outputs": [
    {
     "data": {
      "text/plain": [
       "array([(32.8, 12), ( 0. ,  0), ( 0. ,  0), ( 0. ,  0), ( 0. ,  0),\n",
       "       ( 0. ,  0), ( 0. ,  0), ( 0. ,  0), ( 0. ,  0), ( 0. ,  0)],\n",
       "      dtype=[('pressure', '<f8'), ('count', '<i8')])"
      ]
     },
     "execution_count": 14,
     "metadata": {},
     "output_type": "execute_result"
    }
   ],
   "source": [
    "dset[...]"
   ]
  },
  {
   "cell_type": "markdown",
   "metadata": {},
   "source": [
    "Problem: Add a third field to the above type and create a new dataset using it"
   ]
  },
  {
   "cell_type": "code",
   "execution_count": null,
   "metadata": {
    "collapsed": true
   },
   "outputs": [],
   "source": []
  }
 ],
 "metadata": {
  "kernelspec": {
   "display_name": "Python 3",
   "language": "python",
   "name": "python3"
  },
  "language_info": {
   "codemirror_mode": {
    "name": "ipython",
    "version": 3
   },
   "file_extension": ".py",
   "mimetype": "text/x-python",
   "name": "python",
   "nbconvert_exporter": "python",
   "pygments_lexer": "ipython3",
   "version": "3.6.3"
  }
 },
 "nbformat": 4,
 "nbformat_minor": 2
}

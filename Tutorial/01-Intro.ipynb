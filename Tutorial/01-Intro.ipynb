{
 "cells": [
  {
   "cell_type": "markdown",
   "metadata": {},
   "source": [
    "# 1 Introduction and REST API"
   ]
  },
  {
   "cell_type": "markdown",
   "metadata": {},
   "source": [
    "Objectives\n",
    " * Verify software for the workshop is installed correctly\n",
    " * Make a REST request to the HSDS Server"
   ]
  },
  {
   "cell_type": "code",
   "execution_count": 1,
   "metadata": {
    "collapsed": true
   },
   "outputs": [],
   "source": [
    "# the server endpoint we'll use for this workshop (this will likely change in the future)\n",
    "hs_endpoint = \"http://52.4.181.237:5101\"   "
   ]
  },
  {
   "cell_type": "code",
   "execution_count": 2,
   "metadata": {
    "collapsed": true
   },
   "outputs": [],
   "source": [
    "# request is a popular python library for making http requests\n",
    "import requests\n",
    "import json"
   ]
  },
  {
   "cell_type": "code",
   "execution_count": 3,
   "metadata": {
    "collapsed": false
   },
   "outputs": [],
   "source": [
    "rsp = requests.get(hs_endpoint + \"/about\")"
   ]
  },
  {
   "cell_type": "code",
   "execution_count": 4,
   "metadata": {
    "collapsed": false
   },
   "outputs": [
    {
     "data": {
      "text/plain": [
       "200"
      ]
     },
     "execution_count": 4,
     "metadata": {},
     "output_type": "execute_result"
    }
   ],
   "source": [
    "rsp.status_code  # should be 200"
   ]
  },
  {
   "cell_type": "code",
   "execution_count": 5,
   "metadata": {
    "collapsed": false
   },
   "outputs": [
    {
     "data": {
      "text/plain": [
       "{u'about': u'HSDS is a webservice for HSDS data',\n",
       " u'greeting': u'Welcome to HSDS!',\n",
       " u'hsds_version': u'0.1',\n",
       " u'name': u'HDFCloud (HSDS)',\n",
       " u'start_time': 1524662464,\n",
       " u'state': u'READY'}"
      ]
     },
     "execution_count": 5,
     "metadata": {},
     "output_type": "execute_result"
    }
   ],
   "source": [
    "rsp.json()"
   ]
  },
  {
   "cell_type": "markdown",
   "metadata": {},
   "source": [
    "Problem: \"/info\" is another request supported by the server.  What does it return?"
   ]
  },
  {
   "cell_type": "code",
   "execution_count": 6,
   "metadata": {
    "collapsed": false
   },
   "outputs": [
    {
     "data": {
      "text/plain": [
       "200"
      ]
     },
     "execution_count": 6,
     "metadata": {},
     "output_type": "execute_result"
    }
   ],
   "source": [
    "# get information about a HDF5 \"file\" on the server\n",
    "params={\"domain\":\"/home/hdf/tall.h5\"}\n",
    "rsp = requests.get(hs_endpoint + \"/\", params=params)\n",
    "rsp.status_code"
   ]
  },
  {
   "cell_type": "code",
   "execution_count": 7,
   "metadata": {
    "collapsed": false
   },
   "outputs": [
    {
     "data": {
      "text/plain": [
       "{u'class': u'domain',\n",
       " u'created': 1508301625.486037,\n",
       " u'hrefs': [{u'href': u'http://52.4.181.237:5101/?domain=/home/hdf/tall.h5',\n",
       "   u'rel': u'self'},\n",
       "  {u'href': u'http://52.4.181.237:5101/datasets?domain=/home/hdf/tall.h5',\n",
       "   u'rel': u'database'},\n",
       "  {u'href': u'http://52.4.181.237:5101/groups?domain=/home/hdf/tall.h5',\n",
       "   u'rel': u'groupbase'},\n",
       "  {u'href': u'http://52.4.181.237:5101/datatypes?domain=/home/hdf/tall.h5',\n",
       "   u'rel': u'typebase'},\n",
       "  {u'href': u'http://52.4.181.237:5101/groups/g-757f7436-b3be-11e7-ab77-0242ac110008?domain=/home/hdf/tall.h5',\n",
       "   u'rel': u'root'},\n",
       "  {u'href': u'http://52.4.181.237:5101/acls?domain=/home/hdf/tall.h5',\n",
       "   u'rel': u'acls'},\n",
       "  {u'href': u'http://52.4.181.237:5101/?domain=/home/hdf', u'rel': u'parent'}],\n",
       " u'lastModified': 1508301625.486037,\n",
       " u'owner': u'hdf',\n",
       " u'root': u'g-757f7436-b3be-11e7-ab77-0242ac110008'}"
      ]
     },
     "execution_count": 7,
     "metadata": {},
     "output_type": "execute_result"
    }
   ],
   "source": [
    "rsp_json = rsp.json()\n",
    "rsp_json"
   ]
  },
  {
   "cell_type": "code",
   "execution_count": 8,
   "metadata": {
    "collapsed": false
   },
   "outputs": [
    {
     "data": {
      "text/plain": [
       "u'g-757f7436-b3be-11e7-ab77-0242ac110008'"
      ]
     },
     "execution_count": 8,
     "metadata": {},
     "output_type": "execute_result"
    }
   ],
   "source": [
    "root_id = rsp_json[\"root\"]\n",
    "root_id"
   ]
  },
  {
   "cell_type": "code",
   "execution_count": 9,
   "metadata": {
    "collapsed": false
   },
   "outputs": [
    {
     "data": {
      "text/plain": [
       "200"
      ]
     },
     "execution_count": 9,
     "metadata": {},
     "output_type": "execute_result"
    }
   ],
   "source": [
    "# getinfo about the root group\n",
    "rsp = requests.get(hs_endpoint + \"/groups/\" + root_id, params=params)\n",
    "rsp.status_code"
   ]
  },
  {
   "cell_type": "code",
   "execution_count": 10,
   "metadata": {
    "collapsed": false
   },
   "outputs": [
    {
     "data": {
      "text/plain": [
       "{u'attributeCount': 2,\n",
       " u'created': 1508301625.4683566,\n",
       " u'domain': u'/home/hdf/tall.h5',\n",
       " u'hrefs': [{u'href': u'http://52.4.181.237:5101/groups/g-757f7436-b3be-11e7-ab77-0242ac110008?domain=/home/hdf/tall.h5',\n",
       "   u'rel': u'self'},\n",
       "  {u'href': u'http://52.4.181.237:5101/groups/g-757f7436-b3be-11e7-ab77-0242ac110008/links?domain=/home/hdf/tall.h5',\n",
       "   u'rel': u'links'},\n",
       "  {u'href': u'http://52.4.181.237:5101/groups/g-757f7436-b3be-11e7-ab77-0242ac110008?domain=/home/hdf/tall.h5',\n",
       "   u'rel': u'root'},\n",
       "  {u'href': u'http://52.4.181.237:5101/?domain=/home/hdf/tall.h5',\n",
       "   u'rel': u'home'},\n",
       "  {u'href': u'http://52.4.181.237:5101/groups/g-757f7436-b3be-11e7-ab77-0242ac110008/attributes?domain=/home/hdf/tall.h5',\n",
       "   u'rel': u'attributes'}],\n",
       " u'id': u'g-757f7436-b3be-11e7-ab77-0242ac110008',\n",
       " u'lastModified': 1508301629.9594643,\n",
       " u'linkCount': 2,\n",
       " u'root': u'g-757f7436-b3be-11e7-ab77-0242ac110008'}"
      ]
     },
     "execution_count": 10,
     "metadata": {},
     "output_type": "execute_result"
    }
   ],
   "source": [
    "root_json = rsp.json()\n",
    "root_json"
   ]
  },
  {
   "cell_type": "markdown",
   "metadata": {},
   "source": [
    "Problem: replace the root_id in the last request with \"g-1234\".  What status code do you get?"
   ]
  },
  {
   "cell_type": "code",
   "execution_count": 15,
   "metadata": {
    "collapsed": false
   },
   "outputs": [
    {
     "data": {
      "text/plain": [
       "200"
      ]
     },
     "execution_count": 15,
     "metadata": {},
     "output_type": "execute_result"
    }
   ],
   "source": [
    "# get the dataset at /g1/g1.1/dset1.1.1\n",
    "params[\"h5path\"] = \"/g1/g1.1/dset1.1.1\"\n",
    "rsp = requests.get(hs_endpoint + \"/datasets/\", params=params)\n",
    "rsp.status_code"
   ]
  },
  {
   "cell_type": "code",
   "execution_count": 16,
   "metadata": {
    "collapsed": false
   },
   "outputs": [
    {
     "data": {
      "text/plain": [
       "{u'attributeCount': 2,\n",
       " u'created': 1508301626,\n",
       " u'creationProperties': {u'fillTime': u'H5D_FILL_TIME_ALLOC',\n",
       "  u'layout': {u'class': u'H5D_CHUNKED', u'dims': [10, 10]}},\n",
       " u'domain': u'/home/hdf/tall.h5',\n",
       " u'hrefs': [{u'href': u'http://52.4.181.237:5101/datasets/d-76261f3e-b3be-11e7-ab77-0242ac110008?domain=/home/hdf/tall.h5',\n",
       "   u'rel': u'self'},\n",
       "  {u'href': u'http://52.4.181.237:5101/groups/g-757f7436-b3be-11e7-ab77-0242ac110008?domain=/home/hdf/tall.h5',\n",
       "   u'rel': u'root'},\n",
       "  {u'href': u'http://52.4.181.237:5101/?domain=/home/hdf/tall.h5',\n",
       "   u'rel': u'home'},\n",
       "  {u'href': u'http://52.4.181.237:5101/datasets/d-76261f3e-b3be-11e7-ab77-0242ac110008/attributes?domain=/home/hdf/tall.h5',\n",
       "   u'rel': u'attributes'},\n",
       "  {u'href': u'http://52.4.181.237:5101/datasets/d-76261f3e-b3be-11e7-ab77-0242ac110008/value?domain=/home/hdf/tall.h5',\n",
       "   u'rel': u'data'}],\n",
       " u'id': u'd-76261f3e-b3be-11e7-ab77-0242ac110008',\n",
       " u'lastModified': 1508301626,\n",
       " u'layout': {u'class': u'H5D_CHUNKED', u'dims': [10, 10]},\n",
       " u'root': u'g-757f7436-b3be-11e7-ab77-0242ac110008',\n",
       " u'shape': {u'class': u'H5S_SIMPLE', u'dims': [10, 10], u'maxdims': [10, 10]},\n",
       " u'type': {u'base': u'H5T_STD_I32BE', u'class': u'H5T_INTEGER'}}"
      ]
     },
     "execution_count": 16,
     "metadata": {},
     "output_type": "execute_result"
    }
   ],
   "source": [
    "dset_json = rsp.json()\n",
    "dset_json"
   ]
  },
  {
   "cell_type": "code",
   "execution_count": 17,
   "metadata": {
    "collapsed": false
   },
   "outputs": [
    {
     "data": {
      "text/plain": [
       "(200, {'domain': '/home/hdf/tall.h5'})"
      ]
     },
     "execution_count": 17,
     "metadata": {},
     "output_type": "execute_result"
    }
   ],
   "source": [
    "# read all the values from the dataset\n",
    "dset_id = dset_json[\"id\"]\n",
    "del params[\"h5path\"]  # don't need this now\n",
    "rsp = requests.get(hs_endpoint + \"/datasets/\" + dset_id + \"/value\", params=params)\n",
    "rsp.status_code"
   ]
  },
  {
   "cell_type": "code",
   "execution_count": 19,
   "metadata": {
    "collapsed": false
   },
   "outputs": [
    {
     "data": {
      "text/plain": [
       "[[0, 0, 0, 0, 0, 0, 0, 0, 0, 0],\n",
       " [0, 1, 2, 3, 4, 5, 6, 7, 8, 9],\n",
       " [0, 2, 4, 6, 8, 10, 12, 14, 16, 18],\n",
       " [0, 3, 6, 9, 12, 15, 18, 21, 24, 27],\n",
       " [0, 4, 8, 12, 16, 20, 24, 28, 32, 36],\n",
       " [0, 5, 10, 15, 20, 25, 30, 35, 40, 45],\n",
       " [0, 6, 12, 18, 24, 30, 36, 42, 48, 54],\n",
       " [0, 7, 14, 21, 28, 35, 42, 49, 56, 63],\n",
       " [0, 8, 16, 24, 32, 40, 48, 56, 64, 72],\n",
       " [0, 9, 18, 27, 36, 45, 54, 63, 72, 81]]"
      ]
     },
     "execution_count": 19,
     "metadata": {},
     "output_type": "execute_result"
    }
   ],
   "source": [
    "value_json = rsp.json()\n",
    "value_json[\"value\"]"
   ]
  },
  {
   "cell_type": "code",
   "execution_count": 26,
   "metadata": {
    "collapsed": false
   },
   "outputs": [
    {
     "data": {
      "text/plain": [
       "200"
      ]
     },
     "execution_count": 26,
     "metadata": {},
     "output_type": "execute_result"
    }
   ],
   "source": [
    "# get just the upper 3x4 elements\n",
    "params[\"select\"] = \"[0:3, 0:4]\"\n",
    "rsp = requests.get(hs_endpoint + \"/datasets/\" + dset_id + \"/value\", params=params)\n",
    "rsp.status_code"
   ]
  },
  {
   "cell_type": "code",
   "execution_count": 27,
   "metadata": {
    "collapsed": false
   },
   "outputs": [
    {
     "data": {
      "text/plain": [
       "[[0, 0, 0, 0], [0, 1, 2, 3], [0, 2, 4, 6]]"
      ]
     },
     "execution_count": 27,
     "metadata": {},
     "output_type": "execute_result"
    }
   ],
   "source": [
    "subarray_json = rsp.json()\n",
    "subarray_json[\"value\"]"
   ]
  },
  {
   "cell_type": "code",
   "execution_count": 28,
   "metadata": {
    "collapsed": false
   },
   "outputs": [
    {
     "data": {
      "text/plain": [
       "200"
      ]
     },
     "execution_count": 28,
     "metadata": {},
     "output_type": "execute_result"
    }
   ],
   "source": [
    "# read elements (i,i) for i in range 0-9\n",
    "points = []\n",
    "for i in range(10):\n",
    "    points.append([i,i])\n",
    "body = {\"points\": points}\n",
    "del params[\"select\"] # remove select so we will read across entire dataset\n",
    "rsp = requests.post(hs_endpoint + \"/datasets/\" + dset_id + \"/value\", params=params, data=json.dumps(body))\n",
    "rsp.status_code"
   ]
  },
  {
   "cell_type": "code",
   "execution_count": 29,
   "metadata": {
    "collapsed": false
   },
   "outputs": [
    {
     "data": {
      "text/plain": [
       "[0, 1, 4, 9, 16, 25, 36, 49, 64, 81]"
      ]
     },
     "execution_count": 29,
     "metadata": {},
     "output_type": "execute_result"
    }
   ],
   "source": [
    "points_json = rsp.json()\n",
    "points_json[\"value\"]"
   ]
  },
  {
   "cell_type": "code",
   "execution_count": 43,
   "metadata": {
    "collapsed": false
   },
   "outputs": [
    {
     "data": {
      "text/plain": [
       "200"
      ]
     },
     "execution_count": 43,
     "metadata": {},
     "output_type": "execute_result"
    }
   ],
   "source": [
    "# we can also get data values as a binary stream\n",
    "headers = {\"accept\": \"application/octet-stream\"}\n",
    "rsp = requests.post(hs_endpoint + \"/datasets/\" + dset_id + \"/value\", params=params, data=json.dumps(body), headers=headers)\n",
    "rsp.status_code\n"
   ]
  },
  {
   "cell_type": "code",
   "execution_count": 44,
   "metadata": {
    "collapsed": false
   },
   "outputs": [
    {
     "data": {
      "text/plain": [
       "'\\x00\\x00\\x00\\x00\\x00\\x00\\x00\\x01\\x00\\x00\\x00\\x04\\x00\\x00\\x00\\t\\x00\\x00\\x00\\x10\\x00\\x00\\x00\\x19\\x00\\x00\\x00$\\x00\\x00\\x001\\x00\\x00\\x00@\\x00\\x00\\x00Q'"
      ]
     },
     "execution_count": 44,
     "metadata": {},
     "output_type": "execute_result"
    }
   ],
   "source": [
    "rsp.content"
   ]
  }
 ],
 "metadata": {
  "kernelspec": {
   "display_name": "Python 2",
   "language": "python",
   "name": "python2"
  },
  "language_info": {
   "codemirror_mode": {
    "name": "ipython",
    "version": 2
   },
   "file_extension": ".py",
   "mimetype": "text/x-python",
   "name": "python",
   "nbconvert_exporter": "python",
   "pygments_lexer": "ipython2",
   "version": "2.7.9"
  }
 },
 "nbformat": 4,
 "nbformat_minor": 0
}

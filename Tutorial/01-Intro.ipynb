{
 "cells": [
  {
   "cell_type": "markdown",
   "metadata": {},
   "source": [
    "# 1 Introduction and REST API"
   ]
  },
  {
   "cell_type": "markdown",
   "metadata": {},
   "source": [
    "Objectives\n",
    " * Verify HDF Kita Lab is working correctly\n",
    " * Learn how to make REST requests to the HDF Kita Server"
   ]
  },
  {
   "cell_type": "code",
   "execution_count": 1,
   "metadata": {},
   "outputs": [],
   "source": [
    "# this is the server endpoint \n",
    "hs_endpoint = \"http://hsdshdflab.hdfgroup.org\"   "
   ]
  },
  {
   "cell_type": "code",
   "execution_count": 2,
   "metadata": {},
   "outputs": [],
   "source": [
    "# request is a popular python library for making http requests\n",
    "import requests\n",
    "import json"
   ]
  },
  {
   "cell_type": "code",
   "execution_count": 3,
   "metadata": {
    "collapsed": false,
    "jupyter": {
     "outputs_hidden": false
    }
   },
   "outputs": [],
   "source": [
    "# request server status info\n",
    "rsp = requests.get(hs_endpoint + \"/about\")"
   ]
  },
  {
   "cell_type": "code",
   "execution_count": 4,
   "metadata": {
    "collapsed": false,
    "jupyter": {
     "outputs_hidden": false
    }
   },
   "outputs": [
    {
     "data": {
      "text/plain": [
       "200"
      ]
     },
     "execution_count": 4,
     "metadata": {},
     "output_type": "execute_result"
    }
   ],
   "source": [
    "rsp.status_code  # should be 200"
   ]
  },
  {
   "cell_type": "code",
   "execution_count": 5,
   "metadata": {
    "collapsed": false,
    "jupyter": {
     "outputs_hidden": false
    }
   },
   "outputs": [
    {
     "data": {
      "text/plain": [
       "{'start_time': 1572409639,\n",
       " 'state': 'READY',\n",
       " 'hsds_version': '0.5',\n",
       " 'name': 'Kita (HSDS) for KitaLab',\n",
       " 'greeting': 'Welcome to Kita Lab! (K8s)',\n",
       " 'about': 'HSDS is a webservice for HDF data',\n",
       " 'node_count': 8}"
      ]
     },
     "execution_count": 5,
     "metadata": {},
     "output_type": "execute_result"
    }
   ],
   "source": [
    "# The response include the server state (hopefully 'READY')\n",
    "# and other information about the service\n",
    "rsp.json()"
   ]
  },
  {
   "cell_type": "markdown",
   "metadata": {},
   "source": [
    "Problem: \"/info\" is another request supported by the server.  What does it return?"
   ]
  },
  {
   "cell_type": "code",
   "execution_count": 6,
   "metadata": {
    "collapsed": false,
    "jupyter": {
     "outputs_hidden": false
    }
   },
   "outputs": [
    {
     "data": {
      "text/plain": [
       "200"
      ]
     },
     "execution_count": 6,
     "metadata": {},
     "output_type": "execute_result"
    }
   ],
   "source": [
    "# get information about a HDF5 \"file\" on the server\n",
    "params={\"domain\":\"/shared/tall.h5\"}\n",
    "rsp = requests.get(hs_endpoint + \"/\", params=params)\n",
    "rsp.status_code"
   ]
  },
  {
   "cell_type": "code",
   "execution_count": 7,
   "metadata": {
    "collapsed": false,
    "jupyter": {
     "outputs_hidden": false
    }
   },
   "outputs": [
    {
     "data": {
      "text/plain": [
       "{'root': 'g-75b88d05-46db146e-fd30-058dce-539ce6',\n",
       " 'class': 'domain',\n",
       " 'owner': 'admin',\n",
       " 'created': 1547768352.445156,\n",
       " 'limits': {'min_chunk_size': 1048576,\n",
       "  'max_chunk_size': 4194304,\n",
       "  'max_request_size': 104857600,\n",
       "  'max_chunks_per_request': 2500},\n",
       " 'version': '0.5',\n",
       " 'lastModified': 1551313768.4498284,\n",
       " 'hrefs': [{'rel': 'self',\n",
       "   'href': 'http://hsdshdflab.hdfgroup.org/?domain=/shared/tall.h5'},\n",
       "  {'rel': 'database',\n",
       "   'href': 'http://hsdshdflab.hdfgroup.org/datasets?domain=/shared/tall.h5'},\n",
       "  {'rel': 'groupbase',\n",
       "   'href': 'http://hsdshdflab.hdfgroup.org/groups?domain=/shared/tall.h5'},\n",
       "  {'rel': 'typebase',\n",
       "   'href': 'http://hsdshdflab.hdfgroup.org/datatypes?domain=/shared/tall.h5'},\n",
       "  {'rel': 'root',\n",
       "   'href': 'http://hsdshdflab.hdfgroup.org/groups/g-75b88d05-46db146e-fd30-058dce-539ce6?domain=/shared/tall.h5'},\n",
       "  {'rel': 'acls',\n",
       "   'href': 'http://hsdshdflab.hdfgroup.org/acls?domain=/shared/tall.h5'},\n",
       "  {'rel': 'parent',\n",
       "   'href': 'http://hsdshdflab.hdfgroup.org/?domain=hdflab/shared'}]}"
      ]
     },
     "execution_count": 7,
     "metadata": {},
     "output_type": "execute_result"
    }
   ],
   "source": [
    "# show the response contents\n",
    "rsp_json = rsp.json()\n",
    "rsp_json"
   ]
  },
  {
   "cell_type": "code",
   "execution_count": 8,
   "metadata": {
    "collapsed": false,
    "jupyter": {
     "outputs_hidden": false
    }
   },
   "outputs": [
    {
     "data": {
      "text/plain": [
       "'g-75b88d05-46db146e-fd30-058dce-539ce6'"
      ]
     },
     "execution_count": 8,
     "metadata": {},
     "output_type": "execute_result"
    }
   ],
   "source": [
    "# The domain response includes a key identifying the root group\n",
    "root_id = rsp_json[\"root\"]\n",
    "root_id"
   ]
  },
  {
   "cell_type": "code",
   "execution_count": 9,
   "metadata": {
    "collapsed": false,
    "jupyter": {
     "outputs_hidden": false
    }
   },
   "outputs": [
    {
     "data": {
      "text/plain": [
       "200"
      ]
     },
     "execution_count": 9,
     "metadata": {},
     "output_type": "execute_result"
    }
   ],
   "source": [
    "# getinfo about the root group\n",
    "rsp = requests.get(hs_endpoint + \"/groups/\" + root_id, params=params)\n",
    "rsp.status_code"
   ]
  },
  {
   "cell_type": "code",
   "execution_count": 10,
   "metadata": {
    "collapsed": false,
    "jupyter": {
     "outputs_hidden": false
    }
   },
   "outputs": [
    {
     "data": {
      "text/plain": [
       "{'id': 'g-75b88d05-46db146e-fd30-058dce-539ce6',\n",
       " 'root': 'g-75b88d05-46db146e-fd30-058dce-539ce6',\n",
       " 'created': 1547768352.4149091,\n",
       " 'lastModified': 1547768353.1518283,\n",
       " 'linkCount': 2,\n",
       " 'attributeCount': 2,\n",
       " 'domain': '/shared/tall.h5',\n",
       " 'bucket': 'hdflab',\n",
       " 'hrefs': [{'rel': 'self',\n",
       "   'href': 'http://hsdshdflab.hdfgroup.org/groups/g-75b88d05-46db146e-fd30-058dce-539ce6?domain=/shared/tall.h5'},\n",
       "  {'rel': 'links',\n",
       "   'href': 'http://hsdshdflab.hdfgroup.org/groups/g-75b88d05-46db146e-fd30-058dce-539ce6/links?domain=/shared/tall.h5'},\n",
       "  {'rel': 'root',\n",
       "   'href': 'http://hsdshdflab.hdfgroup.org/groups/g-75b88d05-46db146e-fd30-058dce-539ce6?domain=/shared/tall.h5'},\n",
       "  {'rel': 'home',\n",
       "   'href': 'http://hsdshdflab.hdfgroup.org/?domain=/shared/tall.h5'},\n",
       "  {'rel': 'attributes',\n",
       "   'href': 'http://hsdshdflab.hdfgroup.org/groups/g-75b88d05-46db146e-fd30-058dce-539ce6/attributes?domain=/shared/tall.h5'}]}"
      ]
     },
     "execution_count": 10,
     "metadata": {},
     "output_type": "execute_result"
    }
   ],
   "source": [
    "root_json = rsp.json()\n",
    "root_json"
   ]
  },
  {
   "cell_type": "markdown",
   "metadata": {},
   "source": [
    "Problem: replace the root_id in the last request with \"g-1234\".  What status code do you get?"
   ]
  },
  {
   "cell_type": "code",
   "execution_count": 11,
   "metadata": {
    "collapsed": false,
    "jupyter": {
     "outputs_hidden": false
    }
   },
   "outputs": [
    {
     "data": {
      "text/plain": [
       "200"
      ]
     },
     "execution_count": 11,
     "metadata": {},
     "output_type": "execute_result"
    }
   ],
   "source": [
    "# get the dataset at /g1/g1.1/dset1.1.1\n",
    "# instead of using the dataset id, we'll provide the \n",
    "# path to the object within the HDF file as query parameter\n",
    "params[\"h5path\"] = \"/g1/g1.1/dset1.1.1\"\n",
    "rsp = requests.get(hs_endpoint + \"/datasets/\", params=params)\n",
    "rsp.status_code"
   ]
  },
  {
   "cell_type": "code",
   "execution_count": 12,
   "metadata": {
    "collapsed": false,
    "jupyter": {
     "outputs_hidden": false
    }
   },
   "outputs": [
    {
     "data": {
      "text/plain": [
       "{'id': 'd-75b88d05-46db146e-8419-28925f-14d998',\n",
       " 'root': 'g-75b88d05-46db146e-fd30-058dce-539ce6',\n",
       " 'shape': {'class': 'H5S_SIMPLE', 'dims': [10, 10], 'maxdims': [10, 10]},\n",
       " 'type': {'class': 'H5T_INTEGER', 'base': 'H5T_STD_I32BE'},\n",
       " 'creationProperties': {'layout': {'class': 'H5D_CHUNKED', 'dims': [10, 10]},\n",
       "  'fillTime': 'H5D_FILL_TIME_ALLOC'},\n",
       " 'layout': {'class': 'H5D_CHUNKED', 'dims': [10, 10]},\n",
       " 'attributeCount': 2,\n",
       " 'created': 1547768352,\n",
       " 'lastModified': 1547768352,\n",
       " 'domain': '/shared/tall.h5',\n",
       " 'hrefs': [{'rel': 'self',\n",
       "   'href': 'http://hsdshdflab.hdfgroup.org/datasets/d-75b88d05-46db146e-8419-28925f-14d998?domain=/shared/tall.h5'},\n",
       "  {'rel': 'root',\n",
       "   'href': 'http://hsdshdflab.hdfgroup.org/groups/g-75b88d05-46db146e-fd30-058dce-539ce6?domain=/shared/tall.h5'},\n",
       "  {'rel': 'home',\n",
       "   'href': 'http://hsdshdflab.hdfgroup.org/?domain=/shared/tall.h5'},\n",
       "  {'rel': 'attributes',\n",
       "   'href': 'http://hsdshdflab.hdfgroup.org/datasets/d-75b88d05-46db146e-8419-28925f-14d998/attributes?domain=/shared/tall.h5'},\n",
       "  {'rel': 'data',\n",
       "   'href': 'http://hsdshdflab.hdfgroup.org/datasets/d-75b88d05-46db146e-8419-28925f-14d998/value?domain=/shared/tall.h5'}]}"
      ]
     },
     "execution_count": 12,
     "metadata": {},
     "output_type": "execute_result"
    }
   ],
   "source": [
    "dset_json = rsp.json()\n",
    "dset_json"
   ]
  },
  {
   "cell_type": "code",
   "execution_count": 13,
   "metadata": {
    "collapsed": false,
    "jupyter": {
     "outputs_hidden": false
    }
   },
   "outputs": [
    {
     "data": {
      "text/plain": [
       "200"
      ]
     },
     "execution_count": 13,
     "metadata": {},
     "output_type": "execute_result"
    }
   ],
   "source": [
    "# read all the values from the dataset\n",
    "dset_id = dset_json[\"id\"]\n",
    "del params[\"h5path\"]  # don't need this now\n",
    "rsp = requests.get(hs_endpoint + \"/datasets/\" + dset_id + \"/value\", params=params)\n",
    "rsp.status_code"
   ]
  },
  {
   "cell_type": "code",
   "execution_count": 14,
   "metadata": {
    "collapsed": false,
    "jupyter": {
     "outputs_hidden": false
    }
   },
   "outputs": [
    {
     "data": {
      "text/plain": [
       "[[0, 0, 0, 0, 0, 0, 0, 0, 0, 0],\n",
       " [0, 1, 2, 3, 4, 5, 6, 7, 8, 9],\n",
       " [0, 2, 4, 6, 8, 10, 12, 14, 16, 18],\n",
       " [0, 3, 6, 9, 12, 15, 18, 21, 24, 27],\n",
       " [0, 4, 8, 12, 16, 20, 24, 28, 32, 36],\n",
       " [0, 5, 10, 15, 20, 25, 30, 35, 40, 45],\n",
       " [0, 6, 12, 18, 24, 30, 36, 42, 48, 54],\n",
       " [0, 7, 14, 21, 28, 35, 42, 49, 56, 63],\n",
       " [0, 8, 16, 24, 32, 40, 48, 56, 64, 72],\n",
       " [0, 9, 18, 27, 36, 45, 54, 63, 72, 81]]"
      ]
     },
     "execution_count": 14,
     "metadata": {},
     "output_type": "execute_result"
    }
   ],
   "source": [
    "value_json = rsp.json()\n",
    "value_json[\"value\"]"
   ]
  },
  {
   "cell_type": "code",
   "execution_count": 15,
   "metadata": {
    "collapsed": false,
    "jupyter": {
     "outputs_hidden": false
    }
   },
   "outputs": [
    {
     "data": {
      "text/plain": [
       "200"
      ]
     },
     "execution_count": 15,
     "metadata": {},
     "output_type": "execute_result"
    }
   ],
   "source": [
    "# get just the upper 3x4 elements\n",
    "# We use the select query param with a numpy like metod to \n",
    "# specify the sub-region we want\n",
    "params[\"select\"] = \"[0:3, 0:4]\"\n",
    "rsp = requests.get(hs_endpoint + \"/datasets/\" + dset_id + \"/value\", params=params)\n",
    "rsp.status_code"
   ]
  },
  {
   "cell_type": "code",
   "execution_count": 16,
   "metadata": {
    "collapsed": false,
    "jupyter": {
     "outputs_hidden": false
    }
   },
   "outputs": [
    {
     "data": {
      "text/plain": [
       "[[0, 0, 0, 0], [0, 1, 2, 3], [0, 2, 4, 6]]"
      ]
     },
     "execution_count": 16,
     "metadata": {},
     "output_type": "execute_result"
    }
   ],
   "source": [
    "subarray_json = rsp.json()\n",
    "subarray_json[\"value\"]"
   ]
  },
  {
   "cell_type": "code",
   "execution_count": 17,
   "metadata": {
    "collapsed": false,
    "jupyter": {
     "outputs_hidden": false
    }
   },
   "outputs": [
    {
     "data": {
      "text/plain": [
       "200"
      ]
     },
     "execution_count": 17,
     "metadata": {},
     "output_type": "execute_result"
    }
   ],
   "source": [
    "# Read elements (i,i) for i in range 0-9.\n",
    "# This is a point selection where we are explictly\n",
    "# giving the indices of the elements we want.\n",
    "# Since the number of points could be quite large\n",
    "# we use POST with the indices provided in the body of \n",
    "# the request, rather than GET\n",
    "points = []\n",
    "for i in range(10):\n",
    "    points.append([i,i])\n",
    "body = {\"points\": points}\n",
    "del params[\"select\"] # remove select so we will read across entire dataset\n",
    "rsp = requests.post(hs_endpoint + \"/datasets/\" + dset_id + \"/value\", params=params, data=json.dumps(body))\n",
    "rsp.status_code"
   ]
  },
  {
   "cell_type": "code",
   "execution_count": 18,
   "metadata": {
    "collapsed": false,
    "jupyter": {
     "outputs_hidden": false
    }
   },
   "outputs": [
    {
     "data": {
      "text/plain": [
       "[0, 1, 4, 9, 16, 25, 36, 49, 64, 81]"
      ]
     },
     "execution_count": 18,
     "metadata": {},
     "output_type": "execute_result"
    }
   ],
   "source": [
    "# The returned array is always one-dimensional\n",
    "points_json = rsp.json()\n",
    "points_json[\"value\"]"
   ]
  },
  {
   "cell_type": "code",
   "execution_count": 19,
   "metadata": {
    "collapsed": false,
    "jupyter": {
     "outputs_hidden": false
    }
   },
   "outputs": [
    {
     "data": {
      "text/plain": [
       "200"
      ]
     },
     "execution_count": 19,
     "metadata": {},
     "output_type": "execute_result"
    }
   ],
   "source": [
    "# we can also get data values as a binary stream\n",
    "headers = {\"accept\": \"application/octet-stream\"}\n",
    "rsp = requests.post(hs_endpoint + \"/datasets/\" + dset_id + \"/value\", params=params, data=json.dumps(body), headers=headers)\n",
    "rsp.status_code\n"
   ]
  },
  {
   "cell_type": "code",
   "execution_count": 20,
   "metadata": {
    "collapsed": false,
    "jupyter": {
     "outputs_hidden": false
    }
   },
   "outputs": [
    {
     "data": {
      "text/plain": [
       "b'\\x00\\x00\\x00\\x00\\x00\\x00\\x00\\x01\\x00\\x00\\x00\\x04\\x00\\x00\\x00\\t\\x00\\x00\\x00\\x10\\x00\\x00\\x00\\x19\\x00\\x00\\x00$\\x00\\x00\\x001\\x00\\x00\\x00@\\x00\\x00\\x00Q'"
      ]
     },
     "execution_count": 20,
     "metadata": {},
     "output_type": "execute_result"
    }
   ],
   "source": [
    "rsp.content"
   ]
  },
  {
   "cell_type": "code",
   "execution_count": null,
   "metadata": {},
   "outputs": [],
   "source": []
  }
 ],
 "metadata": {
  "kernelspec": {
   "display_name": "Python 3",
   "language": "python",
   "name": "python3"
  },
  "language_info": {
   "codemirror_mode": {
    "name": "ipython",
    "version": 3
   },
   "file_extension": ".py",
   "mimetype": "text/x-python",
   "name": "python",
   "nbconvert_exporter": "python",
   "pygments_lexer": "ipython3",
   "version": "3.7.3"
  }
 },
 "nbformat": 4,
 "nbformat_minor": 4
}

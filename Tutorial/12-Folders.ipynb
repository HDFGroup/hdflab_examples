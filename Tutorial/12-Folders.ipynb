{
 "cells": [
  {
   "cell_type": "markdown",
   "id": "e6a581ec-d500-4983-bec5-5d4372899c83",
   "metadata": {},
   "source": [
    "# Folders"
   ]
  },
  {
   "cell_type": "markdown",
   "id": "c6c4d5fd-e988-4d85-96aa-c37b76d24063",
   "metadata": {},
   "source": [
    "Objectives:   \n",
    " * Using the h5pyd Folder class to get information about folder and domain objects from server\n",
    " * Create sub-Folders programatically\n",
    " * Programatically get a domains ACLs\n",
    " * Recursively list all items under a Folder\n",
    "    \n",
    "Note: h5py doesn't have an equivalent class since users can use the standard Python methods for working with Posix filesystems.  On the other hand the folder structure supported by HSDS is not generally accessible other than with the HSDS REST API, so h5pyd provides a easy means of interacting with server folder objects."
   ]
  },
  {
   "cell_type": "code",
   "execution_count": 1,
   "id": "52375deb-a25c-42a2-96cc-42638311938d",
   "metadata": {},
   "outputs": [],
   "source": [
    "import os\n",
    "from datetime import datetime\n",
    "import h5pyd # this is a HSDS only tutorial"
   ]
  },
  {
   "cell_type": "code",
   "execution_count": 2,
   "id": "43a8c4a4-cb2c-44e8-b922-7d44330933df",
   "metadata": {},
   "outputs": [],
   "source": [
    "#\n",
    "# Get folder for the HDFLabTutorial \n",
    "#\n",
    "def getMyFolder():\n",
    "    DIR_NAME = \"HDFLabTutorial/\"\n",
    "    dir = h5pyd.Folder('/home/')  # get folder object for root\n",
    "    username = os.getenv(\"JUPYTERHUB_USER\")\n",
    "    myfolder = None\n",
    "    for name in dir:\n",
    "        # we should come across the given domain\n",
    "        if username.startswith(name):\n",
    "            # check any folders where the name matches at least part of the username\n",
    "            # e.g. folder: \"/home/bob/\" for username \"bob@acme.com\"\n",
    "            path = '/home/' + name + '/'\n",
    "            f = h5pyd.Folder(path)\n",
    "            if f.owner == username:\n",
    "                myfolder = path\n",
    "            f.close()\n",
    "            if myfolder:\n",
    "                break\n",
    "    dir.close()\n",
    "    if not myfolder:\n",
    "        raise ValueError(f\"unable to find home folder for {username}\")\n",
    "    \n",
    "    # create a workshop subfolder if not already present\n",
    "    myfolder += DIR_NAME\n",
    "    try:\n",
    "        h5pyd.Folder(myfolder)\n",
    "    except IOError as ioe:\n",
    "        if ioe.errno != 404:\n",
    "            raise  # unexpected error\n",
    "        # not present - create it now\n",
    "        h5pyd.Folder(myfolder, mode='x')\n",
    "        print(\"created folder:\", myfolder)\n",
    "       \n",
    "    return myfolder"
   ]
  },
  {
   "cell_type": "code",
   "execution_count": 3,
   "id": "eb87c292-9cd8-4115-be6d-a836f68d2605",
   "metadata": {},
   "outputs": [
    {
     "data": {
      "text/plain": [
       "'/home/jreadey/HDFLabTutorial/'"
      ]
     },
     "execution_count": 3,
     "metadata": {},
     "output_type": "execute_result"
    }
   ],
   "source": [
    "# Get your home folder path\n",
    "home_path = getMyFolder()\n",
    "home_path  # this is the folder path where you have permission to write to"
   ]
  },
  {
   "cell_type": "code",
   "execution_count": 4,
   "id": "55ad84fe-6a03-4f6d-84d0-d321d586439d",
   "metadata": {},
   "outputs": [
    {
     "data": {
      "text/plain": [
       "/home/jreadey/HDFLabTutorial/"
      ]
     },
     "execution_count": 4,
     "metadata": {},
     "output_type": "execute_result"
    }
   ],
   "source": [
    "# contruct a folder object by passing a valid path\n",
    "# Use mode='x' since we'll be modifying the contents of the folder\n",
    "home_folder = h5pyd.Folder(home_path, mode='x')\n",
    "home_folder # text representation will be the same as the folder path"
   ]
  },
  {
   "cell_type": "code",
   "execution_count": 5,
   "id": "14115024-7128-4a61-921d-eee87767b467",
   "metadata": {},
   "outputs": [
    {
     "data": {
      "text/plain": [
       "5"
      ]
     },
     "execution_count": 5,
     "metadata": {},
     "output_type": "execute_result"
    }
   ],
   "source": [
    "# You can use the standard Python way to get the number of objects in the folder\n",
    "# if you get zero - try running some of the other tutorials first!\n",
    "len(home_folder)"
   ]
  },
  {
   "cell_type": "code",
   "execution_count": 6,
   "id": "537c7105-be15-4238-9e68-89a3eca87100",
   "metadata": {},
   "outputs": [
    {
     "name": "stdout",
     "output_type": "stream",
     "text": [
      "03.h5\n",
      "04.h5\n",
      "05.h5\n",
      "06.h5\n",
      "07.h5\n"
     ]
    }
   ],
   "source": [
    "# or iterate through the items\n",
    "for item in home_folder:\n",
    "    print(item)"
   ]
  },
  {
   "cell_type": "code",
   "execution_count": 7,
   "id": "a0661b5f-a1fd-4d2d-9773-25ccc3c0d821",
   "metadata": {},
   "outputs": [
    {
     "name": "stdout",
     "output_type": "stream",
     "text": [
      "created folder: /home/jreadey/HDFLabTutorial/12/\n"
     ]
    }
   ],
   "source": [
    "# create folder for this tutorial\n",
    "folder_base = home_path + \"12/\"\n",
    "base_folder = h5pyd.Folder(folder_base, mode='x')\n",
    "print(\"created folder:\", folder_base)"
   ]
  },
  {
   "cell_type": "code",
   "execution_count": 8,
   "id": "d1740ef4-ed6c-4dee-9c23-4b4f0df545f2",
   "metadata": {},
   "outputs": [
    {
     "name": "stdout",
     "output_type": "stream",
     "text": [
      "created folder: /home/jreadey/HDFLabTutorial/12/folder1/\n",
      "created folder: /home/jreadey/HDFLabTutorial/12/folder2/\n",
      "created domain: /home/jreadey/HDFLabTutorial/12/file1\n"
     ]
    }
   ],
   "source": [
    "# and some items in this folder\n",
    "# Folder paths must end with a '/'\n",
    "domain_names = (\"folder1/\", \"folder2/\", \"file1\")\n",
    "for name in domain_names:\n",
    "    path = folder_base + name\n",
    "    if name.endswith('/'):\n",
    "        h5pyd.Folder(path, mode='w')\n",
    "        print(\"created folder:\", path)\n",
    "    else:\n",
    "        h5pyd.File(path, mode='w')\n",
    "        print('created domain:', path)\n"
   ]
  },
  {
   "cell_type": "code",
   "execution_count": 9,
   "id": "d51163e1-d86f-434e-b080-50a93506cd40",
   "metadata": {},
   "outputs": [
    {
     "data": {
      "text/plain": [
       "3"
      ]
     },
     "execution_count": 9,
     "metadata": {},
     "output_type": "execute_result"
    }
   ],
   "source": [
    "# should have len(folder_items) in the folder now\n",
    "len(base_folder)"
   ]
  },
  {
   "cell_type": "code",
   "execution_count": 10,
   "id": "233b85ee-434b-42c3-a9c9-26894819fc69",
   "metadata": {},
   "outputs": [
    {
     "name": "stdout",
     "output_type": "stream",
     "text": [
      "file1 is domain\n",
      "folder1 is a folder\n",
      "folder2 is a folder\n"
     ]
    }
   ],
   "source": [
    "# iterate through the contents of the folder and note sub-folders vs domains\n",
    "for name in base_folder:\n",
    "    item = base_folder[name] # returns a dict\n",
    "    if 'root' in item:\n",
    "        print(f\"{name} is domain\")\n",
    "    else:\n",
    "        print(f\"{name} is a folder\")"
   ]
  },
  {
   "cell_type": "code",
   "execution_count": 11,
   "id": "1e9fdfa6-7e83-4f34-b98d-42829ffeaa13",
   "metadata": {},
   "outputs": [
    {
     "name": "stdout",
     "output_type": "stream",
     "text": [
      "got 2 ACLs\n"
     ]
    }
   ],
   "source": [
    "# we can get the ACLs for a folder object\n",
    "acls = base_folder.getACLs()\n",
    "print(f\"got {len(acls)} ACLs\")"
   ]
  },
  {
   "cell_type": "code",
   "execution_count": 12,
   "id": "74f42251-68df-4535-bfa6-822cb6d4d11a",
   "metadata": {},
   "outputs": [
    {
     "name": "stdout",
     "output_type": "stream",
     "text": [
      "userName: default\n",
      "create: False\n",
      "read: True\n",
      "update: False\n",
      "delete: False\n",
      "readACL: False\n",
      "updateACL: False\n",
      "-----\n",
      "userName: jreadey@hdfgroup.org\n",
      "create: True\n",
      "read: True\n",
      "update: True\n",
      "delete: True\n",
      "readACL: True\n",
      "updateACL: True\n",
      "-----\n"
     ]
    }
   ],
   "source": [
    "# each ACL has these keys\n",
    "acl_keys = ('userName', 'create', 'read', 'update', 'delete', 'readACL', 'updateACL')\n",
    "for acl in acls:\n",
    "    for k in acl_keys:\n",
    "        print(f\"{k}: {acl[k]}\")\n",
    "    print('-----')\n",
    "    "
   ]
  },
  {
   "cell_type": "code",
   "execution_count": 13,
   "id": "0a968d23-de0f-4d7b-964f-c75945f88fc4",
   "metadata": {},
   "outputs": [],
   "source": [
    "# use this function to recursively list folder/domains\n",
    "def visitDomains(domain, depth=1):\n",
    "    if depth == 0:\n",
    "        return 0\n",
    "\n",
    "    count = 0\n",
    "    if domain[-1] == '/':\n",
    "        domain = domain[:-1]  # strip off trailing slash\n",
    "\n",
    "    try:\n",
    "        d = h5pyd.Folder(domain + '/')\n",
    "        dir_class = \"domain\"\n",
    "        display_name = domain\n",
    "        if d.is_folder:\n",
    "            dir_class = \"folder\"\n",
    "            display_name += '/'\n",
    "         \n",
    "        owner = d.owner\n",
    "        if owner is None:\n",
    "            owner = \"\"\n",
    "        if d.modified is None:\n",
    "            timestamp = \"\"\n",
    "        else:\n",
    "            timestamp = datetime.fromtimestamp(int(d.modified))\n",
    "\n",
    "        print(f\"{owner:35} {dir_class:8} {timestamp} {display_name}\")\n",
    "        count += 1\n",
    "         \n",
    "        for name in d:\n",
    "            item = d[name]\n",
    "            owner = item[\"owner\"]\n",
    "            full_path = domain + '/' + name\n",
    "            \n",
    "            dir_class = item[\"class\"]\n",
    "            if item[\"lastModified\"] is None:\n",
    "                timestamp = \"\"\n",
    "            else:\n",
    "                timestamp = datetime.fromtimestamp(int(item[\"lastModified\"]))\n",
    "\n",
    "            print(f\"{owner:35} {dir_class:8} {timestamp} {full_path}\")\n",
    "            count += 1\n",
    "\n",
    "            if dir_class == \"folder\":\n",
    "                # recurse for folders\n",
    "                n = visitDomains(domain + '/' + name, depth=(depth - 1))\n",
    "                count += n\n",
    "\n",
    "    except IOError as oe:\n",
    "        if oe.errno in (403, 404, 410):\n",
    "            # TBD: recently created domains may not be immediately visible to\n",
    "            # the service Once the flush operation is implemented, this should\n",
    "            # be an issue for h5pyd apps\n",
    "            #\n",
    "            # Also, ignore domains for which we don't have permsssions (403)\n",
    "            pass\n",
    "        else:\n",
    "            print(\"error getting domain:\", domain)\n",
    "            raise\n",
    "\n",
    "    return count\n"
   ]
  },
  {
   "cell_type": "code",
   "execution_count": 14,
   "id": "114eecbe-8cec-4fdf-bfba-8693f2e3ed15",
   "metadata": {},
   "outputs": [
    {
     "name": "stdout",
     "output_type": "stream",
     "text": [
      "jreadey@hdfgroup.org                folder   2021-06-06 20:02:23 /home/jreadey/HDFLabTutorial/\n",
      "jreadey@hdfgroup.org                domain   2022-01-23 19:14:39 /home/jreadey/HDFLabTutorial/03.h5\n",
      "jreadey@hdfgroup.org                domain   2022-02-14 23:01:56 /home/jreadey/HDFLabTutorial/04.h5\n",
      "jreadey@hdfgroup.org                domain   2022-01-21 00:45:16 /home/jreadey/HDFLabTutorial/05.h5\n",
      "jreadey@hdfgroup.org                domain   2022-01-26 20:11:20 /home/jreadey/HDFLabTutorial/06.h5\n",
      "jreadey@hdfgroup.org                domain   2022-01-21 01:00:13 /home/jreadey/HDFLabTutorial/07.h5\n",
      "jreadey@hdfgroup.org                folder   2022-02-14 23:03:56 /home/jreadey/HDFLabTutorial/12\n",
      "jreadey@hdfgroup.org                folder   2022-02-14 23:03:56 /home/jreadey/HDFLabTutorial/12/\n",
      "jreadey@hdfgroup.org                domain   2022-02-14 23:04:05 /home/jreadey/HDFLabTutorial/12/file1\n",
      "jreadey@hdfgroup.org                folder   2022-02-14 23:04:04 /home/jreadey/HDFLabTutorial/12/folder1\n",
      "jreadey@hdfgroup.org                folder   2022-02-14 23:04:04 /home/jreadey/HDFLabTutorial/12/folder1/\n",
      "jreadey@hdfgroup.org                folder   2022-02-14 23:04:04 /home/jreadey/HDFLabTutorial/12/folder2\n",
      "jreadey@hdfgroup.org                folder   2022-02-14 23:04:04 /home/jreadey/HDFLabTutorial/12/folder2/\n"
     ]
    },
    {
     "data": {
      "text/plain": [
       "13"
      ]
     },
     "execution_count": 14,
     "metadata": {},
     "output_type": "execute_result"
    }
   ],
   "source": [
    "# visit all domains starting with /home/username.\n",
    "# returns number of objects found\n",
    "visitDomains(home_path, depth=-1)"
   ]
  },
  {
   "cell_type": "code",
   "execution_count": null,
   "id": "bf76e518-13b7-47e7-aa2b-e9ac93ad63bb",
   "metadata": {},
   "outputs": [],
   "source": []
  }
 ],
 "metadata": {
  "kernelspec": {
   "display_name": "Python 3",
   "language": "python",
   "name": "python3"
  },
  "language_info": {
   "codemirror_mode": {
    "name": "ipython",
    "version": 3
   },
   "file_extension": ".py",
   "mimetype": "text/x-python",
   "name": "python",
   "nbconvert_exporter": "python",
   "pygments_lexer": "ipython3",
   "version": "3.9.2"
  }
 },
 "nbformat": 4,
 "nbformat_minor": 5
}

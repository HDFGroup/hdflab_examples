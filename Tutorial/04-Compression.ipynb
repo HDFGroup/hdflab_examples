{
 "cells": [
  {
   "cell_type": "markdown",
   "metadata": {},
   "source": [
    "# Compression and Chunking"
   ]
  },
  {
   "cell_type": "markdown",
   "metadata": {},
   "source": [
    "Objectives\n",
    " * Explore the use of compression \n",
    " * Learn about chunking\n",
    " * Understand how dataset data is allocated"
   ]
  },
  {
   "cell_type": "code",
   "execution_count": 1,
   "metadata": {},
   "outputs": [],
   "source": [
    "USE_H5PY=0  # set to 1 to use HDF5Lib instead"
   ]
  },
  {
   "cell_type": "code",
   "execution_count": 2,
   "metadata": {},
   "outputs": [],
   "source": [
    "if USE_H5PY:\n",
    "    import h5py\n",
    "else:\n",
    "    import h5pyd as h5py\n",
    "import numpy as np\n",
    "import os\n",
    "import random"
   ]
  },
  {
   "cell_type": "code",
   "execution_count": 3,
   "metadata": {},
   "outputs": [],
   "source": [
    "#\n",
    "# Get folder/directory for HDF files we create  \n",
    "#\n",
    "def getMyFolder():\n",
    "    DIR_NAME = \"HDFLabTutorial/\"\n",
    "    if USE_H5PY:\n",
    "        myfolder = os.getenv(\"HOME\") + \"/\" + DIR_NAME\n",
    "        if not os.path.isdir(myfolder):\n",
    "            # create a directory on the local disk if needed\n",
    "            print(\"created folder:\", myfolder)\n",
    "            os.mkdir(myfolder)\n",
    "    else:\n",
    "        dir = h5py.Folder('/home/')  # get folder object for root\n",
    "        username = os.getenv(\"JUPYTERHUB_USER\")\n",
    "        myfolder = None\n",
    "        for name in dir:\n",
    "            # we should come across the given domain\n",
    "            if username.startswith(name):\n",
    "                # check any folders where the name matches at least part of the username\n",
    "                # e.g. folder: \"/home/bob/\" for username \"bob@acme.com\"\n",
    "                path = '/home/' + name + '/'\n",
    "                f = h5py.Folder(path)\n",
    "                if f.owner == username:\n",
    "                    myfolder = path\n",
    "                f.close()\n",
    "                if myfolder:\n",
    "                    break\n",
    "\n",
    "        dir.close()\n",
    "    \n",
    "        # create a workshop subfolder if not already present\n",
    "        myfolder += DIR_NAME\n",
    "        try:\n",
    "            h5py.Folder(myfolder)\n",
    "        except IOError as ioe:\n",
    "            if ioe.errno != 404:\n",
    "                return None  # unexpected error\n",
    "            # not present - create it now\n",
    "            h5py.Folder(myfolder, mode='x')\n",
    "            print(\"created folder:\", myfolder)\n",
    "       \n",
    "    return myfolder"
   ]
  },
  {
   "cell_type": "code",
   "execution_count": 10,
   "metadata": {},
   "outputs": [
    {
     "data": {
      "text/plain": [
       "'/home/test_user1/'"
      ]
     },
     "execution_count": 10,
     "metadata": {},
     "output_type": "execute_result"
    }
   ],
   "source": [
    "# Get your home folder\n",
    "# will be a posix directory is H5PY is 1, or a server folder if 0\n",
    "if USE_H5PY:\n",
    "    home = \"./\"\n",
    "else:\n",
    "    home = \"/home/test_user1/\"\n",
    "home  # this is the folder where you have permission to write to"
   ]
  },
  {
   "cell_type": "code",
   "execution_count": 11,
   "metadata": {},
   "outputs": [],
   "source": [
    "# create a file on the disk, or a domain on the server (based on USE_H5PY)\n",
    "filename = home + \"04.h5\"\n",
    "f = h5py.File(filename, 'w')"
   ]
  },
  {
   "cell_type": "code",
   "execution_count": 12,
   "metadata": {},
   "outputs": [
    {
     "data": {
      "text/plain": [
       "'g-3a59db18-8011c475-b2d1-539008-994cfd'"
      ]
     },
     "execution_count": 12,
     "metadata": {},
     "output_type": "execute_result"
    }
   ],
   "source": [
    "f.id.id"
   ]
  },
  {
   "cell_type": "code",
   "execution_count": 8,
   "metadata": {},
   "outputs": [
    {
     "data": {
      "text/plain": [
       "[None, 'blosclz', 'lz4', 'lz4hc', 'gzip', 'zstd', 'deflate']"
      ]
     },
     "execution_count": 8,
     "metadata": {},
     "output_type": "execute_result"
    }
   ],
   "source": [
    "# there a different compression filters that can be used\n",
    "# In HSDS, f.compressors will return a list of available filters\n",
    "# For HDF5Lib, filters \"gzip\" and \"lzf\" are always available - others \n",
    "# may be sorted via a plugin\n",
    "compressors = [None,]\n",
    "if USE_H5PY:\n",
    "    compressors.extend((\"gzip\", \"lzf\"))\n",
    "else:\n",
    "    compressors.extend(f.compressors)\n",
    "compressors"
   ]
  },
  {
   "cell_type": "code",
   "execution_count": 8,
   "metadata": {},
   "outputs": [],
   "source": [
    "# create a dataset with each type of compressor (+None for no compression)\n",
    "shape = (80, 40)\n",
    "dtype = 'f8'\n",
    "for compression in compressors:\n",
    "    dset_name = f\"dset_{compression}\"\n",
    "    if dset_name in f:\n",
    "        del f[dset_name] # delete the dataset if it already exists\n",
    "    dset = f.create_dataset(dset_name, shape=shape, dtype=dtype, compression=compression)\n",
    "    # write a few random values to the dataset\n",
    "    i = random.randint(0, shape[0]-1)\n",
    "    j = random.randint(0, shape[1]-1)\n",
    "    v = random.random()\n",
    "    dset[i,j] = v\n"
   ]
  },
  {
   "cell_type": "code",
   "execution_count": 9,
   "metadata": {},
   "outputs": [],
   "source": [
    "f.close()  # close file we can use h5ls on it (for h5py)"
   ]
  },
  {
   "cell_type": "code",
   "execution_count": 10,
   "metadata": {},
   "outputs": [],
   "source": [
    "def get_dset_stats(filename, dsetname):\n",
    "    if USE_H5PY:\n",
    "        print(f\"Running h5ls to get dataset info\")\n",
    "        ! h5ls -v {filename}/{dsetname}\n",
    "    else:\n",
    "        # H5PYD has a num_chunks attribute to tell you how many chunks\n",
    "        # have been allocated\n",
    "        # num_chunks is determined asynchronously by the HDF Server. \n",
    "        # If num_chunks is 0, wait a few seconds and re-run the cell.\n",
    "        with h5py.File(filename) as f:\n",
    "            dset = f[dsetname]\n",
    "            logical_size = dset.dtype.itemsize\n",
    "        for dim in dset.shape:\n",
    "            logical_size *= dim\n",
    "            print(f\"logical size:   {logical_size}\")\n",
    "            if not dset.num_chunks:\n",
    "                print(\"No chunks found, if something has been written to this dataset, wait a few seconds and try this again\")\n",
    "            else:\n",
    "                chunk_size = dset.dtype.itemsize\n",
    "                for dim in dset.chunks:\n",
    "                    chunk_size *= dim\n",
    "                print(f\"Chunks: {dset.chunks} {chunk_size} bytes\")\n",
    "                # allocated size is also determined asynchronously, but \n",
    "                # is show be updated if num_chunks is\n",
    "                print(f\"allocated size: {dset.allocated_size}\")\n",
    "                ratio = logical_size/dset.allocated_size\n",
    "                ratio *= 100.0\n",
    "                print(f\"utilization: {ratio:.2f}%\")\n",
    "                print(f\"num_chunks: {dset.num_chunks}\")\n",
    "                if dset.compression:\n",
    "                    print(f\"Filter: {dset.compression} OPT: {dset.compression_opts}\")\n",
    "    print(\"-\"*40)  "
   ]
  },
  {
   "cell_type": "code",
   "execution_count": 11,
   "metadata": {},
   "outputs": [
    {
     "name": "stdout",
     "output_type": "stream",
     "text": [
      "logical size:   640\n",
      "Chunks: (80, 40) 25600 bytes\n",
      "allocated size: 25600\n",
      "utilization: 2.50%\n",
      "num_chunks: 1\n",
      "logical size:   25600\n",
      "Chunks: (80, 40) 25600 bytes\n",
      "allocated size: 25600\n",
      "utilization: 100.00%\n",
      "num_chunks: 1\n",
      "----------------------------------------\n",
      "logical size:   640\n",
      "Chunks: (80, 40) 25600 bytes\n",
      "allocated size: 193\n",
      "utilization: 331.61%\n",
      "num_chunks: 1\n",
      "Filter: blosclz OPT: None\n",
      "logical size:   25600\n",
      "Chunks: (80, 40) 25600 bytes\n",
      "allocated size: 193\n",
      "utilization: 13264.25%\n",
      "num_chunks: 1\n",
      "Filter: blosclz OPT: None\n",
      "----------------------------------------\n",
      "logical size:   640\n",
      "Chunks: (80, 40) 25600 bytes\n",
      "allocated size: 191\n",
      "utilization: 335.08%\n",
      "num_chunks: 1\n",
      "Filter: lz4 OPT: None\n",
      "logical size:   25600\n",
      "Chunks: (80, 40) 25600 bytes\n",
      "allocated size: 191\n",
      "utilization: 13403.14%\n",
      "num_chunks: 1\n",
      "Filter: lz4 OPT: None\n",
      "----------------------------------------\n",
      "logical size:   640\n",
      "Chunks: (80, 40) 25600 bytes\n",
      "allocated size: 178\n",
      "utilization: 359.55%\n",
      "num_chunks: 1\n",
      "Filter: lz4hc OPT: None\n",
      "logical size:   25600\n",
      "Chunks: (80, 40) 25600 bytes\n",
      "allocated size: 178\n",
      "utilization: 14382.02%\n",
      "num_chunks: 1\n",
      "Filter: lz4hc OPT: None\n",
      "----------------------------------------\n",
      "logical size:   640\n",
      "Chunks: (80, 40) 25600 bytes\n",
      "allocated size: 91\n",
      "utilization: 703.30%\n",
      "num_chunks: 1\n",
      "Filter: gzip OPT: 4\n",
      "logical size:   25600\n",
      "Chunks: (80, 40) 25600 bytes\n",
      "allocated size: 91\n",
      "utilization: 28131.87%\n",
      "num_chunks: 1\n",
      "Filter: gzip OPT: 4\n",
      "----------------------------------------\n",
      "logical size:   640\n",
      "Chunks: (80, 40) 25600 bytes\n",
      "allocated size: 81\n",
      "utilization: 790.12%\n",
      "num_chunks: 1\n",
      "Filter: zstd OPT: None\n",
      "logical size:   25600\n",
      "Chunks: (80, 40) 25600 bytes\n",
      "allocated size: 81\n",
      "utilization: 31604.94%\n",
      "num_chunks: 1\n",
      "Filter: zstd OPT: None\n",
      "----------------------------------------\n",
      "logical size:   640\n",
      "Chunks: (80, 40) 25600 bytes\n",
      "allocated size: 25600\n",
      "utilization: 2.50%\n",
      "num_chunks: 1\n",
      "Filter: deflate OPT: None\n",
      "logical size:   25600\n",
      "Chunks: (80, 40) 25600 bytes\n",
      "allocated size: 25600\n",
      "utilization: 100.00%\n",
      "num_chunks: 1\n",
      "Filter: deflate OPT: None\n",
      "----------------------------------------\n"
     ]
    }
   ],
   "source": [
    "for compression in compressors:\n",
    "    dset_name = f\"dset_{compression}\"\n",
    "    get_dset_stats(filename, dset_name)"
   ]
  },
  {
   "cell_type": "markdown",
   "metadata": {},
   "source": [
    "Problem: which filter gave the best compression?  Why do you think other filters would be used?"
   ]
  },
  {
   "cell_type": "markdown",
   "metadata": {},
   "source": [
    "# Chunking"
   ]
  },
  {
   "cell_type": "markdown",
   "metadata": {},
   "source": [
    "HDF datasets are tiled into a a set of chunks.  This enables reading/writing data from storage to be done more efficiently.\n",
    "\n",
    "With the HDF5 native library, each chunk is stored in a contiguous section of the file.\n",
    "\n",
    "With HSDS, each chunk is stored as a seperate S3 object. The chunk shape determines how many chunks will be used.  If not provided in create_dataset, the chunk layout will be determined automatically. "
   ]
  },
  {
   "cell_type": "code",
   "execution_count": 12,
   "metadata": {},
   "outputs": [],
   "source": [
    "# create a datatset using the chunks option\n",
    "f = h5py.File(filename, \"a\")  # re-open in append mode\n",
    "dset4 = f.create_dataset(\"dset_chunks\", (40,80), dtype='i1', chunks=(4,8))"
   ]
  },
  {
   "cell_type": "code",
   "execution_count": 13,
   "metadata": {},
   "outputs": [
    {
     "data": {
      "text/plain": [
       "(40, 80)"
      ]
     },
     "execution_count": 13,
     "metadata": {},
     "output_type": "execute_result"
    }
   ],
   "source": [
    "# The library will faithfully use the chunk layout provided, but the \n",
    "# the server will take the chunk layout as a hint.\n",
    "dset4.chunks"
   ]
  },
  {
   "cell_type": "markdown",
   "metadata": {},
   "source": [
    "Unlike with HDF5 library, the HDF Server may alter the inputed chunk layout so that each chunk is a reasonable size when stored in s3 (typically between 2-4MB).\n",
    "\n",
    "Try again with a larger dataset."
   ]
  },
  {
   "cell_type": "code",
   "execution_count": 14,
   "metadata": {},
   "outputs": [],
   "source": [
    "dset5 = f.create_dataset(\"big_dset\", (4000,8000), dtype='i1', chunks=(4,8))"
   ]
  },
  {
   "cell_type": "code",
   "execution_count": 15,
   "metadata": {},
   "outputs": [
    {
     "data": {
      "text/plain": [
       "(1024, 2048)"
      ]
     },
     "execution_count": 15,
     "metadata": {},
     "output_type": "execute_result"
    }
   ],
   "source": [
    "dset5.chunks"
   ]
  },
  {
   "cell_type": "markdown",
   "metadata": {},
   "source": [
    "For HSDS, note that the \"shape\" of the chunk was preserved, but scaled up to hit the desired chunk size"
   ]
  },
  {
   "cell_type": "code",
   "execution_count": 16,
   "metadata": {},
   "outputs": [],
   "source": [
    "# no actual chunks have been stored since we haven't written anything to the dataset.\n",
    "# write something to the dataset, this will initialize several chunks\n",
    "dset5[2000,:] = 42"
   ]
  },
  {
   "cell_type": "code",
   "execution_count": 17,
   "metadata": {},
   "outputs": [],
   "source": [
    "f.close()"
   ]
  },
  {
   "cell_type": "code",
   "execution_count": 18,
   "metadata": {},
   "outputs": [
    {
     "name": "stdout",
     "output_type": "stream",
     "text": [
      "logical size:   4000\n",
      "Chunks: (1024, 2048) 2097152 bytes\n",
      "allocated size: 8388608\n",
      "utilization: 0.05%\n",
      "num_chunks: 4\n",
      "logical size:   32000000\n",
      "Chunks: (1024, 2048) 2097152 bytes\n",
      "allocated size: 8388608\n",
      "utilization: 381.47%\n",
      "num_chunks: 4\n",
      "----------------------------------------\n"
     ]
    }
   ],
   "source": [
    "get_dset_stats(filename, \"big_dset\")"
   ]
  },
  {
   "cell_type": "code",
   "execution_count": null,
   "metadata": {},
   "outputs": [],
   "source": []
  }
 ],
 "metadata": {
  "kernelspec": {
   "display_name": "Python 3",
   "language": "python",
   "name": "python3"
  },
  "language_info": {
   "codemirror_mode": {
    "name": "ipython",
    "version": 3
   },
   "file_extension": ".py",
   "mimetype": "text/x-python",
   "name": "python",
   "nbconvert_exporter": "python",
   "pygments_lexer": "ipython3",
   "version": "3.9.12"
  }
 },
 "nbformat": 4,
 "nbformat_minor": 4
}

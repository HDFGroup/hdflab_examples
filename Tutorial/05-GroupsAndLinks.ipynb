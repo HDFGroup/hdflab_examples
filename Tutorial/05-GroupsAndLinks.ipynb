{
 "cells": [
  {
   "cell_type": "markdown",
   "metadata": {},
   "source": [
    "# 5 Groups and Links"
   ]
  },
  {
   "cell_type": "markdown",
   "metadata": {},
   "source": [
    "Objectives:\n",
    " * Create groups and subgroups\n",
    " * List contents of a group\n",
    " * Iterate though all objects in a file"
   ]
  },
  {
   "cell_type": "code",
   "execution_count": 1,
   "metadata": {},
   "outputs": [],
   "source": [
    "USE_H5PY=1  # set to 0 to use HDF Server instead"
   ]
  },
  {
   "cell_type": "code",
   "execution_count": 2,
   "metadata": {},
   "outputs": [],
   "source": [
    "if USE_H5PY:\n",
    "    import h5py\n",
    "else:\n",
    "    import h5pyd as h5py\n",
    "import os"
   ]
  },
  {
   "cell_type": "code",
   "execution_count": 3,
   "metadata": {},
   "outputs": [],
   "source": [
    "#\n",
    "# Get folder/directory for HDF files we create  \n",
    "#\n",
    "def getMyFolder():\n",
    "    DIR_NAME = \"HDFLabTutorial/\"\n",
    "    if USE_H5PY:\n",
    "        myfolder = os.getenv(\"HOME\") + \"/\" + DIR_NAME\n",
    "        if not os.path.isdir(myfolder):\n",
    "            # create a directory on the local disk if needed\n",
    "            print(\"created folder:\", myfolder)\n",
    "            os.mkdir(myfolder)\n",
    "    else:\n",
    "        dir = h5py.Folder('/home/')  # get folder object for root\n",
    "        username = os.getenv(\"JUPYTERHUB_USER\")\n",
    "        myfolder = None\n",
    "        for name in dir:\n",
    "            # we should come across the given domain\n",
    "            if username.startswith(name):\n",
    "                # check any folders where the name matches at least part of the username\n",
    "                # e.g. folder: \"/home/bob/\" for username \"bob@acme.com\"\n",
    "                path = '/home/' + name + '/'\n",
    "                f = h5py.Folder(path)\n",
    "                if f.owner == username:\n",
    "                    myfolder = path\n",
    "                f.close()\n",
    "                if myfolder:\n",
    "                    break\n",
    "\n",
    "        dir.close()\n",
    "    \n",
    "        # create a workshop subfolder if not already present\n",
    "        myfolder += DIR_NAME\n",
    "        try:\n",
    "            h5py.Folder(myfolder)\n",
    "        except IOError as ioe:\n",
    "            if ioe.errno != 404:\n",
    "                return None  # unexpected error\n",
    "            # not present - create it now\n",
    "            h5py.Folder(myfolder, mode='x')\n",
    "            print(\"created folder:\", myfolder)\n",
    "       \n",
    "    return myfolder"
   ]
  },
  {
   "cell_type": "code",
   "execution_count": 4,
   "metadata": {},
   "outputs": [
    {
     "data": {
      "text/plain": [
       "'/home/jovyan/HDFLabTutorial/'"
      ]
     },
     "execution_count": 4,
     "metadata": {},
     "output_type": "execute_result"
    }
   ],
   "source": [
    "# Get your home folder\n",
    "# will be a posix directory is H5PY is 1, or a server folder if 0\n",
    "home = getMyFolder()\n",
    "home  # this is the folder where you have permission to write to"
   ]
  },
  {
   "cell_type": "code",
   "execution_count": 5,
   "metadata": {
    "collapsed": false,
    "jupyter": {
     "outputs_hidden": false
    }
   },
   "outputs": [],
   "source": [
    "# create a file on the disk, or a domain on the server (based on USE_H5PY)\n",
    "filename = home + \"05.h5\"\n",
    "f = h5py.File(filename, 'w')"
   ]
  },
  {
   "cell_type": "code",
   "execution_count": 6,
   "metadata": {},
   "outputs": [
    {
     "name": "stdout",
     "output_type": "stream",
     "text": [
      "f is a Group instance\n"
     ]
    }
   ],
   "source": [
    "# the file handle is also the root group\n",
    "if isinstance(f,h5py.Group):\n",
    "    print(\"f is a Group instance\")\n",
    "else:\n",
    "    print(\"this is unexpected!\")"
   ]
  },
  {
   "cell_type": "code",
   "execution_count": 7,
   "metadata": {},
   "outputs": [
    {
     "data": {
      "text/plain": [
       "72057594037927936"
      ]
     },
     "execution_count": 7,
     "metadata": {},
     "output_type": "execute_result"
    }
   ],
   "source": [
    "# For h5py, the id is an integer.\n",
    "# For h5pyd, the id is a UUID.  The \"g-\" prefix of the id indicates that this is a group\n",
    "\n",
    "f.id.id"
   ]
  },
  {
   "cell_type": "code",
   "execution_count": 8,
   "metadata": {},
   "outputs": [
    {
     "data": {
      "text/plain": [
       "[]"
      ]
     },
     "execution_count": 8,
     "metadata": {},
     "output_type": "execute_result"
    }
   ],
   "source": [
    "list(f)  # no groups in root (yet)!"
   ]
  },
  {
   "cell_type": "code",
   "execution_count": 9,
   "metadata": {},
   "outputs": [
    {
     "name": "stdout",
     "output_type": "stream",
     "text": [
      "g1 id: 144115188075855874\n",
      "g2 id: 144115188075855875\n"
     ]
    }
   ],
   "source": [
    "# create two groups\n",
    "if \"g1\" not in f:\n",
    "    f.create_group(\"g1\")\n",
    "if \"g2\" not in f:\n",
    "    f.create_group(\"g2\") \n",
    "g1 = f[\"g1\"]\n",
    "g2 = f[\"g2\"]\n",
    "print(\"g1 id:\", g1.id.id)\n",
    "print(\"g2 id:\", g2.id.id)   "
   ]
  },
  {
   "cell_type": "code",
   "execution_count": 10,
   "metadata": {},
   "outputs": [
    {
     "data": {
      "text/plain": [
       "['g1', 'g2']"
      ]
     },
     "execution_count": 10,
     "metadata": {},
     "output_type": "execute_result"
    }
   ],
   "source": [
    "list(f)"
   ]
  },
  {
   "cell_type": "markdown",
   "metadata": {},
   "source": [
    "Problem:  Use the hsls or h5ls to list contents of file "
   ]
  },
  {
   "cell_type": "code",
   "execution_count": 11,
   "metadata": {},
   "outputs": [
    {
     "data": {
      "text/plain": [
       "'/g1'"
      ]
     },
     "execution_count": 11,
     "metadata": {},
     "output_type": "execute_result"
    }
   ],
   "source": [
    "# each object has a name property that gives the h5path of the object \n",
    "g1.name"
   ]
  },
  {
   "cell_type": "code",
   "execution_count": 12,
   "metadata": {},
   "outputs": [
    {
     "data": {
      "text/plain": [
       "<HDF5 dataset \"dset1\": shape (), type \"<i8\">"
      ]
     },
     "execution_count": 12,
     "metadata": {},
     "output_type": "execute_result"
    }
   ],
   "source": [
    "# create a scalar (just one element) dataset\n",
    "f.create_dataset(\"dset1\", data=42)"
   ]
  },
  {
   "cell_type": "code",
   "execution_count": 13,
   "metadata": {},
   "outputs": [
    {
     "name": "stdout",
     "output_type": "stream",
     "text": [
      "dset1 360287970189639681\n",
      "g1 144115188075855878\n",
      "g2 144115188075855879\n"
     ]
    }
   ],
   "source": [
    "# now the root group has two sub-groups and one dataset\n",
    "# we can do a typical Python iteration\n",
    "for x in f:\n",
    "    print(x, f[x].id.id)"
   ]
  },
  {
   "cell_type": "code",
   "execution_count": 14,
   "metadata": {},
   "outputs": [
    {
     "data": {
      "text/plain": [
       "dtype('int64')"
      ]
     },
     "execution_count": 14,
     "metadata": {},
     "output_type": "execute_result"
    }
   ],
   "source": [
    "# You can treat groups like Python dictionaries.\n",
    "# Look up an item by providing the name\n",
    "f[\"dset1\"].dtype"
   ]
  },
  {
   "cell_type": "code",
   "execution_count": 15,
   "metadata": {},
   "outputs": [
    {
     "data": {
      "text/plain": [
       "<HDF5 file \"05.h5\" (mode r+)>"
      ]
     },
     "execution_count": 15,
     "metadata": {},
     "output_type": "execute_result"
    }
   ],
   "source": [
    "# every object has a file property that will lead you back to the file\n",
    "# it belongs to (in case you got lost)\n",
    "g1.file"
   ]
  },
  {
   "cell_type": "code",
   "execution_count": 16,
   "metadata": {},
   "outputs": [
    {
     "data": {
      "text/plain": [
       "<HDF5 group \"/g1/g1.1\" (0 members)>"
      ]
     },
     "execution_count": 16,
     "metadata": {},
     "output_type": "execute_result"
    }
   ],
   "source": [
    "# groups can have sub-groups\n",
    "g1.create_group(\"g1.1\")"
   ]
  },
  {
   "cell_type": "code",
   "execution_count": 17,
   "metadata": {},
   "outputs": [
    {
     "data": {
      "text/plain": [
       "144115188075855881"
      ]
     },
     "execution_count": 17,
     "metadata": {},
     "output_type": "execute_result"
    }
   ],
   "source": [
    "# you can address it by name from the parent group\n",
    "g1[\"g1.1\"].id.id"
   ]
  },
  {
   "cell_type": "code",
   "execution_count": 18,
   "metadata": {},
   "outputs": [
    {
     "data": {
      "text/plain": [
       "144115188075855882"
      ]
     },
     "execution_count": 18,
     "metadata": {},
     "output_type": "execute_result"
    }
   ],
   "source": [
    "# of by an h5path from root\n",
    "f[\"/g1/g1.1\"].id.id"
   ]
  },
  {
   "cell_type": "code",
   "execution_count": 19,
   "metadata": {},
   "outputs": [],
   "source": [
    "g2 = f[\"g2\"]\n",
    "g1_1 = g1[\"g1.1\"]\n",
    "# You can create links to existing objects\n",
    "g2[\"g1.1\"] = g1_1"
   ]
  },
  {
   "cell_type": "markdown",
   "metadata": {},
   "source": [
    "Problem: Run hsls or h5ls on this file with the -r option"
   ]
  },
  {
   "cell_type": "code",
   "execution_count": 20,
   "metadata": {},
   "outputs": [],
   "source": [
    "# soft links create a link by name that may or may not refer to an actual object\n",
    "f[\"softlink\"] = h5py.SoftLink(\"/g2/dset\")"
   ]
  },
  {
   "cell_type": "code",
   "execution_count": 21,
   "metadata": {},
   "outputs": [
    {
     "data": {
      "text/plain": [
       "['dset1', 'g1', 'g2', 'softlink']"
      ]
     },
     "execution_count": 21,
     "metadata": {},
     "output_type": "execute_result"
    }
   ],
   "source": [
    "# the links show up in a list\n",
    "list(f)"
   ]
  },
  {
   "cell_type": "code",
   "execution_count": 22,
   "metadata": {},
   "outputs": [
    {
     "name": "stdout",
     "output_type": "stream",
     "text": [
      "error: 'Unable to open object (component not found)'\n"
     ]
    }
   ],
   "source": [
    "# but in this case it doesn't refer to anything\n",
    "try:\n",
    "    print(\"softlink:\", f[\"softlink\"])\n",
    "except KeyError as ke:\n",
    "    print(\"error:\", ke)"
   ]
  },
  {
   "cell_type": "code",
   "execution_count": 23,
   "metadata": {},
   "outputs": [],
   "source": [
    "# external links can point to an object in another file\n",
    "# (This link won't be valid for h5py, but works with h5pyd)\n",
    "f[\"external_link\"] = h5py.ExternalLink(\"/shared/tall.h5\", \"/g1/g1.1/dset1.1.1\")"
   ]
  },
  {
   "cell_type": "code",
   "execution_count": 24,
   "metadata": {},
   "outputs": [],
   "source": [
    "# now you can reference it as if it was a part of the file\n",
    "if not USE_H5PY:\n",
    "    print(\"external shape:\", f[\"external_link\"].shape)"
   ]
  },
  {
   "cell_type": "code",
   "execution_count": 25,
   "metadata": {},
   "outputs": [
    {
     "name": "stdout",
     "output_type": "stream",
     "text": [
      "dset1\n",
      "g1\n",
      "g1/g1.1\n",
      "g2\n"
     ]
    }
   ],
   "source": [
    "# To iterate through all the members of a group use the visit method\n",
    "def printname(name):\n",
    "    print(name)\n",
    "f.visit(printname)"
   ]
  },
  {
   "cell_type": "code",
   "execution_count": null,
   "metadata": {
    "collapsed": true,
    "jupyter": {
     "outputs_hidden": true
    }
   },
   "outputs": [],
   "source": []
  }
 ],
 "metadata": {
  "kernelspec": {
   "display_name": "Python 3",
   "language": "python",
   "name": "python3"
  },
  "language_info": {
   "codemirror_mode": {
    "name": "ipython",
    "version": 3
   },
   "file_extension": ".py",
   "mimetype": "text/x-python",
   "name": "python",
   "nbconvert_exporter": "python",
   "pygments_lexer": "ipython3",
   "version": "3.7.3"
  }
 },
 "nbformat": 4,
 "nbformat_minor": 4
}

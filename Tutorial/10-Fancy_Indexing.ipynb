{
 "cells": [
  {
   "cell_type": "code",
   "execution_count": 1,
   "id": "8dd76e12-4d58-476f-9d1d-1f794a1de717",
   "metadata": {},
   "outputs": [],
   "source": [
    "import h5pyd"
   ]
  },
  {
   "cell_type": "code",
   "execution_count": 1,
   "id": "9fc31db2-a10a-425b-98f2-e37e367a3434",
   "metadata": {},
   "outputs": [],
   "source": [
    "# TBD"
   ]
  },
  {
   "cell_type": "code",
   "execution_count": null,
   "id": "02139f50-fbb5-4a1a-b529-b9c55b7dcc69",
   "metadata": {},
   "outputs": [],
   "source": []
  }
 ],
 "metadata": {
  "kernelspec": {
   "display_name": "Python 3",
   "language": "python",
   "name": "python3"
  },
  "language_info": {
   "codemirror_mode": {
    "name": "ipython",
    "version": 3
   },
   "file_extension": ".py",
   "mimetype": "text/x-python",
   "name": "python",
   "nbconvert_exporter": "python",
   "pygments_lexer": "ipython3",
   "version": "3.9.2"
  }
 },
 "nbformat": 4,
 "nbformat_minor": 5
}

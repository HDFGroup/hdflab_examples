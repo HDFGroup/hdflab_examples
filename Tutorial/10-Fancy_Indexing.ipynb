{
 "cells": [
  {
   "cell_type": "markdown",
   "id": "8ed9e7de-ce55-4cec-ade5-0fd929fd8763",
   "metadata": {},
   "source": [
    "# Fancy Indexing"
   ]
  },
  {
   "cell_type": "markdown",
   "id": "054e937a-c6c7-47a0-936b-4215663ae5e5",
   "metadata": {},
   "source": [
    "Objectives:\n",
    " * Learn how to do dataset selection with fancy indexing"
   ]
  },
  {
   "cell_type": "code",
   "execution_count": 1,
   "id": "9fc31db2-a10a-425b-98f2-e37e367a3434",
   "metadata": {},
   "outputs": [],
   "source": [
    "USE_H5PY=0  # Set to 1 to use HDF5Lib\n",
    "if USE_H5PY:\n",
    "    import h5py\n",
    "    import s3fs\n",
    "else:\n",
    "    import h5pyd as h5py\n",
    "import random"
   ]
  },
  {
   "cell_type": "code",
   "execution_count": 2,
   "id": "02139f50-fbb5-4a1a-b529-b9c55b7dcc69",
   "metadata": {},
   "outputs": [],
   "source": [
    "# open a file that contains some large datasets\n",
    "filepath = \"/nrel/nsrdb/v3/nsrdb_2000.h5\"\n",
    "bucket = \"nrel-pds-hsds\"\n",
    "region = \"us-west-2\"\n",
    "if USE_H5PY:\n",
    "    # need update to use anonymous access\n",
    "    s3_url = f\"http://s3.{region}.amazonaws.com/{bucket}{filepath}\"\n",
    "    kwargs = {}\n",
    "    kwargs[\"mode\"] = \"r\"\n",
    "    kwargs[\"driver\"] = \"ros3\"\n",
    "    kwargs[\"aws_region\"] = region.encode('utf-8')\n",
    "    kwargs[\"secret_id\"] = b''\n",
    "    kwargs[\"secret_key\"] = b''\n",
    "    f = h5py.File(s3_url, **kwargs)\n",
    "    \n",
    "else:\n",
    "    f = h5py.File(filepath, bucket=\"nrel-pds-hsds\") "
   ]
  },
  {
   "cell_type": "code",
   "execution_count": 3,
   "id": "ff898569-6a42-44bd-985f-689245639ef3",
   "metadata": {},
   "outputs": [
    {
     "name": "stdout",
     "output_type": "stream",
     "text": [
      "air_temperature: (17568, 2018392)\n",
      "alpha: (17568, 2018392)\n",
      "aod: (17568, 2018392)\n",
      "asymmetry: (17568, 2018392)\n",
      "cld_opd_dcomp: (17568, 2018392)\n",
      "cld_reff_dcomp: (17568, 2018392)\n",
      "clearsky_dhi: (17568, 2018392)\n",
      "clearsky_dni: (17568, 2018392)\n",
      "clearsky_ghi: (17568, 2018392)\n",
      "cloud_press_acha: (17568, 2018392)\n",
      "cloud_type: (17568, 2018392)\n",
      "coordinates: (2018392, 2)\n",
      "dew_point: (17568, 2018392)\n",
      "dhi: (17568, 2018392)\n",
      "dni: (17568, 2018392)\n",
      "fill_flag: (17568, 2018392)\n",
      "ghi: (17568, 2018392)\n",
      "meta: (2018392,)\n",
      "ozone: (17568, 2018392)\n",
      "relative_humidity: (17568, 2018392)\n",
      "solar_zenith_angle: (17568, 2018392)\n",
      "ssa: (17568, 2018392)\n",
      "surface_albedo: (17568, 2018392)\n",
      "surface_pressure: (17568, 2018392)\n",
      "time_index: (17568,)\n",
      "total_precipitable_water: (17568, 2018392)\n",
      "wind_direction: (17568, 2018392)\n",
      "wind_speed: (17568, 2018392)\n"
     ]
    }
   ],
   "source": [
    "# This file contains some 28 datasets mostly organized as time_index x location_index\n",
    "# Many users will wish to get columns for an arbitrary set of location indexes\n",
    "for k in f:\n",
    "    dset = f[k]\n",
    "    print(f\"{k}: {dset.shape}\")"
   ]
  },
  {
   "cell_type": "code",
   "execution_count": 3,
   "id": "0e3f154a-f48a-4078-8dde-2caaa5eed69a",
   "metadata": {},
   "outputs": [],
   "source": [
    "# we'll use the wind_speed dataset for our example, \n",
    "# but any of the the 2-d datasets will work\n",
    "dset = f['wind_speed']"
   ]
  },
  {
   "cell_type": "code",
   "execution_count": 4,
   "id": "a0e4cef7-0f0a-449e-9222-a3fd7bc3e3b9",
   "metadata": {},
   "outputs": [
    {
     "name": "stdout",
     "output_type": "stream",
     "text": [
      "CPU times: user 6.92 ms, sys: 729 µs, total: 7.65 ms\n",
      "Wall time: 26.2 ms\n"
     ]
    },
    {
     "data": {
      "text/plain": [
       "array([[46, 46, 32, 32],\n",
       "       [46, 46, 30, 30],\n",
       "       [48, 48, 28, 28],\n",
       "       [49, 49, 25, 25],\n",
       "       [50, 50, 23, 23],\n",
       "       [51, 51, 21, 21],\n",
       "       [53, 53, 20, 20],\n",
       "       [54, 54, 20, 20],\n",
       "       [56, 56, 21, 21],\n",
       "       [56, 56, 21, 21]], dtype=int16)"
      ]
     },
     "execution_count": 4,
     "metadata": {},
     "output_type": "execute_result"
    }
   ],
   "source": [
    "# with fancy indexing we can select from a list of \n",
    "# indexes rather than using a min:max:stride for the selection,\n",
    "# The coordinate selection can be any list of indexes, they\n",
    "# just have to be monotonically increasing\n",
    "# For this example we do a min:max slection on the first dimension\n",
    "# abd a coordinate selectin for the second dimension\n",
    "%time dset[0:10, [2,5,23,89]]   # select for 10 rows with the given col indexes"
   ]
  },
  {
   "cell_type": "code",
   "execution_count": 5,
   "id": "6fbee782-d460-4cd2-b969-bdd0fc889ce4",
   "metadata": {},
   "outputs": [
    {
     "data": {
      "text/plain": [
       "[228912,\n",
       " 593285,\n",
       " 675294,\n",
       " 766080,\n",
       " 809373,\n",
       " 1092856,\n",
       " 1607308,\n",
       " 1676178,\n",
       " 1981005,\n",
       " 2017562]"
      ]
     },
     "execution_count": 5,
     "metadata": {},
     "output_type": "execute_result"
    }
   ],
   "source": [
    "# Let compare iterating over a set of indexes with fancy selection\n",
    "#   using a larger set of coordinates\n",
    "#   we'll randomly select some\n",
    "num_cols = 10\n",
    "cols = []\n",
    "while len(cols) < num_cols:\n",
    "    n = random.randint(0, dset.shape[1])\n",
    "    if n not in cols:\n",
    "        cols.append(n)\n",
    "cols.sort()\n",
    "cols"
   ]
  },
  {
   "cell_type": "code",
   "execution_count": 6,
   "id": "4e67f9ed-0034-49e5-94da-d270ab8df151",
   "metadata": {},
   "outputs": [
    {
     "name": "stdout",
     "output_type": "stream",
     "text": [
      "dset[:,  228912]:    0   11   1.28\n",
      "dset[:,  593285]:    1  107  33.12\n",
      "dset[:,  675294]:    1   90  33.42\n",
      "dset[:,  766080]:    1  140  41.28\n",
      "dset[:,  809373]:    1   59  31.46\n",
      "dset[:, 1092856]:    0   52  11.93\n",
      "dset[:, 1607308]:    0   42  11.70\n",
      "dset[:, 1676178]:    0    8   2.70\n",
      "dset[:, 1981005]:    1   72  31.08\n",
      "dset[:, 2017562]:    4   94  54.77\n",
      "CPU times: user 67 ms, sys: 4.59 ms, total: 71.5 ms\n",
      "Wall time: 7.56 s\n"
     ]
    }
   ],
   "source": [
    "%%time\n",
    "# without using fancy indexing, we'd need to iterate through each of the \n",
    "# columns to get the dataset values\n",
    "for index in cols:\n",
    "    arr = dset[:, index]\n",
    "    print(f\"dset[:,{index:8d}]: {arr.min():4d} {arr.max():4d} {arr.mean():6.2f}\")"
   ]
  },
  {
   "cell_type": "code",
   "execution_count": 7,
   "id": "0a6b63e6-20ef-46a5-9368-0b31fc8c1c24",
   "metadata": {},
   "outputs": [
    {
     "name": "stdout",
     "output_type": "stream",
     "text": [
      "CPU times: user 10.1 ms, sys: 472 µs, total: 10.5 ms\n",
      "Wall time: 269 ms\n"
     ]
    }
   ],
   "source": [
    "# let's do the same using fancy indexing\n",
    "# this should be faster than iterating\n",
    "# you may want to re-run the notebook cell where we randomly choose  \n",
    "# the columns to avoid caching effects\n",
    "%time fancy_sel = dset[:,cols]"
   ]
  },
  {
   "cell_type": "code",
   "execution_count": 8,
   "id": "f9fed9f1-5cd5-4a01-9a1f-80c2a378231c",
   "metadata": {},
   "outputs": [
    {
     "name": "stdout",
     "output_type": "stream",
     "text": [
      "dset[:,  228912]:    0   11   1.28\n",
      "dset[:,  593285]:    1  107  33.12\n",
      "dset[:,  675294]:    1   90  33.42\n",
      "dset[:,  766080]:    1  140  41.28\n",
      "dset[:,  809373]:    1   59  31.46\n",
      "dset[:, 1092856]:    0   52  11.93\n",
      "dset[:, 1607308]:    0   42  11.70\n",
      "dset[:, 1676178]:    0    8   2.70\n",
      "dset[:, 1981005]:    1   72  31.08\n",
      "dset[:, 2017562]:    4   94  54.77\n"
     ]
    }
   ],
   "source": [
    "# get min, max, mean for each row in the returned array\n",
    "# we should get same results as with the iteration method\n",
    "for i in range(len(cols)):\n",
    "    index = cols[i]\n",
    "    arr = fancy_sel[:,i]\n",
    "    print(f\"dset[:,{index:8d}]: {arr.min():4d} {arr.max():4d} {arr.mean():6.2f}\")\n",
    "    \n",
    "    "
   ]
  },
  {
   "cell_type": "code",
   "execution_count": null,
   "id": "4135a487-070e-40f0-97e8-265edcce7183",
   "metadata": {},
   "outputs": [],
   "source": []
  }
 ],
 "metadata": {
  "kernelspec": {
   "display_name": "Python 3",
   "language": "python",
   "name": "python3"
  },
  "language_info": {
   "codemirror_mode": {
    "name": "ipython",
    "version": 3
   },
   "file_extension": ".py",
   "mimetype": "text/x-python",
   "name": "python",
   "nbconvert_exporter": "python",
   "pygments_lexer": "ipython3",
   "version": "3.9.2"
  }
 },
 "nbformat": 4,
 "nbformat_minor": 5
}

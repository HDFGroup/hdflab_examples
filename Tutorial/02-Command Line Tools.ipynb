{
 "cells": [
  {
   "cell_type": "markdown",
   "metadata": {},
   "source": [
    "# 2 Using Command Line Tools"
   ]
  },
  {
   "cell_type": "markdown",
   "metadata": {},
   "source": [
    "Objectives:\n",
    " * Use the HDF Kita command line tools to list content, create, and delete files\n",
    " * You can run these in a notebook using the shell escape '!', or open a terminal window in HDFLab and run them from there\n",
    " "
   ]
  },
  {
   "cell_type": "code",
   "execution_count": 1,
   "metadata": {
    "collapsed": false,
    "jupyter": {
     "outputs_hidden": false
    }
   },
   "outputs": [
    {
     "name": "stdout",
     "output_type": "stream",
     "text": [
      "server name: Kita (HSDS) for KitaLab\n",
      "server state: READY\n",
      "endpoint: http://hsdshdflab.hdfgroup.org\n",
      "username: firefly_admin\n",
      "password: ********************************\n",
      "server version: 0.5\n",
      "node count: 8\n",
      "up: 1 days, 13 hours 59 min 47 sec\n",
      "h5pyd version: 0.5.0\n"
     ]
    }
   ],
   "source": [
    "# hsinfo display current status of the server\n",
    "! hsinfo"
   ]
  },
  {
   "cell_type": "code",
   "execution_count": 2,
   "metadata": {
    "collapsed": false,
    "jupyter": {
     "outputs_hidden": false
    }
   },
   "outputs": [
    {
     "name": "stdout",
     "output_type": "stream",
     "text": [
      "                                folder    /\n",
      "admin                           folder   2018-05-23 07:57:03 /home\n",
      "admin                           folder   2018-06-26 15:24:59 /shared\n",
      "3 items\n"
     ]
    }
   ],
   "source": [
    "# hsls without any arguments will display all the top level folders on the server\n",
    "! hsls"
   ]
  },
  {
   "cell_type": "code",
   "execution_count": 3,
   "metadata": {
    "collapsed": false,
    "jupyter": {
     "outputs_hidden": false
    }
   },
   "outputs": [
    {
     "name": "stdout",
     "output_type": "stream",
     "text": [
      "admin                           folder   2018-06-26 15:24:59 /shared/\n",
      "admin                           folder   2018-11-02 19:50:57 /shared/Ag1000G\n",
      "admin                           folder   2019-03-31 19:53:14 /shared/ESRF\n",
      "admin                           folder   2018-07-08 21:32:58 /shared/NASA\n",
      "admin                           folder   2018-07-28 23:40:00 /shared/NOAA\n",
      "admin                           folder   2018-06-26 15:51:04 /shared/NREL\n",
      "admin                           folder   2018-08-28 18:01:24 /shared/bioconductor\n",
      "admin                           folder   2018-07-16 06:00:36 /shared/sample\n",
      "admin               6.0K        domain   2019-02-28 00:29:28 /shared/tall.h5\n",
      "9 items\n"
     ]
    }
   ],
   "source": [
    "# show content of the /shared/ folder\n",
    "# -v shows more detail, -H displays file size in more readable format\n",
    "! hsls -H -v /shared/"
   ]
  },
  {
   "cell_type": "markdown",
   "metadata": {},
   "source": [
    "Problem: If the path name doesn't end in a slash, hsls assumes you are looking for a domain, not a folder.  What does \"hsls -H -v /shared\" return?"
   ]
  },
  {
   "cell_type": "code",
   "execution_count": 4,
   "metadata": {
    "collapsed": false,
    "jupyter": {
     "outputs_hidden": false
    }
   },
   "outputs": [
    {
     "name": "stdout",
     "output_type": "stream",
     "text": [
      "admin                           folder   2018-07-08 21:33:26 /shared/NASA/NCEP3/\n",
      "admin                 0B        domain   2018-07-08 21:46:25 /shared/NASA/NCEP3/ncep3.he5\n",
      "2 items\n"
     ]
    }
   ],
   "source": [
    "# use the same command to display contents of a sub-folder\n",
    "! hsls -H -v /shared/NASA/NCEP3/"
   ]
  },
  {
   "cell_type": "markdown",
   "metadata": {},
   "source": [
    "Problem: Try the above command with the -H -v flags"
   ]
  },
  {
   "cell_type": "code",
   "execution_count": 5,
   "metadata": {},
   "outputs": [
    {
     "name": "stdout",
     "output_type": "stream",
     "text": [
      "/                        Group\n",
      "/HDFEOS                  Group\n",
      "/HDFEOS/ADDITIONAL       Group\n",
      "/HDFEOS/ADDITIONAL/FILE_ATTRIBUTES Group\n",
      "/HDFEOS/GRIDS            Group\n",
      "/HDFEOS/GRIDS/NCEP       Group\n",
      "/HDFEOS/GRIDS/NCEP/Data Fields Group\n",
      "/HDFEOS/GRIDS/NCEP/Data Fields/Qsat Dataset {7850, 720, 1440}\n",
      "/HDFEOS/GRIDS/NCEP/Data Fields/Tair_2m Dataset {7850, 720, 1440}\n",
      "/HDFEOS/GRIDS/NCEP/Data Fields/Psea_level Dataset {7850, 720, 1440}\n",
      "/HDFEOS/GRIDS/NCEP/Data Fields/SST Dataset {7850, 720, 1440}\n",
      "/HDFEOS/GRIDS/NCEP/Data Fields/date Dataset {7850}\n",
      "/HDFEOS INFORMATION      Group\n",
      "/HDFEOS INFORMATION/StructMetadata.0 Dataset {SCALAR}\n"
     ]
    }
   ],
   "source": [
    "# List the contents of the ncep3.he5 domain\n",
    "! hsls -r /shared/NASA/NCEP3/ncep3.he5"
   ]
  },
  {
   "cell_type": "markdown",
   "metadata": {},
   "source": [
    "Problem: Try the above command with different options:\n",
    "* -v\n",
    "* --showattrs\n",
    "* --showacls\n",
    "* --loglevel debug"
   ]
  },
  {
   "cell_type": "code",
   "execution_count": 6,
   "metadata": {},
   "outputs": [
    {
     "name": "stdout",
     "output_type": "stream",
     "text": [
      "jreadey@hdfgroup.org                 folder   2018-07-10 00:39:56 /home/jreadey/\n",
      "jreadey@hdfgroup.org                 folder   2018-10-26 23:10:02 /home/jreadey/4DStem\n",
      "jreadey@hdfgroup.org                 domain   2019-01-31 07:25:49 /home/jreadey/BZY00136_20100304_140839_48.SC2_20100304_140839_483.gh5\n",
      "jreadey@hdfgroup.org                 folder   2019-01-31 07:23:25 /home/jreadey/CAT\n",
      "jreadey@hdfgroup.org                 folder   2019-05-04 14:15:37 /home/jreadey/ESIP\n",
      "jreadey@hdfgroup.org                 folder   2019-03-25 21:16:16 /home/jreadey/ESRF\n",
      "jreadey@hdfgroup.org                 folder   2018-12-12 05:34:58 /home/jreadey/GE\n",
      "jreadey@hdfgroup.org                 folder   2018-07-12 06:58:38 /home/jreadey/HDFLabTutorial\n",
      "jreadey@hdfgroup.org                 folder   2018-07-16 00:55:21 /home/jreadey/HDFLabTutorial2\n",
      "jreadey@hdfgroup.org                 domain   2018-11-27 22:18:46 /home/jreadey/LS5_TM_NBART_3577_-10_-10_1989_v1493705149.nc\n",
      "jreadey@hdfgroup.org                 folder   2019-06-20 21:57:56 /home/jreadey/NASA\n",
      "jreadey@hdfgroup.org                 folder   2019-05-07 19:04:14 /home/jreadey/NOAA\n",
      "jreadey@hdfgroup.org                 folder   2019-02-14 17:40:59 /home/jreadey/NREL\n",
      "jreadey@hdfgroup.org                 folder   2018-12-06 00:04:17 /home/jreadey/SETI\n",
      "jreadey@hdfgroup.org                 folder   2018-09-18 18:25:10 /home/jreadey/allotrope\n",
      "jreadey@hdfgroup.org                 domain   2019-03-15 00:35:55 /home/jreadey/anon_try.h5\n",
      "jreadey@hdfgroup.org                 domain   2018-07-17 22:08:44 /home/jreadey/astrojet.h5\n",
      "jreadey@hdfgroup.org                 folder   2018-09-25 23:48:26 /home/jreadey/bioconductor\n",
      "jreadey@hdfgroup.org                 folder   2018-12-04 18:41:01 /home/jreadey/cmp\n",
      "jreadey@hdfgroup.org                 folder   2019-10-16 04:09:45 /home/jreadey/cordial\n",
      "jreadey@hdfgroup.org                 folder   2018-09-26 01:40:34 /home/jreadey/cube\n",
      "jreadey@hdfgroup.org                 folder   2019-09-19 12:38:36 /home/jreadey/esrf\n",
      "jreadey@hdfgroup.org                 folder   2019-07-02 15:51:15 /home/jreadey/firefly\n",
      "jreadey@hdfgroup.org                 domain   2019-09-18 05:50:48 /home/jreadey/foo.h5\n",
      "jreadey@hdfgroup.org                 domain   2019-10-28 19:11:42 /home/jreadey/foo1.h5\n",
      "jreadey@hdfgroup.org                 domain   2018-09-28 15:22:42 /home/jreadey/foobar.h5\n",
      "jreadey@hdfgroup.org                 folder   2018-10-02 00:14:18 /home/jreadey/h5pyd_test\n",
      "jreadey@hdfgroup.org                 domain   2019-01-31 07:37:40 /home/jreadey/index.h5\n",
      "jreadey@hdfgroup.org                 domain   2019-07-18 06:19:51 /home/jreadey/jobs.h5\n",
      "jreadey@hdfgroup.org                 folder   2019-08-16 20:52:04 /home/jreadey/mdquerytest\n",
      "jreadey@hdfgroup.org                 domain   2019-02-27 20:50:14 /home/jreadey/mytall.h5\n",
      "admin                           domain   2018-07-10 00:41:51 /home/jreadey/ncep3.he5\n",
      "jreadey@hdfgroup.org                 folder   2019-09-17 06:31:08 /home/jreadey/nexus\n",
      "jreadey@hdfgroup.org                 folder   2018-10-02 15:18:05 /home/jreadey/pcap\n",
      "jreadey@hdfgroup.org                 domain   2019-06-12 15:33:25 /home/jreadey/scalar_dset.h5\n",
      "jreadey@hdfgroup.org                 folder   2019-03-26 05:50:39 /home/jreadey/singleobj\n",
      "jreadey@hdfgroup.org                 domain   2019-07-18 20:48:52 /home/jreadey/tair2m_avg.h5\n",
      "jreadey@hdfgroup.org                 domain   2019-09-19 12:37:51 /home/jreadey/tall.h5\n",
      "jreadey@hdfgroup.org                 domain   2019-06-07 00:29:53 /home/jreadey/tall2.h5\n",
      "jreadey@hdfgroup.org                 domain   2018-12-03 17:17:15 /home/jreadey/tall_copy.h5\n",
      "jreadey@hdfgroup.org                 domain   2019-10-21 18:49:30 /home/jreadey/tall_try.h5\n",
      "jreadey@hdfgroup.org                 folder   2018-09-22 04:18:11 /home/jreadey/tenx\n",
      "jreadey@hdfgroup.org                 folder   2018-09-21 16:55:24 /home/jreadey/tmp\n",
      "jreadey@hdfgroup.org                 domain   2019-02-28 00:48:29 /home/jreadey/wind2\n",
      "jreadey@hdfgroup.org                 domain   2019-02-28 00:41:35 /home/jreadey/windspeed_80m-2008-01.h5\n",
      "45 items\n"
     ]
    }
   ],
   "source": [
    "# every account has a home directory at: /home/<username>\n",
    "! hsls /home/jreadey/"
   ]
  },
  {
   "cell_type": "markdown",
   "metadata": {},
   "source": [
    "Problem: List the contents of the home directory for your account.\n",
    "Add the --showacls flag to show the permissions for this folder"
   ]
  },
  {
   "cell_type": "markdown",
   "metadata": {},
   "source": [
    "Problem: Run ``$showacl /home/<username>/`` to show the permissions of the folder"
   ]
  },
  {
   "cell_type": "markdown",
   "metadata": {},
   "source": [
    "## Uploading and downloading files\n",
    "For this, section you'll need to open a terminal window (select \"+\" in the upper left of the window and then choose \"terminal\" from the launcher)"
   ]
  },
  {
   "cell_type": "markdown",
   "metadata": {},
   "source": [
    "### Download a HDF5 file\n",
    "Run: `$ wget https://s3.amazonaws.com/hdfgroup/data/hdf5test/tall.h5'\n",
    "This will copy a HDF5 file to your JupyterLab disk.\n",
    "\n",
    "Tip: Use Ctrl-Shift to copy and paste text to the terminal\n"
   ]
  },
  {
   "cell_type": "markdown",
   "metadata": {},
   "source": [
    "### Find your home folder\n",
    "Your home folder will be displayed when you run `$ hsinfo`."
   ]
  },
  {
   "cell_type": "markdown",
   "metadata": {},
   "source": [
    "### Upload the file to your home folder\n",
    "Run: `$ hsload tall.h5 /home/myfolder/`  # replace 'myfolder' with your actual folder\n"
   ]
  },
  {
   "cell_type": "markdown",
   "metadata": {},
   "source": [
    "### List the contents of the uploaded file\n",
    "The file is now stored in the Kita Server S3 bucket, use hsls to display it:\n",
    "`$ hsls -r /home/myfolder/tall.h5`\n"
   ]
  },
  {
   "cell_type": "markdown",
   "metadata": {},
   "source": [
    "\n",
    "### Download the file \n",
    "Run: `$ hsget /home/myfolder/tall.h5 tall2.h5`\n",
    "This will download the file as tall2.h5\n"
   ]
  },
  {
   "cell_type": "markdown",
   "metadata": {},
   "source": [
    "### Compare the two files\n",
    "Run: `$ h5dump tall.h5` `$h5dump tall2.h5`\n",
    "\n",
    "Problem: Are these files the same?"
   ]
  },
  {
   "cell_type": "markdown",
   "metadata": {},
   "source": [
    "### ACLS (Access Control List)\n",
    "Each server domain or folder can contain one or more ACLs that control\n",
    "who may perform operations (e.g. read/update/delete)\n",
    "\n",
    "Run: $ hsacl /home/myfolder/tall.h5\n",
    "\n",
    "Problem: What happens when you run $ hsacl /shared/tall.h5?\n",
    "\n",
    "Problem: Update *your* tall.h5 so that anyone can read the ACLs\n",
    "(see hsacl --help)"
   ]
  },
  {
   "cell_type": "code",
   "execution_count": null,
   "metadata": {},
   "outputs": [],
   "source": []
  }
 ],
 "metadata": {
  "kernelspec": {
   "display_name": "Python 3",
   "language": "python",
   "name": "python3"
  },
  "language_info": {
   "codemirror_mode": {
    "name": "ipython",
    "version": 3
   },
   "file_extension": ".py",
   "mimetype": "text/x-python",
   "name": "python",
   "nbconvert_exporter": "python",
   "pygments_lexer": "ipython3",
   "version": "3.7.3"
  }
 },
 "nbformat": 4,
 "nbformat_minor": 4
}

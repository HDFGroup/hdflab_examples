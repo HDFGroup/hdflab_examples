{
 "cells": [
  {
   "cell_type": "markdown",
   "metadata": {},
   "source": [
    "# 2 Using Command Line Tools"
   ]
  },
  {
   "cell_type": "markdown",
   "metadata": {},
   "source": [
    "Objectives:\n",
    " * Use the HDF Kita command line tools to list content, create, and delete files\n",
    " * You can run these in a notebook using the shell escape '!', or open a terminal window in HDFLab and run them from there\n",
    " "
   ]
  },
  {
   "cell_type": "code",
   "execution_count": 2,
   "metadata": {
    "collapsed": false
   },
   "outputs": [
    {
     "name": "stdout",
     "output_type": "stream",
     "text": [
      "endpoint: http://hsdshdflab.hdfgroup.org\n",
      "server name: hsdstest\n",
      "server state: READY\n",
      "username: jreadey@hdfgroup.org\n",
      "password: ********************************\n",
      "home: /home/jreadey/\n",
      "server version: 0.1\n",
      "up: 1 days, 9 hours 0 min 47 sec\n",
      "h5pyd version: 0.3.0\n"
     ]
    }
   ],
   "source": [
    "# hsinfo display current status of the server\n",
    "! hsinfo"
   ]
  },
  {
   "cell_type": "code",
   "execution_count": 3,
   "metadata": {
    "collapsed": false
   },
   "outputs": [
    {
     "name": "stdout",
     "output_type": "stream",
     "text": [
      "                                folder    /\n",
      "admin                           folder   2018-06-26 15:24:59 /shared/\n",
      "admin                           folder   2018-05-23 07:57:03 /home/\n",
      "3 items\n"
     ]
    }
   ],
   "source": [
    "# hsls without any arguments will display all the top level folders on the server\n",
    "! hsls"
   ]
  },
  {
   "cell_type": "code",
   "execution_count": 4,
   "metadata": {
    "collapsed": false
   },
   "outputs": [
    {
     "name": "stdout",
     "output_type": "stream",
     "text": [
      "admin                           folder   2018-06-26 15:24:59 /shared/\n",
      "admin                           folder   2018-06-26 15:51:04 /shared/NREL/\n",
      "admin                           folder   2018-07-08 21:32:58 /shared/NASA/\n",
      "admin               5.6K        domain   2018-07-09 22:16:36 /shared/tall.h5\n",
      "admin                           folder   2018-07-16 06:00:36 /shared/sample/\n",
      "5 items\n"
     ]
    }
   ],
   "source": [
    "# show content of the /shared/ folder\n",
    "# -v shows more detail, -H displays file size in more readable format\n",
    "! hsls -H -v /shared/"
   ]
  },
  {
   "cell_type": "markdown",
   "metadata": {},
   "source": [
    "Problem: If the path name doesn't end in a slash, hsls assumes you are looking for a domain, not a folder.  What does \"hsls -H -v /shared\" return?"
   ]
  },
  {
   "cell_type": "code",
   "execution_count": 5,
   "metadata": {
    "collapsed": false
   },
   "outputs": [
    {
     "name": "stdout",
     "output_type": "stream",
     "text": [
      "admin                           folder   2018-07-08 21:33:26 /shared/NASA/NCEP3/\n",
      "admin                           domain   2018-07-08 21:46:25 /shared/NASA/NCEP3/ncep3.he5\n",
      "2 items\n"
     ]
    }
   ],
   "source": [
    "# use the same command to display contents of a sub-folder\n",
    "! hsls /shared/NASA/NCEP3/"
   ]
  },
  {
   "cell_type": "markdown",
   "metadata": {},
   "source": [
    "Problem: Try the above command with the -H -v flags"
   ]
  },
  {
   "cell_type": "code",
   "execution_count": 6,
   "metadata": {},
   "outputs": [
    {
     "name": "stdout",
     "output_type": "stream",
     "text": [
      "/                        Group\n",
      "/HDFEOS                  Group\n",
      "/HDFEOS/ADDITIONAL       Group\n",
      "/HDFEOS/ADDITIONAL/FILE_ATTRIBUTES Group\n",
      "/HDFEOS/GRIDS            Group\n",
      "/HDFEOS/GRIDS/NCEP       Group\n",
      "/HDFEOS/GRIDS/NCEP/Data Fields Group\n",
      "/HDFEOS/GRIDS/NCEP/Data Fields/Psea_level Dataset {7850, 720, 1440}\n",
      "/HDFEOS/GRIDS/NCEP/Data Fields/Qsat Dataset {7850, 720, 1440}\n",
      "/HDFEOS/GRIDS/NCEP/Data Fields/SST Dataset {7850, 720, 1440}\n",
      "/HDFEOS/GRIDS/NCEP/Data Fields/Tair_2m Dataset {7850, 720, 1440}\n",
      "/HDFEOS INFORMATION      Group\n",
      "/HDFEOS INFORMATION/StructMetadata.0 Dataset {SCALAR}\n"
     ]
    }
   ],
   "source": [
    "# List the contents of the ncep3.he5 domain\n",
    "! hsls -r /shared/NASA/NCEP3/ncep3.he5"
   ]
  },
  {
   "cell_type": "markdown",
   "metadata": {},
   "source": [
    "Problem: Try the above command with different options:\n",
    "* -v\n",
    "* --showattrs\n",
    "* --showacls\n",
    "* --loglevel debug"
   ]
  },
  {
   "cell_type": "code",
   "execution_count": 7,
   "metadata": {
    "collapsed": true
   },
   "outputs": [
    {
     "name": "stdout",
     "output_type": "stream",
     "text": [
      "admin                           folder   2018-05-23 07:57:03 /home/\n",
      "scgordon@hdfgroup.org                 folder   2018-07-10 03:58:51 /home/scgordon/\n",
      "jake.smith@hdfgroup.org                 folder   2018-07-13 16:29:54 /home/jake.smith/\n",
      "jsoumagne@hdfgroup.org                 folder   2018-07-13 16:29:56 /home/jsoumagne/\n",
      "john                            folder   2018-05-23 07:59:59 /home/john/\n",
      "derobins@hdfgroup.org                 folder   2018-07-13 16:28:21 /home/derobins/\n",
      "george.burns.999@gmx.com                 folder   2018-07-12 18:49:19 /home/george.burns.999/\n",
      "srzong@yahoo.com                 folder   2018-07-05 22:13:42 /home/srzong/\n",
      "jreadey@hdfgroup.org                 folder   2018-07-10 00:39:56 /home/jreadey/\n",
      "gheber@hdfgroup.org                 folder   2018-07-13 16:34:10 /home/gheber/\n",
      "epourmal@hdfgroup.org                 folder   2018-07-09 22:12:57 /home/epourmal/\n",
      "amac@hyperplane.org                 folder   2018-07-09 20:44:27 /home/amac/\n",
      "clipp2@illinois.edu                 folder   2018-07-12 20:57:12 /home/clipp2/\n",
      "john.readey@gmail.com                 folder   2018-07-05 23:07:06 /home/john.readey/\n",
      "john.readey@gmx.com                 folder   2018-07-06 00:34:41 /home/john.readey1/\n",
      "lrknox@hdfgroup.org                 folder   2018-07-09 15:26:34 /home/lrknox/\n",
      "myang6@hdfgroup.org                 folder   2018-07-13 16:34:14 /home/myang6/\n",
      "bmribler@hdfgroup.org                 folder   2018-07-09 15:25:00 /home/bmribler/\n",
      "dax.rodriguez@hdfgroup.org                 folder   2018-07-13 16:28:39 /home/dax.rodriguez/\n",
      "kmu@hdfgroup.org                 folder   2018-07-13 16:35:02 /home/kmu/\n",
      "vchoi@hdfgroup.org                 folder   2018-07-13 16:33:39 /home/vchoi/\n",
      "test_user1                      folder   2018-07-03 23:55:08 /home/test_user1/\n",
      "thabermann@hdfgroup.org                 folder   2018-07-09 22:11:54 /home/thabermann/\n",
      "ann.johnson@hdfgroup.org                 folder   2018-07-13 16:30:14 /home/ann.johnson/\n",
      "rob.robert49@gmx.com                 folder   2018-07-06 22:59:02 /home/rob.robert49/\n",
      "david.pearah@hdfgroup.org                 folder   2018-07-13 16:30:16 /home/david.pearah/\n",
      "nfortne2@hdfgroup.org                 folder   2018-07-13 16:29:00 /home/nfortne2/\n",
      "stvjc@channing.harvard.edu                 folder   2018-07-16 16:36:04 /home/stvjc/\n",
      "reshg@channing.harvard.edu                 folder   2018-07-16 17:52:42 /home/reshg/\n",
      "spollack@jimmy.harvard.edu                 folder   2018-07-16 18:21:25 /home/spollack/\n",
      "rebjh@channing.harvard.edu                 folder   2018-07-16 18:46:57 /home/rebjh/\n",
      "chesschamp@gmx.com                 folder   2018-07-16 21:29:04 /home/chesschamp/\n",
      "hdf@snotrocketscience.com                 folder   2018-07-16 22:10:02 /home/hdf/\n",
      "hdf0716f@snotrocketscience.com                 folder   2018-07-16 23:56:09 /home/hdf0716f/\n",
      "34 items\n"
     ]
    }
   ],
   "source": [
    "# every account has a home directory at: /home/<username>\n",
    "! hsls /home/"
   ]
  },
  {
   "cell_type": "markdown",
   "metadata": {},
   "source": [
    "Problem: List the contents of the home directory for your account.\n",
    "Add the --showacls flag to show the permissions for this folder"
   ]
  },
  {
   "cell_type": "markdown",
   "metadata": {},
   "source": [
    "Problem: Run ``$showacl /home/<username>/`` to show the permissions of the folder"
   ]
  },
  {
   "cell_type": "markdown",
   "metadata": {},
   "source": [
    "## Uploading and downloading files\n",
    "For this, section you'll need to open a terminal window (select \"+\" in the upper left of the window and then choose \"terminal\" from the launcher)"
   ]
  },
  {
   "cell_type": "markdown",
   "metadata": {},
   "source": [
    "### Download a HDF5 file\n",
    "Run: `$ wget https://s3.amazonaws.com/hdfgroup/data/hdf5test/tall.h5'\n",
    "This will copy a HDF5 file to your JupyterLab disk.\n",
    "\n",
    "Tip: Use Ctrl-Shift to copy and paste text to the terminal\n"
   ]
  },
  {
   "cell_type": "markdown",
   "metadata": {},
   "source": [
    "### Find your home folder\n",
    "Your home folder will be displayed when you run `$ hsinfo`."
   ]
  },
  {
   "cell_type": "markdown",
   "metadata": {},
   "source": [
    "### Upload the file to your home folder\n",
    "Run: `$ hsload tall.h5 /home/myfolder/`  # replace 'myfolder' with your actual folder\n"
   ]
  },
  {
   "cell_type": "markdown",
   "metadata": {},
   "source": [
    "### List the contents of the uploaded file\n",
    "The file is now stored in the Kita Server S3 bucket, use hsls to display it:\n",
    "`$ hsls -r /home/myfolder/tall.h5`\n"
   ]
  },
  {
   "cell_type": "markdown",
   "metadata": {},
   "source": [
    "\n",
    "### Download the file \n",
    "Run: `$ hsget /home/myfolder/tall.h5 tall2.h5`\n",
    "This will download the file as tall2.h5\n"
   ]
  },
  {
   "cell_type": "markdown",
   "metadata": {},
   "source": [
    "### Compare the two files\n",
    "Run: `$ h5dump tall.h5` `$h5dump tall2.h5`\n",
    "\n",
    "Problem: Are these files the same?"
   ]
  },
  {
   "cell_type": "markdown",
   "metadata": {},
   "source": [
    "### ACLS (Access Control List)\n",
    "Each server domain or folder can contain one or more ACLs that control\n",
    "who may perform operations (e.g. read/update/delete)\n",
    "\n",
    "Run: $ hsacl /home/myfolder/tall.h5\n",
    "\n",
    "Problem: What happens when you run $ hsacl /shared/tall.h5?\n",
    "\n",
    "Problem: Update *your* tall.h5 so that anyone can read the ACLs\n",
    "(see hsacl --help)"
   ]
  },
  {
   "cell_type": "code",
   "execution_count": null,
   "metadata": {},
   "outputs": [],
   "source": []
  }
 ],
 "metadata": {
  "kernelspec": {
   "display_name": "Python 3",
   "language": "python",
   "name": "python3"
  },
  "language_info": {
   "codemirror_mode": {
    "name": "ipython",
    "version": 3
   },
   "file_extension": ".py",
   "mimetype": "text/x-python",
   "name": "python",
   "nbconvert_exporter": "python",
   "pygments_lexer": "ipython3",
   "version": "3.6.3"
  }
 },
 "nbformat": 4,
 "nbformat_minor": 2
}

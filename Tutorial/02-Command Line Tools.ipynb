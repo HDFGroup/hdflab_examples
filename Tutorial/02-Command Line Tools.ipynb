{
 "cells": [
  {
   "cell_type": "markdown",
   "metadata": {},
   "source": [
    "# 2 Using Command Line Tools"
   ]
  },
  {
   "cell_type": "markdown",
   "metadata": {},
   "source": [
    "Objectives:\n",
    " * Use the HSDS command line tools to list content, create, and delete files\n",
    " * You can run these in a notebook using the shell escape '!', or open a terminal window in HDFLab and run them from there\n",
    " "
   ]
  },
  {
   "cell_type": "code",
   "execution_count": 1,
   "metadata": {
    "collapsed": false,
    "jupyter": {
     "outputs_hidden": false
    }
   },
   "outputs": [
    {
     "name": "stdout",
     "output_type": "stream",
     "text": [
      "server name: Highly Scalable Data Service (HSDS) for HDFLab\n",
      "server state: READY\n",
      "endpoint: http://hsds.hdflab.svc.cluster.local\n",
      "username: jreadey@hdfgroup.org \n",
      "password: ********************************\n",
      "home: /home/jreadey/\n",
      "server version: 0.7.0beta\n",
      "node count: 4\n",
      "up: 5 days, 8 hours 42 min 8 sec\n",
      "h5pyd version: 0.8.4\n"
     ]
    }
   ],
   "source": [
    "# hsinfo display current status of the server\n",
    "! hsinfo"
   ]
  },
  {
   "cell_type": "code",
   "execution_count": 2,
   "metadata": {
    "collapsed": false,
    "jupyter": {
     "outputs_hidden": false
    }
   },
   "outputs": [
    {
     "name": "stdout",
     "output_type": "stream",
     "text": [
      "                                                    folder    /\n",
      "admin                                               folder   2021-06-05 16:16:51 /home\n",
      "admin                                               folder   2021-06-05 16:18:35 /shared\n",
      "3 items\n"
     ]
    }
   ],
   "source": [
    "# hsls without any arguments will display all the top level folders on the server\n",
    "! hsls"
   ]
  },
  {
   "cell_type": "code",
   "execution_count": 3,
   "metadata": {
    "collapsed": false,
    "jupyter": {
     "outputs_hidden": false
    }
   },
   "outputs": [
    {
     "name": "stdout",
     "output_type": "stream",
     "text": [
      "admin                                               folder   2021-06-05 16:18:35 /shared/\n",
      "admin                                               folder   2021-06-05 22:01:28 /shared/Ag1000G\n",
      "admin                                               folder   2021-06-06 20:05:26 /shared/ESRF\n",
      "admin                                               folder   2021-06-06 20:07:36 /shared/NASA\n",
      "admin                                               folder   2021-06-07 00:39:14 /shared/NOAA\n",
      "admin                                               folder   2021-06-15 00:34:50 /shared/NREL\n",
      "admin                                               folder   2021-06-07 15:18:53 /shared/bioconductor\n",
      "ghcn                                                folder   2021-11-09 03:58:44 /shared/ghcn\n",
      "admin                                               folder   2021-06-06 16:35:19 /shared/sample\n",
      "admin                                   6.0K        domain   2021-06-07 17:09:24 /shared/tall.h5\n",
      "10 items\n"
     ]
    }
   ],
   "source": [
    "# show content of the /shared/ folder\n",
    "# -v shows more detail, -H displays file size in more readable format\n",
    "! hsls -H -v /shared/"
   ]
  },
  {
   "cell_type": "markdown",
   "metadata": {},
   "source": [
    "Problem: If the path name doesn't end in a slash, hsls assumes you are looking for a domain, not a folder.  What does \"hsls -H -v /shared\" return?"
   ]
  },
  {
   "cell_type": "code",
   "execution_count": 4,
   "metadata": {
    "collapsed": false,
    "jupyter": {
     "outputs_hidden": false
    }
   },
   "outputs": [
    {
     "name": "stdout",
     "output_type": "stream",
     "text": [
      "admin                                               folder   2021-06-07 00:40:54 /shared/NASA/NCEP3/\n",
      "admin                                  25.5G        domain   2021-06-07 02:38:12 /shared/NASA/NCEP3/ncep3.he5\n",
      "2 items\n"
     ]
    }
   ],
   "source": [
    "# use the same command to display contents of a sub-folder\n",
    "! hsls -H -v /shared/NASA/NCEP3/"
   ]
  },
  {
   "cell_type": "markdown",
   "metadata": {},
   "source": [
    "Problem: Try the above command with the -H -v flags"
   ]
  },
  {
   "cell_type": "code",
   "execution_count": 5,
   "metadata": {},
   "outputs": [
    {
     "name": "stdout",
     "output_type": "stream",
     "text": [
      "/ Group\n",
      "/HDFEOS INFORMATION Group\n",
      "/HDFEOS INFORMATION/StructMetadata.0 Dataset {{SCALAR}}\n",
      "/HDFEOS Group\n",
      "/HDFEOS/GRIDS Group\n",
      "/HDFEOS/GRIDS/NCEP Group\n",
      "/HDFEOS/GRIDS/NCEP/Data Fields Group\n",
      "/HDFEOS/GRIDS/NCEP/Data Fields/date Dataset {7850}\n",
      "/HDFEOS/GRIDS/NCEP/Data Fields/SST Dataset {7850, 720, 1440}\n",
      "/HDFEOS/GRIDS/NCEP/Data Fields/Psea_level Dataset {7850, 720, 1440}\n",
      "/HDFEOS/GRIDS/NCEP/Data Fields/Tair_2m Dataset {7850, 720, 1440}\n",
      "/HDFEOS/GRIDS/NCEP/Data Fields/Qsat Dataset {7850, 720, 1440}\n",
      "/HDFEOS/ADDITIONAL Group\n",
      "/HDFEOS/ADDITIONAL/FILE_ATTRIBUTES Group\n"
     ]
    }
   ],
   "source": [
    "# List the contents of the ncep3.he5 domain\n",
    "! hsls -r /shared/NASA/NCEP3/ncep3.he5"
   ]
  },
  {
   "cell_type": "markdown",
   "metadata": {},
   "source": [
    "Problem: Try the above command with different options:\n",
    "* -v\n",
    "* --showattrs\n",
    "* --showacls\n",
    "* --loglevel debug"
   ]
  },
  {
   "cell_type": "code",
   "execution_count": 6,
   "metadata": {},
   "outputs": [
    {
     "name": "stdout",
     "output_type": "stream",
     "text": [
      "jreadey@hdfgroup.org                                folder   2021-06-06 16:31:30 /home/jreadey/\n",
      "jreadey@hdfgroup.org                                folder   2021-06-06 20:02:23 /home/jreadey/HDFLabTutorial\n",
      "jreadey@hdfgroup.org                                folder   2021-09-22 21:57:22 /home/jreadey/ablymed\n",
      "jreadey@hdfgroup.org                                folder   2021-07-09 23:47:17 /home/jreadey/cetestgroup\n",
      "jreadey@hdfgroup.org                                folder   2021-12-08 16:41:38 /home/jreadey/compress\n",
      "jreadey@hdfgroup.org                                domain   2021-06-17 17:51:08 /home/jreadey/foo.h5\n",
      "jreadey@hdfgroup.org                                domain   2021-12-07 00:26:40 /home/jreadey/foobar.h5\n",
      "jreadey@hdfgroup.org                                folder   2021-12-13 18:42:07 /home/jreadey/h5pyd_doc\n",
      "jreadey@hdfgroup.org                                folder   2022-01-04 18:49:22 /home/jreadey/h5pyd_test\n",
      "jreadey@hdfgroup.org                                folder   2021-09-27 20:37:19 /home/jreadey/hobo\n",
      "jreadey@hdfgroup.org                                folder   2021-06-17 17:58:42 /home/jreadey/myfolder\n",
      "jreadey@hdfgroup.org                                domain   2021-06-17 17:58:51 /home/jreadey/notafolder\n",
      "jreadey@hdfgroup.org                                folder   2021-10-17 06:34:56 /home/jreadey/perf\n",
      "jreadey@hdfgroup.org                                domain   2021-09-02 15:48:48 /home/jreadey/scalars.h5\n",
      "admin                                               domain   2021-09-16 14:35:32 /home/jreadey/tall.h5\n",
      "15 items\n"
     ]
    }
   ],
   "source": [
    "# every account has a home directory at: /home/<username>\n",
    "! hsls /home/jreadey/"
   ]
  },
  {
   "cell_type": "markdown",
   "metadata": {},
   "source": [
    "Problem: List the contents of the home directory for your account.\n",
    "Add the --showacls flag to show the permissions for this folder"
   ]
  },
  {
   "cell_type": "markdown",
   "metadata": {},
   "source": [
    "Problem: Run ``$showacl /home/<username>/`` to show the permissions of the folder"
   ]
  },
  {
   "cell_type": "markdown",
   "metadata": {},
   "source": [
    "## Uploading and downloading files\n",
    "For this, section you'll need to open a terminal window (select \"+\" in the upper left of the window and then choose \"terminal\" from the launcher)"
   ]
  },
  {
   "cell_type": "markdown",
   "metadata": {},
   "source": [
    "### Download a HDF5 file\n",
    "Run: `$ wget https://s3.amazonaws.com/hdfgroup/data/hdf5test/tall.h5'\n",
    "This will copy a HDF5 file to your JupyterLab disk.\n",
    "\n",
    "Tip: Use Ctrl-Shift to copy and paste text to the terminal\n"
   ]
  },
  {
   "cell_type": "markdown",
   "metadata": {},
   "source": [
    "### Find your home folder\n",
    "Your home folder will be displayed when you run `$ hsinfo`."
   ]
  },
  {
   "cell_type": "markdown",
   "metadata": {},
   "source": [
    "### Upload the file to your home folder\n",
    "Run: `$ hsload tall.h5 /home/myfolder/`  # replace 'myfolder' with your actual folder\n"
   ]
  },
  {
   "cell_type": "markdown",
   "metadata": {},
   "source": [
    "### List the contents of the uploaded file\n",
    "The file is now stored in the Kita Server S3 bucket, use hsls to display it:\n",
    "`$ hsls -r /home/myfolder/tall.h5`\n"
   ]
  },
  {
   "cell_type": "markdown",
   "metadata": {},
   "source": [
    "\n",
    "### Download the file \n",
    "Run: `$ hsget /home/myfolder/tall.h5 tall2.h5`\n",
    "This will download the file as tall2.h5\n"
   ]
  },
  {
   "cell_type": "markdown",
   "metadata": {},
   "source": [
    "### Compare the two files\n",
    "Run: `$ h5dump tall.h5` `$h5dump tall2.h5`\n",
    "\n",
    "Problem: Are these files the same?"
   ]
  },
  {
   "cell_type": "markdown",
   "metadata": {},
   "source": [
    "### ACLS (Access Control List)\n",
    "Each server domain or folder can contain one or more ACLs that control\n",
    "who may perform operations (e.g. read/update/delete)\n",
    "\n",
    "Run: $ hsacl /home/myfolder/tall.h5\n",
    "\n",
    "Problem: What happens when you run $ hsacl /shared/tall.h5?\n",
    "\n",
    "Problem: Update *your* tall.h5 so that anyone can read the ACLs\n",
    "(see hsacl --help)"
   ]
  },
  {
   "cell_type": "code",
   "execution_count": null,
   "metadata": {},
   "outputs": [],
   "source": []
  }
 ],
 "metadata": {
  "kernelspec": {
   "display_name": "Python 3",
   "language": "python",
   "name": "python3"
  },
  "language_info": {
   "codemirror_mode": {
    "name": "ipython",
    "version": 3
   },
   "file_extension": ".py",
   "mimetype": "text/x-python",
   "name": "python",
   "nbconvert_exporter": "python",
   "pygments_lexer": "ipython3",
   "version": "3.9.2"
  }
 },
 "nbformat": 4,
 "nbformat_minor": 4
}

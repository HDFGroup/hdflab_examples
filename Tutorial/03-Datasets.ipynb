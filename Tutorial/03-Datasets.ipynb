{
 "cells": [
  {
   "cell_type": "markdown",
   "metadata": {},
   "source": [
    "# 3 Datasets"
   ]
  },
  {
   "cell_type": "markdown",
   "metadata": {},
   "source": [
    "Objectives\n",
    " * Use the h5pyd package to connect with the HDF Kita Server\n",
    " * Explore characterstics of Datasets\n",
    " * Look at different ways of reading/writing to datasets\n",
    " * Examine how chunking works with HDF Server\n",
    " * Tricks for best performance"
   ]
  },
  {
   "cell_type": "code",
   "execution_count": 1,
   "metadata": {
    "collapsed": true
   },
   "outputs": [],
   "source": [
    "import h5pyd\n",
    "import numpy as np\n",
    "import os"
   ]
  },
  {
   "cell_type": "code",
   "execution_count": 2,
   "metadata": {},
   "outputs": [],
   "source": [
    "#\n",
    "# Get folder in /home/ that is owned by given user\n",
    "#\n",
    "def getMyFolder(username):\n",
    "    if not username:\n",
    "        return None\n",
    "    dir = h5pyd.Folder('/home/')  # get folder object for root\n",
    "    myfolder = None\n",
    "    for name in dir:\n",
    "        # we should come across the given domain\n",
    "        if username.startswith(name):\n",
    "            # check any folders where the name matches at least part of the username\n",
    "            # e.g. folder: \"/home/bob/\" for username \"bob@acme.com\"\n",
    "            path = '/home/' + name + '/'\n",
    "            f = h5pyd.Folder(path)\n",
    "            if f.owner == username:\n",
    "                myfolder = path\n",
    "            f.close()\n",
    "            if myfolder:\n",
    "                break\n",
    "\n",
    "    dir.close()\n",
    "    \n",
    "    # create a workshop subfolder if not already present\n",
    "    myfolder += \"HDFLabTutorial/\"\n",
    "    try:\n",
    "        h5pyd.Folder(myfolder)\n",
    "    except IOError as ioe:\n",
    "        if ioe.errno != 404:\n",
    "            return None  # unexpected error\n",
    "        h5pyd.Folder(myfolder, mode='x')\n",
    "        print(\"created folder:\", myfolder)\n",
    "       \n",
    "    return myfolder"
   ]
  },
  {
   "cell_type": "code",
   "execution_count": 3,
   "metadata": {
    "collapsed": true
   },
   "outputs": [
    {
     "data": {
      "text/plain": [
       "'/home/jreadey/HDFLabTutorial/'"
      ]
     },
     "execution_count": 3,
     "metadata": {},
     "output_type": "execute_result"
    }
   ],
   "source": [
    "# Get your home folder\n",
    "home = getMyFolder(os.getenv(\"JUPYTERHUB_USER\"))\n",
    "home  # this is the folder where you have permission to write to"
   ]
  },
  {
   "cell_type": "code",
   "execution_count": 4,
   "metadata": {},
   "outputs": [
    {
     "data": {
      "text/plain": [
       "[]"
      ]
     },
     "execution_count": 4,
     "metadata": {},
     "output_type": "execute_result"
    }
   ],
   "source": [
    "# create a domain on the server\n",
    "domain_name = home + \"03.h5\"\n",
    "f = h5pyd.File(domain_name, 'w')\n",
    "list(f)"
   ]
  },
  {
   "cell_type": "markdown",
   "metadata": {},
   "source": [
    "Note: The 'w' mode removes and existing file (if any) and creates a new empty file.\n",
    "Other modes supported are:\n",
    " * 'r': Open as read only, file must exist\n",
    " * 'r+': Read/write, file must exist\n",
    " * 'x': Create file, fail if exist\n",
    " * 'a': Read/write if exists, otherwise create"
   ]
  },
  {
   "cell_type": "code",
   "execution_count": 5,
   "metadata": {
    "collapsed": true
   },
   "outputs": [
    {
     "data": {
      "text/plain": [
       "'g-f81c3e56-8663-11e8-a8b5-0242ac120022'"
      ]
     },
     "execution_count": 5,
     "metadata": {},
     "output_type": "execute_result"
    }
   ],
   "source": [
    "# The only object currently in the new file is the root group, we can get the id like this\n",
    "root = f['/']\n",
    "root.id.id"
   ]
  },
  {
   "cell_type": "code",
   "execution_count": 6,
   "metadata": {
    "collapsed": true
   },
   "outputs": [
    {
     "data": {
      "text/plain": [
       "<HDF5 dataset \"test1\": shape (3, 4), type \"<i8\">"
      ]
     },
     "execution_count": 6,
     "metadata": {},
     "output_type": "execute_result"
    }
   ],
   "source": [
    "f.create_dataset(\"test1\", (3,4), dtype='i8')  # we've created a dataset!"
   ]
  },
  {
   "cell_type": "code",
   "execution_count": 7,
   "metadata": {
    "collapsed": true
   },
   "outputs": [
    {
     "data": {
      "text/plain": [
       "['test1']"
      ]
     },
     "execution_count": 7,
     "metadata": {},
     "output_type": "execute_result"
    }
   ],
   "source": [
    "# now something shows up if we list the contents of the file\n",
    "list(f)"
   ]
  },
  {
   "cell_type": "code",
   "execution_count": 8,
   "metadata": {
    "collapsed": true
   },
   "outputs": [
    {
     "data": {
      "text/plain": [
       "dtype('int64')"
      ]
     },
     "execution_count": 8,
     "metadata": {},
     "output_type": "execute_result"
    }
   ],
   "source": [
    "# The dataset type is fixed at creation time\n",
    "dset = f['test1']\n",
    "dset.dtype"
   ]
  },
  {
   "cell_type": "code",
   "execution_count": 9,
   "metadata": {
    "collapsed": true
   },
   "outputs": [
    {
     "data": {
      "text/plain": [
       "(3, 4)"
      ]
     },
     "execution_count": 9,
     "metadata": {},
     "output_type": "execute_result"
    }
   ],
   "source": [
    "# in this case the shape is fixed at create time, though we'll see later it is possible to\n",
    "# create extensible datasets\n",
    "dset.shape"
   ]
  },
  {
   "cell_type": "code",
   "execution_count": 10,
   "metadata": {
    "collapsed": true
   },
   "outputs": [
    {
     "data": {
      "text/plain": [
       "array([[0, 0, 0, 0],\n",
       "       [0, 0, 0, 0],\n",
       "       [0, 0, 0, 0]])"
      ]
     },
     "execution_count": 10,
     "metadata": {},
     "output_type": "execute_result"
    }
   ],
   "source": [
    "# you can read all the elements of a dataset using the ellipsis operator\n",
    "out = dset[...]\n",
    "out"
   ]
  },
  {
   "cell_type": "code",
   "execution_count": 11,
   "metadata": {
    "collapsed": true
   },
   "outputs": [
    {
     "data": {
      "text/plain": [
       "array([[1, 2, 3, 4],\n",
       "       [0, 0, 0, 0],\n",
       "       [0, 0, 0, 0]])"
      ]
     },
     "execution_count": 11,
     "metadata": {},
     "output_type": "execute_result"
    }
   ],
   "source": [
    "# you can update portions of the dataset using numpy-like syntax\n",
    "dset[0,0:4] = [1,2,3,4]\n",
    "dset[...]"
   ]
  },
  {
   "cell_type": "code",
   "execution_count": 12,
   "metadata": {
    "collapsed": true
   },
   "outputs": [],
   "source": [
    "# only portions of the dataset that actually get written are stored\n",
    "# create a really big dataset\n",
    "f.create_dataset(\"big_data\", (1024,1024,1024), dtype='f4')  # 4 GB dataset!\n",
    "dset = f['big_data']\n",
    "dset[512,512,512] = 3.12  # write one element"
   ]
  },
  {
   "cell_type": "code",
   "execution_count": 13,
   "metadata": {
    "collapsed": true
   },
   "outputs": [
    {
     "data": {
      "text/plain": [
       "array([0.  , 0.  , 3.12, 0.  ], dtype=float32)"
      ]
     },
     "execution_count": 13,
     "metadata": {},
     "output_type": "execute_result"
    }
   ],
   "source": [
    "# read back a small region\n",
    "dset[510:514,512,512]"
   ]
  },
  {
   "cell_type": "markdown",
   "metadata": {},
   "source": [
    "Problem: Use hsls -H -v with this file.  At first you may see no storage allocatted for the file, but this will update in a minute or two."
   ]
  },
  {
   "cell_type": "code",
   "execution_count": 14,
   "metadata": {
    "collapsed": true
   },
   "outputs": [
    {
     "data": {
      "text/plain": [
       "(128, 128, 128)"
      ]
     },
     "execution_count": 14,
     "metadata": {},
     "output_type": "execute_result"
    }
   ],
   "source": [
    "# Dataset storage is broken up into \"chunks\".  Each chunk is stored as a seperate S3 object\n",
    "# unlike with h5py, datasets are always chunked (even if it is just one chunk!).\n",
    "# Chunks are determined automtically if not provided in the dataset create call\n",
    "dset.chunks  "
   ]
  },
  {
   "cell_type": "code",
   "execution_count": 15,
   "metadata": {
    "collapsed": true
   },
   "outputs": [
    {
     "data": {
      "text/plain": [
       "(1, 1024, 1024)"
      ]
     },
     "execution_count": 15,
     "metadata": {},
     "output_type": "execute_result"
    }
   ],
   "source": [
    "# specify a chunk layout\n",
    "f.create_dataset(\"chunked_data\", (1024,1024,1024), dtype='f4',chunks=(1,1024,1024))\n",
    "dset = f[\"chunked_data\"]\n",
    "dset.chunks"
   ]
  },
  {
   "cell_type": "markdown",
   "metadata": {},
   "source": [
    "Problem: The server will \"correct\" chunk layouts that result in chunks that are too small or too large.  Try creating datasets with very small and very large chunks.  What chunk layout do you get?"
   ]
  },
  {
   "cell_type": "code",
   "execution_count": 16,
   "metadata": {
    "collapsed": true
   },
   "outputs": [
    {
     "data": {
      "text/plain": [
       "['big_data', 'chunked_data']"
      ]
     },
     "execution_count": 16,
     "metadata": {},
     "output_type": "execute_result"
    }
   ],
   "source": [
    "# Delete a dataset by using the del operator.  Unlike with the HDF5 library, this doesn't leave\n",
    "# \"holes\" in the file.  Only storage that is actually allocated is used\n",
    "del f['test1']\n",
    "list(f)"
   ]
  },
  {
   "cell_type": "code",
   "execution_count": 17,
   "metadata": {
    "collapsed": true
   },
   "outputs": [],
   "source": [
    "# If you would like a default value other than 0, specify a \n",
    "#   fill value when creating the dataset\n",
    "f.create_dataset(\"fill_value\", (1024,1024,1024), dtype='i4', fillvalue=42)\n",
    "dset = f['fill_value']"
   ]
  },
  {
   "cell_type": "code",
   "execution_count": 18,
   "metadata": {
    "collapsed": true
   },
   "outputs": [
    {
     "data": {
      "text/plain": [
       "array([42, 42, 42], dtype=int32)"
      ]
     },
     "execution_count": 18,
     "metadata": {},
     "output_type": "execute_result"
    }
   ],
   "source": [
    "dset[1,2,3:6]  # get 3 elements from the array"
   ]
  },
  {
   "cell_type": "markdown",
   "metadata": {},
   "source": [
    "Problem: Run hsls -H -v with this file.  How many chunks in the dataset have been allocatted?"
   ]
  },
  {
   "cell_type": "code",
   "execution_count": 19,
   "metadata": {
    "collapsed": false
   },
   "outputs": [],
   "source": [
    "# open a data file\n",
    "f = h5pyd.File(\"/shared/NASA/NCEP3/ncep3.he5\", 'r')"
   ]
  },
  {
   "cell_type": "markdown",
   "metadata": {},
   "source": [
    "Problem: what happens if you open this with the 'a' flag?"
   ]
  },
  {
   "cell_type": "code",
   "execution_count": 20,
   "metadata": {
    "collapsed": true
   },
   "outputs": [],
   "source": [
    "# get a dataset\n",
    "dset = f[\"/HDFEOS/GRIDS/NCEP/Data Fields/Tair_2m\"]"
   ]
  },
  {
   "cell_type": "code",
   "execution_count": 21,
   "metadata": {
    "collapsed": false
   },
   "outputs": [
    {
     "data": {
      "text/plain": [
       "(7850, 720, 1440)"
      ]
     },
     "execution_count": 21,
     "metadata": {},
     "output_type": "execute_result"
    }
   ],
   "source": [
    "# Get the dimensions\n",
    "dset.shape"
   ]
  },
  {
   "cell_type": "code",
   "execution_count": 22,
   "metadata": {
    "collapsed": false
   },
   "outputs": [
    {
     "name": "stdout",
     "output_type": "stream",
     "text": [
      "CPU times: user 36 ms, sys: 44 ms, total: 80 ms\n",
      "Wall time: 287 ms\n"
     ]
    },
    {
     "data": {
      "text/plain": [
       "-504.48132"
      ]
     },
     "execution_count": 22,
     "metadata": {},
     "output_type": "execute_result"
    }
   ],
   "source": [
    "# Read section of the dataset\n",
    "# For really large datasets it maybe impossible to read all the data into memory,\n",
    "# so often we will need to work with smaller pieces (hyperslabs) of the data\n",
    "\n",
    "# Time how long it takes to read 5 slices\n",
    "start_index = 123\n",
    "end_index = start_index + 5\n",
    "%time arr = dset[start_index:end_index,::,::]\n",
    "arr.mean()"
   ]
  },
  {
   "cell_type": "markdown",
   "metadata": {},
   "source": [
    "Problem: How much longer does it take to read 10 slices"
   ]
  },
  {
   "cell_type": "code",
   "execution_count": null,
   "metadata": {
    "collapsed": false
   },
   "outputs": [],
   "source": [
    "# Sometimes it is useful to cull a (hopefully) representive sample of the data by\n",
    "# using a \"step\" value with the selection.  This grabs every \"step\" element.\n",
    "# We didn't give start and stop values in this case so start will be 0 and stop will be the \n",
    "# the size of the dimension\n",
    "\n",
    "arr = dset[start_index:end_index,::10,::10]\n",
    "arr.mean()"
   ]
  },
  {
   "cell_type": "markdown",
   "metadata": {},
   "source": [
    "Problem: What are the dimensions of the returned array?\n",
    "\n",
    "Problem: Does the value of mean change much with different step values?  \n",
    "Would that be true for any dataset?"
   ]
  },
  {
   "cell_type": "code",
   "execution_count": null,
   "metadata": {
    "collapsed": false
   },
   "outputs": [],
   "source": [
    "# Another way to select elements from a dataset is via \"point selection\".\n",
    "# When you provide a set of coordinates, you will get back a 1D list of selected \n",
    "# elements.\n",
    "coordinates = [(123,234,345),(246,46,69),(340,202,888)]\n",
    "dset[coordinates]"
   ]
  },
  {
   "cell_type": "code",
   "execution_count": null,
   "metadata": {
    "collapsed": true
   },
   "outputs": [],
   "source": [
    "# If you potentially need to expand a dataset, use the maxshape parameter \n",
    "# at creation time.\n",
    "f = h5pyd.File(domain_name, 'a')  # open original file in append mode\n",
    "dset = f.create_dataset('resizable', (2,3), maxshape=(20,30))"
   ]
  },
  {
   "cell_type": "code",
   "execution_count": null,
   "metadata": {
    "collapsed": true
   },
   "outputs": [],
   "source": [
    "dset.shape"
   ]
  },
  {
   "cell_type": "code",
   "execution_count": null,
   "metadata": {
    "collapsed": true
   },
   "outputs": [],
   "source": [
    "dset.maxshape"
   ]
  },
  {
   "cell_type": "code",
   "execution_count": null,
   "metadata": {
    "collapsed": true
   },
   "outputs": [],
   "source": [
    "dset.resize((12, 14))"
   ]
  },
  {
   "cell_type": "code",
   "execution_count": null,
   "metadata": {
    "collapsed": true
   },
   "outputs": [],
   "source": [
    "dset.shape"
   ]
  },
  {
   "cell_type": "code",
   "execution_count": null,
   "metadata": {
    "collapsed": true
   },
   "outputs": [],
   "source": [
    "# an error will be returned if you try to go beyond the maxshape bounds...\n",
    "dset.resize((25,50))"
   ]
  },
  {
   "cell_type": "code",
   "execution_count": null,
   "metadata": {
    "collapsed": true
   },
   "outputs": [],
   "source": [
    "# what if you don't know the maximum size?  None values are interpreted as \"unlimited\" extent\n",
    "dset = f.create_dataset('unlimited', (2,3), maxshape=(2,None))"
   ]
  },
  {
   "cell_type": "code",
   "execution_count": null,
   "metadata": {
    "collapsed": true
   },
   "outputs": [],
   "source": [
    "dset.shape"
   ]
  },
  {
   "cell_type": "code",
   "execution_count": null,
   "metadata": {
    "collapsed": true
   },
   "outputs": [],
   "source": [
    "dset.maxshape"
   ]
  },
  {
   "cell_type": "code",
   "execution_count": null,
   "metadata": {
    "collapsed": true
   },
   "outputs": [],
   "source": [
    "dset.resize((2,200))\n",
    "dset.shape"
   ]
  },
  {
   "cell_type": "markdown",
   "metadata": {},
   "source": [
    "Problem: What do expect the chunk shape to be for this dataset?"
   ]
  },
  {
   "cell_type": "code",
   "execution_count": null,
   "metadata": {
    "collapsed": true
   },
   "outputs": [],
   "source": []
  }
 ],
 "metadata": {
  "kernelspec": {
   "display_name": "Python 3",
   "language": "python",
   "name": "python3"
  },
  "language_info": {
   "codemirror_mode": {
    "name": "ipython",
    "version": 3
   },
   "file_extension": ".py",
   "mimetype": "text/x-python",
   "name": "python",
   "nbconvert_exporter": "python",
   "pygments_lexer": "ipython3",
   "version": "3.6.3"
  }
 },
 "nbformat": 4,
 "nbformat_minor": 2
}

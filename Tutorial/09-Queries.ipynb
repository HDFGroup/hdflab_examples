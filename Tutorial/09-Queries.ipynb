{
 "cells": [
  {
   "cell_type": "markdown",
   "metadata": {},
   "source": [
    "# Query Operations"
   ]
  },
  {
   "cell_type": "markdown",
   "metadata": {},
   "source": [
    "Objectives:\n",
    " * Learn how to use the query method for tabular datasets\n",
    " \n",
    "Note: this notebook only works with HDF Server!"
   ]
  },
  {
   "cell_type": "code",
   "execution_count": 1,
   "metadata": {
    "collapsed": true
   },
   "outputs": [],
   "source": [
    "import h5pyd\n",
    "# Open a file containing stock quote data\n",
    "f = h5pyd.File(\"/shared/sample/snp500.h5\", 'r')"
   ]
  },
  {
   "cell_type": "code",
   "execution_count": 2,
   "metadata": {},
   "outputs": [
    {
     "data": {
      "text/plain": [
       "(3207353,)"
      ]
     },
     "execution_count": 2,
     "metadata": {},
     "output_type": "execute_result"
    }
   ],
   "source": [
    "dset = f[\"dset\"]\n",
    "dset.shape"
   ]
  },
  {
   "cell_type": "code",
   "execution_count": 3,
   "metadata": {},
   "outputs": [
    {
     "data": {
      "text/plain": [
       "dtype([('date', 'S10'), ('symbol', 'S4'), ('sector', 'i1'), ('open', '<f4'), ('high', '<f4'), ('low', '<f4'), ('volume', '<f4'), ('close', '<f4')])"
      ]
     },
     "execution_count": 3,
     "metadata": {},
     "output_type": "execute_result"
    }
   ],
   "source": [
    "# an example of compound type\n",
    "dset.dtype"
   ]
  },
  {
   "cell_type": "code",
   "execution_count": 4,
   "metadata": {
    "collapsed": true
   },
   "outputs": [],
   "source": [
    "# The date field starting in 1970\n",
    "arr = dset[:10]  # get first 10 elements"
   ]
  },
  {
   "cell_type": "code",
   "execution_count": 5,
   "metadata": {},
   "outputs": [
    {
     "data": {
      "text/plain": [
       "array([b'1970.01.02', b'1970.01.02', b'1970.01.02', b'1970.01.02',\n",
       "       b'1970.01.02', b'1970.01.02', b'1970.01.02', b'1970.01.02',\n",
       "       b'1970.01.02', b'1970.01.02'], dtype='|S10')"
      ]
     },
     "execution_count": 5,
     "metadata": {},
     "output_type": "execute_result"
    }
   ],
   "source": [
    "arr['date']  # date starts in 1970"
   ]
  },
  {
   "cell_type": "code",
   "execution_count": 6,
   "metadata": {},
   "outputs": [],
   "source": [
    "arr = dset[-10:]  # get last 10 elements"
   ]
  },
  {
   "cell_type": "code",
   "execution_count": 7,
   "metadata": {},
   "outputs": [
    {
     "data": {
      "text/plain": [
       "array([b'2015.11.20', b'2015.11.20', b'2015.11.20', b'2015.11.20',\n",
       "       b'2015.11.20', b'2015.11.20', b'2015.11.20', b'2015.11.20',\n",
       "       b'2015.11.20', b'2015.11.20'], dtype='|S10')"
      ]
     },
     "execution_count": 7,
     "metadata": {},
     "output_type": "execute_result"
    }
   ],
   "source": [
    "arr['date']  # and ends in 2015"
   ]
  },
  {
   "cell_type": "code",
   "execution_count": 11,
   "metadata": {},
   "outputs": [
    {
     "name": "stdout",
     "output_type": "stream",
     "text": [
      "CPU times: user 92 ms, sys: 4 ms, total: 96 ms\n",
      "Wall time: 621 ms\n"
     ]
    }
   ],
   "source": [
    "# If we wanted to extract all stock quotes with the symbol AAPL\n",
    "# We could read the dataset in chunks and filter out anything \n",
    "# other than that symbol, but it would be rather slow\n",
    "#\n",
    "# More efficient is to use the dset query operator which can just \n",
    "# return rows matching the specification\n",
    "%time arr = dset.read_where(\"symbol == b'AAPL'\")"
   ]
  },
  {
   "cell_type": "code",
   "execution_count": 9,
   "metadata": {},
   "outputs": [
    {
     "data": {
      "text/plain": [
       "(8813,)"
      ]
     },
     "execution_count": 9,
     "metadata": {},
     "output_type": "execute_result"
    }
   ],
   "source": [
    "arr.shape"
   ]
  },
  {
   "cell_type": "code",
   "execution_count": 10,
   "metadata": {},
   "outputs": [
    {
     "data": {
      "text/plain": [
       "array([(b'1980.12.12', b'AAPL', 6, 0.436339  , 0.43823612, 0.436339, 1.172584e+08, 0.436339),\n",
       "       (b'1980.12.15', b'AAPL', 6, 0.41547114, 0.41547114, 0.413574, 4.397120e+07, 0.413574),\n",
       "       (b'1980.12.16', b'AAPL', 6, 0.38511714, 0.38511714, 0.38322 , 2.643200e+07, 0.38322 ),\n",
       "       (b'1980.12.17', b'AAPL', 6, 0.392705  , 0.39460212, 0.392705, 2.161040e+07, 0.392705),\n",
       "       (b'1980.12.18', b'AAPL', 6, 0.404088  , 0.40598512, 0.404088, 1.836240e+07, 0.404088)],\n",
       "      dtype=[('date', 'S10'), ('symbol', 'S4'), ('sector', 'i1'), ('open', '<f4'), ('high', '<f4'), ('low', '<f4'), ('volume', '<f4'), ('close', '<f4')])"
      ]
     },
     "execution_count": 10,
     "metadata": {},
     "output_type": "execute_result"
    }
   ],
   "source": [
    "arr[:5]"
   ]
  },
  {
   "cell_type": "markdown",
   "metadata": {},
   "source": [
    "Problem: Try with another snp500 symbol"
   ]
  }
 ],
 "metadata": {
  "kernelspec": {
   "display_name": "Python 3",
   "language": "python",
   "name": "python3"
  },
  "language_info": {
   "codemirror_mode": {
    "name": "ipython",
    "version": 3
   },
   "file_extension": ".py",
   "mimetype": "text/x-python",
   "name": "python",
   "nbconvert_exporter": "python",
   "pygments_lexer": "ipython3",
   "version": "3.6.3"
  }
 },
 "nbformat": 4,
 "nbformat_minor": 2
}

{
 "cells": [
  {
   "cell_type": "markdown",
   "metadata": {},
   "source": [
    "# Query Operations"
   ]
  },
  {
   "cell_type": "markdown",
   "metadata": {},
   "source": [
    "Objectives:\n",
    " * Learn how to use the query method for tabular datasets\n",
    " \n",
    "Note: this notebook only works with HDF Server!"
   ]
  },
  {
   "cell_type": "code",
   "execution_count": null,
   "metadata": {},
   "outputs": [],
   "source": [
    "%matplotlib inline\n",
    "import h5pyd\n",
    "import numpy as np\n",
    "import pandas as pd\n",
    "import matplotlib.pyplot as plt"
   ]
  },
  {
   "cell_type": "code",
   "execution_count": null,
   "metadata": {},
   "outputs": [],
   "source": [
    "# Open a file containing stock quote data\n",
    "f = h5pyd.File(\"hdf5://shared/sample/snp500.h5\", 'r')"
   ]
  },
  {
   "cell_type": "code",
   "execution_count": null,
   "metadata": {},
   "outputs": [],
   "source": [
    "dset = f[\"dset\"]\n",
    "type(dset)  # The Table class is a one-dimensional dataset with compound type"
   ]
  },
  {
   "cell_type": "code",
   "execution_count": null,
   "metadata": {},
   "outputs": [],
   "source": [
    "dset.nrows"
   ]
  },
  {
   "cell_type": "code",
   "execution_count": null,
   "metadata": {},
   "outputs": [],
   "source": [
    "# dtype is a list of field names and sub-types\n",
    "dset.dtype"
   ]
  },
  {
   "cell_type": "code",
   "execution_count": null,
   "metadata": {},
   "outputs": [],
   "source": [
    "# The date field starting in 1970\n",
    "arr = dset[:10]  # get first 10 elements\n",
    "arr['date']  # date starts in 1970"
   ]
  },
  {
   "cell_type": "code",
   "execution_count": null,
   "metadata": {},
   "outputs": [],
   "source": [
    "arr = dset[-10:]  # get last 10 elements\n",
    "arr['date']  # and ends in 2015"
   ]
  },
  {
   "cell_type": "code",
   "execution_count": null,
   "metadata": {},
   "outputs": [],
   "source": [
    "# If we wanted to extract all stock quotes with the symbol AAPL\n",
    "# We could read the dataset in chunks and filter out anything \n",
    "# other than that symbol, but it would be rather slow\n",
    "#\n",
    "# More efficient is to use the dset query operator which can just \n",
    "# return rows matching the specification\n",
    "symbol = \"AAPL\"\n",
    "%time arr = dset.read_where(f\"symbol == b'{symbol}'\")"
   ]
  },
  {
   "cell_type": "code",
   "execution_count": null,
   "metadata": {},
   "outputs": [],
   "source": [
    "arr.shape"
   ]
  },
  {
   "cell_type": "code",
   "execution_count": null,
   "metadata": {},
   "outputs": [],
   "source": [
    "# convert numpy result to Pandas dataframe\n",
    "df = pd.DataFrame(arr)\n",
    "df"
   ]
  },
  {
   "cell_type": "code",
   "execution_count": null,
   "metadata": {},
   "outputs": [],
   "source": [
    "# Calculate the 20 and 100 days moving averages of the closing prices\n",
    "close = df['close']\n",
    "short_rolling = close.rolling(window=20).mean()\n",
    "long_rolling = close.rolling(window=100).mean()\n",
    "\n",
    "# Plot everything by leveraging the very powerful matplotlib package\n",
    "fig, ax = plt.subplots(figsize=(16,9))\n",
    "\n",
    "ax.plot(close.index, close, label=symbol)\n",
    "ax.plot(short_rolling.index, short_rolling, label='20 days rolling')\n",
    "ax.plot(long_rolling.index, long_rolling, label='100 days rolling')\n",
    "\n",
    "ax.set_xlabel('Date')\n",
    "ax.set_ylabel('Adjusted closing price ($)')\n",
    "ax.legend()"
   ]
  },
  {
   "cell_type": "code",
   "execution_count": null,
   "metadata": {},
   "outputs": [],
   "source": [
    "df.describe()"
   ]
  },
  {
   "cell_type": "code",
   "execution_count": null,
   "metadata": {},
   "outputs": [],
   "source": [
    "# find the largest one day gain for any stock\n",
    "max_gain = 0.0\n",
    "target = None\n",
    "cursor = dset.create_cursor()\n",
    "for row in cursor:\n",
    "    gain = row[\"high\"] - row[\"low\"]\n",
    "    if gain > max_gain:\n",
    "        max_gain = gain\n",
    "        target = np.copy(row)\n",
    "print(\"largest gain:\")\n",
    "print(target)\n",
    "    "
   ]
  },
  {
   "cell_type": "code",
   "execution_count": null,
   "metadata": {},
   "outputs": [],
   "source": []
  }
 ],
 "metadata": {
  "kernelspec": {
   "display_name": "Python 3",
   "language": "python",
   "name": "python3"
  },
  "language_info": {
   "codemirror_mode": {
    "name": "ipython",
    "version": 3
   },
   "file_extension": ".py",
   "mimetype": "text/x-python",
   "name": "python",
   "nbconvert_exporter": "python",
   "pygments_lexer": "ipython3",
   "version": "3.6.3"
  }
 },
 "nbformat": 4,
 "nbformat_minor": 2
}

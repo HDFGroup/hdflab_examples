{
 "cells": [
  {
   "cell_type": "markdown",
   "metadata": {},
   "source": [
    "# Query Operations"
   ]
  },
  {
   "cell_type": "markdown",
   "metadata": {},
   "source": [
    "Objectives:\n",
    " * Learn how to use the query method for tabular datasets\n",
    " \n",
    "Note: this notebook only works with HDF Server!"
   ]
  },
  {
   "cell_type": "code",
   "execution_count": 1,
   "metadata": {},
   "outputs": [],
   "source": [
    "%matplotlib inline\n",
    "import h5pyd\n",
    "import numpy as np\n",
    "import pandas as pd\n",
    "import matplotlib.pyplot as plt"
   ]
  },
  {
   "cell_type": "code",
   "execution_count": 2,
   "metadata": {},
   "outputs": [],
   "source": [
    "# Open a file containing stock quote data\n",
    "f = h5pyd.File(\"/shared/sample/snp500.h5\", 'r')"
   ]
  },
  {
   "cell_type": "code",
   "execution_count": 3,
   "metadata": {},
   "outputs": [
    {
     "data": {
      "text/plain": [
       "h5pyd._hl.table.Table"
      ]
     },
     "execution_count": 3,
     "metadata": {},
     "output_type": "execute_result"
    }
   ],
   "source": [
    "dset = f[\"dset\"]\n",
    "type(dset)  # The Table class is a one-dimensional dataset with compound type"
   ]
  },
  {
   "cell_type": "code",
   "execution_count": 4,
   "metadata": {},
   "outputs": [
    {
     "data": {
      "text/plain": [
       "3207353"
      ]
     },
     "execution_count": 4,
     "metadata": {},
     "output_type": "execute_result"
    }
   ],
   "source": [
    "dset.nrows"
   ]
  },
  {
   "cell_type": "code",
   "execution_count": 5,
   "metadata": {},
   "outputs": [
    {
     "data": {
      "text/plain": [
       "dtype([('date', 'S10'), ('symbol', 'S4'), ('sector', 'i1'), ('open', '<f4'), ('high', '<f4'), ('low', '<f4'), ('volume', '<f4'), ('close', '<f4')])"
      ]
     },
     "execution_count": 5,
     "metadata": {},
     "output_type": "execute_result"
    }
   ],
   "source": [
    "# dtype is a list of field names and sub-types\n",
    "dset.dtype"
   ]
  },
  {
   "cell_type": "code",
   "execution_count": 6,
   "metadata": {},
   "outputs": [
    {
     "data": {
      "text/plain": [
       "array([b'1970.01.02', b'1970.01.02', b'1970.01.02', b'1970.01.02',\n",
       "       b'1970.01.02', b'1970.01.02', b'1970.01.02', b'1970.01.02',\n",
       "       b'1970.01.02', b'1970.01.02'], dtype='|S10')"
      ]
     },
     "execution_count": 6,
     "metadata": {},
     "output_type": "execute_result"
    }
   ],
   "source": [
    "# The date field starting in 1970\n",
    "arr = dset[:10]  # get first 10 elements\n",
    "arr['date']  # date starts in 1970"
   ]
  },
  {
   "cell_type": "code",
   "execution_count": 7,
   "metadata": {},
   "outputs": [
    {
     "data": {
      "text/plain": [
       "array([b'2015.11.20', b'2015.11.20', b'2015.11.20', b'2015.11.20',\n",
       "       b'2015.11.20', b'2015.11.20', b'2015.11.20', b'2015.11.20',\n",
       "       b'2015.11.20', b'2015.11.20'], dtype='|S10')"
      ]
     },
     "execution_count": 7,
     "metadata": {},
     "output_type": "execute_result"
    }
   ],
   "source": [
    "arr = dset[-10:]  # get last 10 elements\n",
    "arr['date']  # and ends in 2015"
   ]
  },
  {
   "cell_type": "code",
   "execution_count": 8,
   "metadata": {},
   "outputs": [
    {
     "name": "stdout",
     "output_type": "stream",
     "text": [
      "CPU times: user 148 ms, sys: 4 ms, total: 152 ms\n",
      "Wall time: 3.95 s\n"
     ]
    }
   ],
   "source": [
    "# If we wanted to extract all stock quotes with the symbol AAPL\n",
    "# We could read the dataset in chunks and filter out anything \n",
    "# other than that symbol, but it would be rather slow\n",
    "#\n",
    "# More efficient is to use the dset query operator which can just \n",
    "# return rows matching the specification\n",
    "symbol = \"AAPL\"\n",
    "%time arr = dset.read_where(f\"symbol == b'{symbol}'\")"
   ]
  },
  {
   "cell_type": "code",
   "execution_count": 9,
   "metadata": {},
   "outputs": [
    {
     "data": {
      "text/plain": [
       "(8813,)"
      ]
     },
     "execution_count": 9,
     "metadata": {},
     "output_type": "execute_result"
    }
   ],
   "source": [
    "arr.shape"
   ]
  },
  {
   "cell_type": "code",
   "execution_count": 10,
   "metadata": {},
   "outputs": [
    {
     "data": {
      "text/html": [
       "<div>\n",
       "<style scoped>\n",
       "    .dataframe tbody tr th:only-of-type {\n",
       "        vertical-align: middle;\n",
       "    }\n",
       "\n",
       "    .dataframe tbody tr th {\n",
       "        vertical-align: top;\n",
       "    }\n",
       "\n",
       "    .dataframe thead th {\n",
       "        text-align: right;\n",
       "    }\n",
       "</style>\n",
       "<table border=\"1\" class=\"dataframe\">\n",
       "  <thead>\n",
       "    <tr style=\"text-align: right;\">\n",
       "      <th></th>\n",
       "      <th>date</th>\n",
       "      <th>symbol</th>\n",
       "      <th>sector</th>\n",
       "      <th>open</th>\n",
       "      <th>high</th>\n",
       "      <th>low</th>\n",
       "      <th>volume</th>\n",
       "      <th>close</th>\n",
       "    </tr>\n",
       "  </thead>\n",
       "  <tbody>\n",
       "    <tr>\n",
       "      <td>0</td>\n",
       "      <td>b'1980.12.12'</td>\n",
       "      <td>b'AAPL'</td>\n",
       "      <td>6</td>\n",
       "      <td>0.436339</td>\n",
       "      <td>0.438236</td>\n",
       "      <td>0.436339</td>\n",
       "      <td>117258400.0</td>\n",
       "      <td>0.436339</td>\n",
       "    </tr>\n",
       "    <tr>\n",
       "      <td>1</td>\n",
       "      <td>b'1980.12.15'</td>\n",
       "      <td>b'AAPL'</td>\n",
       "      <td>6</td>\n",
       "      <td>0.415471</td>\n",
       "      <td>0.415471</td>\n",
       "      <td>0.413574</td>\n",
       "      <td>43971200.0</td>\n",
       "      <td>0.413574</td>\n",
       "    </tr>\n",
       "    <tr>\n",
       "      <td>2</td>\n",
       "      <td>b'1980.12.16'</td>\n",
       "      <td>b'AAPL'</td>\n",
       "      <td>6</td>\n",
       "      <td>0.385117</td>\n",
       "      <td>0.385117</td>\n",
       "      <td>0.383220</td>\n",
       "      <td>26432000.0</td>\n",
       "      <td>0.383220</td>\n",
       "    </tr>\n",
       "    <tr>\n",
       "      <td>3</td>\n",
       "      <td>b'1980.12.17'</td>\n",
       "      <td>b'AAPL'</td>\n",
       "      <td>6</td>\n",
       "      <td>0.392705</td>\n",
       "      <td>0.394602</td>\n",
       "      <td>0.392705</td>\n",
       "      <td>21610400.0</td>\n",
       "      <td>0.392705</td>\n",
       "    </tr>\n",
       "    <tr>\n",
       "      <td>4</td>\n",
       "      <td>b'1980.12.18'</td>\n",
       "      <td>b'AAPL'</td>\n",
       "      <td>6</td>\n",
       "      <td>0.404088</td>\n",
       "      <td>0.405985</td>\n",
       "      <td>0.404088</td>\n",
       "      <td>18362400.0</td>\n",
       "      <td>0.404088</td>\n",
       "    </tr>\n",
       "    <tr>\n",
       "      <td>...</td>\n",
       "      <td>...</td>\n",
       "      <td>...</td>\n",
       "      <td>...</td>\n",
       "      <td>...</td>\n",
       "      <td>...</td>\n",
       "      <td>...</td>\n",
       "      <td>...</td>\n",
       "      <td>...</td>\n",
       "    </tr>\n",
       "    <tr>\n",
       "      <td>8808</td>\n",
       "      <td>b'2015.11.16'</td>\n",
       "      <td>b'AAPL'</td>\n",
       "      <td>6</td>\n",
       "      <td>111.379997</td>\n",
       "      <td>114.239998</td>\n",
       "      <td>111.000000</td>\n",
       "      <td>37651000.0</td>\n",
       "      <td>114.180000</td>\n",
       "    </tr>\n",
       "    <tr>\n",
       "      <td>8809</td>\n",
       "      <td>b'2015.11.17'</td>\n",
       "      <td>b'AAPL'</td>\n",
       "      <td>6</td>\n",
       "      <td>114.919998</td>\n",
       "      <td>115.050003</td>\n",
       "      <td>113.320000</td>\n",
       "      <td>27254000.0</td>\n",
       "      <td>113.690002</td>\n",
       "    </tr>\n",
       "    <tr>\n",
       "      <td>8810</td>\n",
       "      <td>b'2015.11.18'</td>\n",
       "      <td>b'AAPL'</td>\n",
       "      <td>6</td>\n",
       "      <td>115.760002</td>\n",
       "      <td>117.489998</td>\n",
       "      <td>115.500000</td>\n",
       "      <td>46163400.0</td>\n",
       "      <td>117.290001</td>\n",
       "    </tr>\n",
       "    <tr>\n",
       "      <td>8811</td>\n",
       "      <td>b'2015.11.19'</td>\n",
       "      <td>b'AAPL'</td>\n",
       "      <td>6</td>\n",
       "      <td>117.639999</td>\n",
       "      <td>119.750000</td>\n",
       "      <td>116.760002</td>\n",
       "      <td>42908200.0</td>\n",
       "      <td>118.779999</td>\n",
       "    </tr>\n",
       "    <tr>\n",
       "      <td>8812</td>\n",
       "      <td>b'2015.11.20'</td>\n",
       "      <td>b'AAPL'</td>\n",
       "      <td>6</td>\n",
       "      <td>119.199997</td>\n",
       "      <td>119.919998</td>\n",
       "      <td>118.849998</td>\n",
       "      <td>34103500.0</td>\n",
       "      <td>119.300003</td>\n",
       "    </tr>\n",
       "  </tbody>\n",
       "</table>\n",
       "<p>8813 rows × 8 columns</p>\n",
       "</div>"
      ],
      "text/plain": [
       "               date   symbol  sector        open        high         low  \\\n",
       "0     b'1980.12.12'  b'AAPL'       6    0.436339    0.438236    0.436339   \n",
       "1     b'1980.12.15'  b'AAPL'       6    0.415471    0.415471    0.413574   \n",
       "2     b'1980.12.16'  b'AAPL'       6    0.385117    0.385117    0.383220   \n",
       "3     b'1980.12.17'  b'AAPL'       6    0.392705    0.394602    0.392705   \n",
       "4     b'1980.12.18'  b'AAPL'       6    0.404088    0.405985    0.404088   \n",
       "...             ...      ...     ...         ...         ...         ...   \n",
       "8808  b'2015.11.16'  b'AAPL'       6  111.379997  114.239998  111.000000   \n",
       "8809  b'2015.11.17'  b'AAPL'       6  114.919998  115.050003  113.320000   \n",
       "8810  b'2015.11.18'  b'AAPL'       6  115.760002  117.489998  115.500000   \n",
       "8811  b'2015.11.19'  b'AAPL'       6  117.639999  119.750000  116.760002   \n",
       "8812  b'2015.11.20'  b'AAPL'       6  119.199997  119.919998  118.849998   \n",
       "\n",
       "           volume       close  \n",
       "0     117258400.0    0.436339  \n",
       "1      43971200.0    0.413574  \n",
       "2      26432000.0    0.383220  \n",
       "3      21610400.0    0.392705  \n",
       "4      18362400.0    0.404088  \n",
       "...           ...         ...  \n",
       "8808   37651000.0  114.180000  \n",
       "8809   27254000.0  113.690002  \n",
       "8810   46163400.0  117.290001  \n",
       "8811   42908200.0  118.779999  \n",
       "8812   34103500.0  119.300003  \n",
       "\n",
       "[8813 rows x 8 columns]"
      ]
     },
     "execution_count": 10,
     "metadata": {},
     "output_type": "execute_result"
    }
   ],
   "source": [
    "# convert numpy result to Pandas dataframe\n",
    "df = pd.DataFrame(arr)\n",
    "df"
   ]
  },
  {
   "cell_type": "code",
   "execution_count": 11,
   "metadata": {},
   "outputs": [
    {
     "data": {
      "text/plain": [
       "<matplotlib.legend.Legend at 0x7f7aea217390>"
      ]
     },
     "execution_count": 11,
     "metadata": {},
     "output_type": "execute_result"
    },
    {
     "data": {
      "image/png": "[encoded data removed]",
      "text/plain": [
       "<Figure size 1152x648 with 1 Axes>"
      ]
     },
     "metadata": {
      "needs_background": "light"
     },
     "output_type": "display_data"
    }
   ],
   "source": [
    "# Calculate the 20 and 100 days moving averages of the closing prices\n",
    "close = df['close']\n",
    "short_rolling = close.rolling(window=20).mean()\n",
    "long_rolling = close.rolling(window=100).mean()\n",
    "\n",
    "# Plot everything by leveraging the very powerful matplotlib package\n",
    "fig, ax = plt.subplots(figsize=(16,9))\n",
    "\n",
    "ax.plot(close.index, close, label=symbol)\n",
    "ax.plot(short_rolling.index, short_rolling, label='20 days rolling')\n",
    "ax.plot(long_rolling.index, long_rolling, label='100 days rolling')\n",
    "\n",
    "ax.set_xlabel('Date')\n",
    "ax.set_ylabel('Adjusted closing price ($)')\n",
    "ax.legend()"
   ]
  },
  {
   "cell_type": "code",
   "execution_count": 12,
   "metadata": {},
   "outputs": [
    {
     "data": {
      "text/html": [
       "<div>\n",
       "<style scoped>\n",
       "    .dataframe tbody tr th:only-of-type {\n",
       "        vertical-align: middle;\n",
       "    }\n",
       "\n",
       "    .dataframe tbody tr th {\n",
       "        vertical-align: top;\n",
       "    }\n",
       "\n",
       "    .dataframe thead th {\n",
       "        text-align: right;\n",
       "    }\n",
       "</style>\n",
       "<table border=\"1\" class=\"dataframe\">\n",
       "  <thead>\n",
       "    <tr style=\"text-align: right;\">\n",
       "      <th></th>\n",
       "      <th>sector</th>\n",
       "      <th>open</th>\n",
       "      <th>high</th>\n",
       "      <th>low</th>\n",
       "      <th>volume</th>\n",
       "      <th>close</th>\n",
       "    </tr>\n",
       "  </thead>\n",
       "  <tbody>\n",
       "    <tr>\n",
       "      <td>count</td>\n",
       "      <td>8813.0</td>\n",
       "      <td>8813.000000</td>\n",
       "      <td>8813.000000</td>\n",
       "      <td>8813.000000</td>\n",
       "      <td>8.813000e+03</td>\n",
       "      <td>8813.000000</td>\n",
       "    </tr>\n",
       "    <tr>\n",
       "      <td>mean</td>\n",
       "      <td>6.0</td>\n",
       "      <td>14.867305</td>\n",
       "      <td>15.023249</td>\n",
       "      <td>14.692131</td>\n",
       "      <td>9.230663e+07</td>\n",
       "      <td>14.860061</td>\n",
       "    </tr>\n",
       "    <tr>\n",
       "      <td>std</td>\n",
       "      <td>0.0</td>\n",
       "      <td>28.502222</td>\n",
       "      <td>28.753155</td>\n",
       "      <td>28.215897</td>\n",
       "      <td>8.859472e+07</td>\n",
       "      <td>28.486750</td>\n",
       "    </tr>\n",
       "    <tr>\n",
       "      <td>min</td>\n",
       "      <td>6.0</td>\n",
       "      <td>0.168844</td>\n",
       "      <td>0.168844</td>\n",
       "      <td>0.166947</td>\n",
       "      <td>2.504000e+05</td>\n",
       "      <td>0.166947</td>\n",
       "    </tr>\n",
       "    <tr>\n",
       "      <td>25%</td>\n",
       "      <td>6.0</td>\n",
       "      <td>0.909832</td>\n",
       "      <td>0.926958</td>\n",
       "      <td>0.888549</td>\n",
       "      <td>3.725680e+07</td>\n",
       "      <td>0.908528</td>\n",
       "    </tr>\n",
       "    <tr>\n",
       "      <td>50%</td>\n",
       "      <td>6.0</td>\n",
       "      <td>1.410330</td>\n",
       "      <td>1.435624</td>\n",
       "      <td>1.382501</td>\n",
       "      <td>6.468000e+07</td>\n",
       "      <td>1.410330</td>\n",
       "    </tr>\n",
       "    <tr>\n",
       "      <td>75%</td>\n",
       "      <td>6.0</td>\n",
       "      <td>11.656223</td>\n",
       "      <td>11.867720</td>\n",
       "      <td>11.434086</td>\n",
       "      <td>1.150212e+08</td>\n",
       "      <td>11.697458</td>\n",
       "    </tr>\n",
       "    <tr>\n",
       "      <td>max</td>\n",
       "      <td>6.0</td>\n",
       "      <td>132.729172</td>\n",
       "      <td>132.808136</td>\n",
       "      <td>130.250366</td>\n",
       "      <td>1.855410e+09</td>\n",
       "      <td>131.380386</td>\n",
       "    </tr>\n",
       "  </tbody>\n",
       "</table>\n",
       "</div>"
      ],
      "text/plain": [
       "       sector         open         high          low        volume  \\\n",
       "count  8813.0  8813.000000  8813.000000  8813.000000  8.813000e+03   \n",
       "mean      6.0    14.867305    15.023249    14.692131  9.230663e+07   \n",
       "std       0.0    28.502222    28.753155    28.215897  8.859472e+07   \n",
       "min       6.0     0.168844     0.168844     0.166947  2.504000e+05   \n",
       "25%       6.0     0.909832     0.926958     0.888549  3.725680e+07   \n",
       "50%       6.0     1.410330     1.435624     1.382501  6.468000e+07   \n",
       "75%       6.0    11.656223    11.867720    11.434086  1.150212e+08   \n",
       "max       6.0   132.729172   132.808136   130.250366  1.855410e+09   \n",
       "\n",
       "             close  \n",
       "count  8813.000000  \n",
       "mean     14.860061  \n",
       "std      28.486750  \n",
       "min       0.166947  \n",
       "25%       0.908528  \n",
       "50%       1.410330  \n",
       "75%      11.697458  \n",
       "max     131.380386  "
      ]
     },
     "execution_count": 12,
     "metadata": {},
     "output_type": "execute_result"
    }
   ],
   "source": [
    "df.describe()"
   ]
  },
  {
   "cell_type": "code",
   "execution_count": 13,
   "metadata": {},
   "outputs": [
    {
     "name": "stdout",
     "output_type": "stream",
     "text": [
      "largest gain:\n",
      "(b'2000.04.04', b'LVLT', 8, 1483.125, 1486.875, 1065., 7208100., 1422.1875)\n"
     ]
    }
   ],
   "source": [
    "# find the largest one day gain for any stock\n",
    "max_gain = 0.0\n",
    "target = None\n",
    "cursor = dset.create_cursor()\n",
    "for row in cursor:\n",
    "    gain = row[\"high\"] - row[\"low\"]\n",
    "    if gain > max_gain:\n",
    "        max_gain = gain\n",
    "        target = np.copy(row)\n",
    "print(\"largest gain:\")\n",
    "print(target)\n",
    "    "
   ]
  },
  {
   "cell_type": "code",
   "execution_count": null,
   "metadata": {},
   "outputs": [],
   "source": []
  }
 ],
 "metadata": {
  "kernelspec": {
   "display_name": "Python 3",
   "language": "python",
   "name": "python3"
  },
  "language_info": {
   "codemirror_mode": {
    "name": "ipython",
    "version": 3
   },
   "file_extension": ".py",
   "mimetype": "text/x-python",
   "name": "python",
   "nbconvert_exporter": "python",
   "pygments_lexer": "ipython3",
   "version": "3.7.3"
  }
 },
 "nbformat": 4,
 "nbformat_minor": 4
}
